{
 "cells": [
  {
   "cell_type": "code",
   "execution_count": 78,
   "source": [
    "class ftn:\r\n",
    "    def __init__(self,num,links):\r\n",
    "        self.w,self.arr = num,num\r\n",
    "        self.maps = [[] for _ in range(len(links))]\r\n",
    "        self.tree = [[] for _ in range(len(links))]\r\n",
    "        self.ans,self.cnt = float('inf'),1\r\n",
    "        for idx,(a,b) in enumerate(links):\r\n",
    "            if a != -1:\r\n",
    "                self.maps[idx].append(a)\r\n",
    "                self.maps[a].append(idx)\r\n",
    "            if b != -1:\r\n",
    "                self.maps[idx].append(b)\r\n",
    "                self.maps[b].append(idx)\r\n",
    "    \r\n",
    "    def MT(self,pre,now):\r\n",
    "        for c in self.maps[now]:\r\n",
    "            if c != pre:\r\n",
    "                self.tree[now].append(c)\r\n",
    "                self.MT(now,c)\r\n",
    "    \r\n",
    "    def Count(self,idx):\r\n",
    "        for c in self.tree[idx]:\r\n",
    "            self.Count(c)\r\n",
    "            self.arr[idx] += self.arr[c]\r\n",
    "    \r\n",
    "    def find(self,idx,values):\r\n",
    "        if len(self.tree[idx]) == 0:\r\n",
    "            return self.w[idx]\r\n",
    "        else:\r\n",
    "            l = self.find(self.tree[idx][0],values)\r\n",
    "            r = 0 if len(self.tree[idx]) == 1 else self.find(self.tree[idx][1],values)\r\n",
    "            if l+r+self.w[idx] <= values:\r\n",
    "                return l+r+self.w[idx]\r\n",
    "            else:\r\n",
    "                self.cnt += 1\r\n",
    "                if l <= r:\r\n",
    "                    if l + self.w[idx] > values:\r\n",
    "                        self.cnt += 1\r\n",
    "                        return self.w[idx]\r\n",
    "                    else:\r\n",
    "                        return l + self.w[idx]\r\n",
    "                else:\r\n",
    "                    if r + self.w[idx] > values:\r\n",
    "                        self.cnt += 1\r\n",
    "                        return self.w[idx]\r\n",
    "                    else:\r\n",
    "                        return r + self.w[idx]\r\n",
    "\r\n",
    "\r\n",
    "def solution(k, num, links):\r\n",
    "    sol = ftn(num,links)\r\n",
    "    sol.MT(-1,0)\r\n",
    "\r\n",
    "    lt,rt = max(num),sum(num)\r\n",
    "    while lt<=rt:\r\n",
    "        mid = (lt+rt)//2\r\n",
    "        sol.cnt = 1\r\n",
    "        sol.find(0,mid)\r\n",
    "        print(sol.cnt)\r\n",
    "        if sol.cnt > k:\r\n",
    "            lt = mid + 1\r\n",
    "        else:\r\n",
    "            if sol.ans > mid:\r\n",
    "                sol.ans = mid\r\n",
    "            rt = mid - 1\r\n",
    "    print(sol.ans)"
   ],
   "outputs": [],
   "metadata": {}
  },
  {
   "cell_type": "code",
   "execution_count": 79,
   "source": [
    "solution(11,[12, 30, 1, 8, 8, 6, 20, 7, 5, 10, 4, 1],[[-1, -1], [-1, -1], [-1, -1], [-1, -1], [8, 5], [2, 10], [3, 0], [6, 1], [11, -1], [7, 4], [-1, -1], [-1, -1]])"
   ],
   "outputs": [
    {
     "output_type": "stream",
     "name": "stdout",
     "text": [
      "3\n",
      "3\n",
      "4\n",
      "5\n",
      "5\n",
      "5\n",
      "30\n"
     ]
    }
   ],
   "metadata": {}
  },
  {
   "cell_type": "code",
   "execution_count": 73,
   "source": [
    "print(solution(4, [3,2,5,4,1,4,3,3,5,2,2,3,1],[[1,2],[3,4],[5, -1],[6,7],[8,9],[10,-1],[-1,-1],[-1,-1],[-1,-1],[-1,-1],[-1,-1],[11,12],[-1,-1],[-1,-1]]), 10)"
   ],
   "outputs": [
    {
     "output_type": "stream",
     "name": "stdout",
     "text": [
      "10\n",
      "None 10\n"
     ]
    }
   ],
   "metadata": {}
  },
  {
   "cell_type": "code",
   "execution_count": 81,
   "source": [
    "solution(3,[31, 30, 30],[[1, 2], [-1, -1], [-1, -1]])"
   ],
   "outputs": [
    {
     "output_type": "stream",
     "name": "stdout",
     "text": [
      "2\n",
      "3\n",
      "3\n",
      "3\n",
      "3\n",
      "31\n"
     ]
    }
   ],
   "metadata": {}
  }
 ],
 "metadata": {
  "orig_nbformat": 4,
  "language_info": {
   "name": "python",
   "version": "3.8.5",
   "mimetype": "text/x-python",
   "codemirror_mode": {
    "name": "ipython",
    "version": 3
   },
   "pygments_lexer": "ipython3",
   "nbconvert_exporter": "python",
   "file_extension": ".py"
  },
  "kernelspec": {
   "name": "python3",
   "display_name": "Python 3.8.5 64-bit ('DH': conda)"
  },
  "interpreter": {
   "hash": "34039bfad4eb1e505f8576daa339440c181ec0abde8f20d178c0c32cf0e3d5ae"
  }
 },
 "nbformat": 4,
 "nbformat_minor": 2
}