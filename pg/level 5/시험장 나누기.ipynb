{
 "cells": [
  {
   "cell_type": "code",
   "execution_count": 78,
   "metadata": {},
   "outputs": [],
   "source": [
    "from sys import setrecursionlimit\n",
    "setrecursionlimit(10**9)\n",
    "\n",
    "class ftn:\n",
    "    def __init__(self,num,links):\n",
    "        self.w = num\n",
    "        self.maps = [[] for _ in range(len(links))]\n",
    "        self.tree = [[] for _ in range(len(links))]\n",
    "        self.cnt = 0\n",
    "        for idx,(a,b) in enumerate(links):\n",
    "            if a != -1:\n",
    "                self.maps[idx].append(a)\n",
    "                self.maps[a].append(idx)\n",
    "            if b != -1:\n",
    "                self.maps[idx].append(b)\n",
    "                self.maps[b].append(idx)\n",
    "    \n",
    "    def MT(self,pre,now): # 트리 만들기\n",
    "        for c in self.maps[now]:\n",
    "            if c != pre:\n",
    "                self.tree[now].append(c)\n",
    "                self.MT(now,c)\n",
    "    \n",
    "\n",
    "    def find(self,idx,values):\n",
    "        if len(self.tree[idx]) == 0:\n",
    "            l,r = 0,0\n",
    "        elif len(self.tree[idx]) == 1:\n",
    "            l,r = self.find(self.tree[idx][0],values),0\n",
    "        else:\n",
    "            l,r = self.find(self.tree[idx][0],values),self.find(self.tree[idx][1],values)\n",
    "\n",
    "        if l+r+self.w[idx] <= values: # 자신 + 왼 + 오 더한 것이 기준 이하면 다 더함\n",
    "            return l+r+self.w[idx]\n",
    "        else: # 한 번은 나눠야함\n",
    "            self.cnt += 1 \n",
    "            if l <= r: # 이왕 나눌거 작은 쪽이랑 붙임\n",
    "                if l + self.w[idx] > values: # 작은 거랑 붙였는데 기준 이상 >> cnt +=1 현재 값 리턴\n",
    "                    self.cnt += 1 \n",
    "                    return self.w[idx]\n",
    "                else:\n",
    "                    return l + self.w[idx] # 기준 이하 \n",
    "            else:\n",
    "                if r + self.w[idx] > values:\n",
    "                    self.cnt += 1\n",
    "                    return self.w[idx]\n",
    "                else:\n",
    "                    return r + self.w[idx]\n",
    "\n",
    "\n",
    "def solution(k, num, links):\n",
    "    \n",
    "    root = set(range(-1,len(num))) - set(sum(links,[]))\n",
    "    root = list(root)[0]\n",
    "    \n",
    "    sol = ftn(num,links)\n",
    "    sol.MT(-1,root)\n",
    "    lt,rt = max(num),sum(num)\n",
    "    while lt<=rt:\n",
    "        mid = (lt+rt)//2\n",
    "        sol.find(root,mid)\n",
    "        if sol.cnt > k-1:\n",
    "            lt = mid + 1\n",
    "        else:\n",
    "            rt = mid - 1\n",
    "        sol.cnt = 0\n",
    "            \n",
    "    return rt+1"
   ]
  },
  {
   "cell_type": "code",
   "execution_count": 79,
   "metadata": {},
   "outputs": [
    {
     "name": "stdout",
     "output_type": "stream",
     "text": [
      "3\n",
      "3\n",
      "4\n",
      "5\n",
      "5\n",
      "5\n",
      "30\n"
     ]
    }
   ],
   "source": [
    "solution(11,[12, 30, 1, 8, 8, 6, 20, 7, 5, 10, 4, 1],[[-1, -1], [-1, -1], [-1, -1], [-1, -1], [8, 5], [2, 10], [3, 0], [6, 1], [11, -1], [7, 4], [-1, -1], [-1, -1]])"
   ]
  },
  {
   "cell_type": "code",
   "execution_count": 73,
   "metadata": {},
   "outputs": [
    {
     "name": "stdout",
     "output_type": "stream",
     "text": [
      "10\n",
      "None 10\n"
     ]
    }
   ],
   "source": [
    "print(solution(4, [3,2,5,4,1,4,3,3,5,2,2,3,1],[[1,2],[3,4],[5, -1],[6,7],[8,9],[10,-1],[-1,-1],[-1,-1],[-1,-1],[-1,-1],[-1,-1],[11,12],[-1,-1],[-1,-1]]), 10)"
   ]
  },
  {
   "cell_type": "code",
   "execution_count": 81,
   "metadata": {},
   "outputs": [
    {
     "name": "stdout",
     "output_type": "stream",
     "text": [
      "2\n",
      "3\n",
      "3\n",
      "3\n",
      "3\n",
      "31\n"
     ]
    }
   ],
   "source": [
    "solution(3,[31, 30, 30],[[1, 2], [-1, -1], [-1, -1]])"
   ]
  }
 ],
 "metadata": {
  "interpreter": {
   "hash": "34039bfad4eb1e505f8576daa339440c181ec0abde8f20d178c0c32cf0e3d5ae"
  },
  "kernelspec": {
   "display_name": "Python 3.8.5 64-bit ('DH': conda)",
   "name": "python3"
  },
  "language_info": {
   "codemirror_mode": {
    "name": "ipython",
    "version": 3
   },
   "file_extension": ".py",
   "mimetype": "text/x-python",
   "name": "python",
   "nbconvert_exporter": "python",
   "pygments_lexer": "ipython3",
   "version": "3.8.5"
  },
  "orig_nbformat": 4
 },
 "nbformat": 4,
 "nbformat_minor": 2
}
