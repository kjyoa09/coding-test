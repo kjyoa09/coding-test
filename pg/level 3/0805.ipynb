{
 "cells": [
  {
   "cell_type": "markdown",
   "metadata": {},
   "source": [
    "순위"
   ]
  },
  {
   "cell_type": "code",
   "execution_count": null,
   "metadata": {},
   "outputs": [],
   "source": [
    "import heapq as hq\n",
    "def ftn(st,n,win,lose):\n",
    "    wcost,lcost = [float(\"INF\")] * n,[float(\"INF\")] * n\n",
    "    \n",
    "    wq,lq = [(1,st)],[(1,st)]\n",
    "    while wq:\n",
    "        c,s = hq.heappop(wq)\n",
    "        if wcost[s] > c:\n",
    "            wcost[s] = c\n",
    "            for e in win[s]:\n",
    "                if wcost[e] > c+1:\n",
    "                    hq.heappush(wq,(c+1,e))\n",
    "    while lq:\n",
    "        c,s = hq.heappop(lq)\n",
    "        if lcost[s] > c:\n",
    "            lcost[s] = c\n",
    "            for e in lose[s]:\n",
    "                if lcost[e] > c+1:\n",
    "                    hq.heappush(lq,(c+1,e))\n",
    "    return 1 if sum(True for l,w in zip(lcost,wcost) if l != float(\"INF\") or w != float(\"INF\")) == n else 0\n",
    "\n",
    "def solution(n, results):\n",
    "    win,lose = [[] for _ in range(n)],[[] for _ in range(n)]\n",
    "    for (w,l) in results:\n",
    "        win[w-1].append(l-1)\n",
    "        lose[l-1].append(w-1)\n",
    "    return sum(ftn(num,n,win,lose) for num in range(n))"
   ]
  },
  {
   "cell_type": "markdown",
   "metadata": {},
   "source": [
    "단어 변환"
   ]
  },
  {
   "cell_type": "code",
   "execution_count": null,
   "metadata": {},
   "outputs": [],
   "source": [
    "'''\n",
    "ans = float(\"INF\")\n",
    "def dfs(now,word,visited,target):\n",
    "    global ans\n",
    "    if now == target:\n",
    "        if ans > sum(visited):\n",
    "            ans = sum(visited)\n",
    "    else:\n",
    "        for idx,tmp in enumerate(word):\n",
    "            if visited[idx] == False and sum(True for x,y in zip(tmp,now) if x!=y) == 1:\n",
    "                visited[idx] = True\n",
    "                dfs(tmp,word,visited,target)\n",
    "                visited[idx] = False\n",
    "                \n",
    "def solution(begin, target, words):\n",
    "    if target not in words:\n",
    "        return 0\n",
    "    dfs(begin,words,[False] * len(words),target)\n",
    "    return ans\n",
    "'''\n",
    "import heapq as hq\n",
    "def solution(begin, target, words):\n",
    "    words.append(begin)\n",
    "    v = [[] for _ in range(len(words))]\n",
    "    Flag = True\n",
    "    for s in range(len(words)):\n",
    "        if words[s] == target:\n",
    "            Flag = False\n",
    "            t_idx = s\n",
    "        for e in range(len(words)):\n",
    "            if sum(True for x,y in zip(words[s],words[e]) if x!=y) == 1:\n",
    "                v[s].append(e)\n",
    "    if Flag:\n",
    "        return 0\n",
    "    cost = [float(\"INF\")] * len(words)\n",
    "    que = [(0,len(words) - 1)]\n",
    "    while que:\n",
    "        cnt,s = hq.heappop(que)\n",
    "        if cost[s] > cnt:\n",
    "            cost[s] = cnt\n",
    "            for e in v[s]:\n",
    "                if cost[e] > cnt + 1:\n",
    "                    hq.heappush(que,(cnt+1,e))\n",
    "    return cost[t_idx] if cost[t_idx] != float(\"INF\") else 0"
   ]
  },
  {
   "cell_type": "markdown",
   "metadata": {},
   "source": [
    "보석 쇼핑"
   ]
  },
  {
   "cell_type": "code",
   "execution_count": null,
   "metadata": {},
   "outputs": [],
   "source": [
    "from collections import defaultdict\n",
    "def solution(gems):\n",
    "    dic = defaultdict(int)\n",
    "    Len = len(set(gems))\n",
    "    lt,rt,ans = 0,0,[1,len(gems)]\n",
    "    while lt<=rt:\n",
    "        if len(dic) == Len:\n",
    "            if ans[1]-ans[0]+1 > rt-lt:\n",
    "                ans = [lt+1,rt]\n",
    "            if dic[gems[lt]] == 1:\n",
    "                del dic[gems[lt]]\n",
    "            else:\n",
    "                dic[gems[lt]] -= 1\n",
    "            lt += 1\n",
    "        else:\n",
    "            if rt < len(gems):\n",
    "                dic[gems[rt]] += 1        \n",
    "                rt += 1\n",
    "            else:\n",
    "                lt += 1\n",
    "    return ans"
   ]
  },
  {
   "cell_type": "markdown",
   "metadata": {},
   "source": [
    "셔틀버스"
   ]
  },
  {
   "cell_type": "code",
   "execution_count": null,
   "metadata": {},
   "outputs": [],
   "source": [
    "from collections import deque\n",
    "def ftn(s):\n",
    "    h,m = map(int,s.split(\":\"))\n",
    "    return h*60+m\n",
    "    \n",
    "def solution(n, t, m, timetable):\n",
    "    start = 9*60\n",
    "    que = deque(sorted([ftn(x) for x in timetable if ftn(x) <= start + n*t]))\n",
    "    \n",
    "    while n > 1:\n",
    "        cnt = 0\n",
    "        while que and cnt < m and que[0] <= start:\n",
    "            que.popleft()\n",
    "            cnt += 1\n",
    "        n -= 1\n",
    "        start += t\n",
    "    if len(que) == 0:\n",
    "        return \":\".join([\"0\"+x if len(x) == 1 else x for x in map(str,divmod(start,60))])\n",
    "    \n",
    "    while 1:\n",
    "        tmp = que.popleft()\n",
    "        m -= 1\n",
    "        if m == 0:\n",
    "            return \":\".join([\"0\"+x if len(x) == 1 else x for x in map(str,divmod(tmp-1,60))])\n",
    "\n",
    "        if len(que) == 0:\n",
    "            return \":\".join([\"0\"+x if len(x) == 1 else x for x in map(str,divmod(start,60))])"
   ]
  },
  {
   "cell_type": "markdown",
   "metadata": {},
   "source": [
    "2xn 타일링"
   ]
  },
  {
   "cell_type": "code",
   "execution_count": null,
   "metadata": {},
   "outputs": [],
   "source": [
    "def solution(n):\n",
    "    a,b = 1,2\n",
    "    for _ in range(n-2):\n",
    "        b,a = a+b,b\n",
    "    return b%1_000_000_007"
   ]
  },
  {
   "cell_type": "markdown",
   "metadata": {},
   "source": [
    "불량사용자"
   ]
  },
  {
   "cell_type": "code",
   "execution_count": null,
   "metadata": {},
   "outputs": [],
   "source": [
    "from collections import deque\n",
    "def ftn(st1,st2):\n",
    "    return 1 if len(st1) == len(st2) == sum(True if x==y or y == \"*\" else False for x,y in zip(st1,st2)) else 0\n",
    "\n",
    "def solution(user_id, banned_id):\n",
    "    ans = []\n",
    "    for b in banned_id:\n",
    "        if len(ans) == 0:\n",
    "            ans = [[x] for x in user_id if ftn(x,b) == 1]\n",
    "        else:\n",
    "            tmp = [x for x in user_id if ftn(x,b) == 1]\n",
    "            ans = [y + [x] for x in tmp for y in ans if x not in y]\n",
    "    tmp = deque(sorted([sorted(x) for x in ans if len(x) == len(banned_id)]))\n",
    "    ans = []\n",
    "    while tmp:\n",
    "        t = tmp.pop()\n",
    "        if len(ans) == 0 or ans[-1] != t:\n",
    "            ans.append(t)\n",
    "    return len(ans)"
   ]
  }
 ],
 "metadata": {
  "kernelspec": {
   "display_name": "Python 3",
   "language": "python",
   "name": "python3"
  },
  "language_info": {
   "codemirror_mode": {
    "name": "ipython",
    "version": 3
   },
   "file_extension": ".py",
   "mimetype": "text/x-python",
   "name": "python",
   "nbconvert_exporter": "python",
   "pygments_lexer": "ipython3",
   "version": "3.7.4"
  }
 },
 "nbformat": 4,
 "nbformat_minor": 2
}
