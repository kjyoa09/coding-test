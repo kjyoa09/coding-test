{
 "cells": [
  {
   "cell_type": "markdown",
   "source": [
    "자물쇠와 열쇠"
   ],
   "metadata": {}
  },
  {
   "cell_type": "code",
   "execution_count": null,
   "source": [
    "class ftn:\r\n",
    "    def __init__(self,key,lock):\r\n",
    "        self.key = key\r\n",
    "        self.lock = lock\r\n",
    "        \r\n",
    "        self.K = len(key)        \r\n",
    "        self.L = len(lock)\r\n",
    "\r\n",
    "    def rotate(self):\r\n",
    "        self.key = list(map(list,zip(*self.key[::-1])))\r\n",
    "\r\n",
    "    def padding(self):\r\n",
    "        pad = [[1] * (self.L + 2*(self.K-1)) for _ in range(self.K-1)]\r\n",
    "        self.lock = pad + [[1] * (self.K-1) + x + [1] * (self.K-1) for x in self.lock] + pad\r\n",
    "    \r\n",
    "    def check(self,r,c):\r\n",
    "        tmp = [x[:] for x in self.lock]\r\n",
    "        for rr in range(self.K):\r\n",
    "            for cc in range(self.K):\r\n",
    "                tmp[r+rr][c+cc] = 1 if self.key[rr][cc] != tmp[r+rr][c+cc] else 0\r\n",
    "        tmp = [tmp[h+self.K-1][self.K-1:self.K+self.L-1] for h in range(self.L)]\r\n",
    "        return [x for y in tmp for x in y]\r\n",
    "    \r\n",
    "    def move(self):\r\n",
    "        self.M = [(r,c) for r in range(len(self.lock)-self.K+1) for c in range(len(self.lock)-self.K+1)]\r\n",
    "\r\n",
    "\r\n",
    "def solution(key, lock):\r\n",
    "    sol = ftn(key,lock)\r\n",
    "    sol.padding()\r\n",
    "    sol.move()\r\n",
    "    \r\n",
    "    for _ in range(4):\r\n",
    "        for (r,c) in sol.M:\r\n",
    "            if all(sol.check(r,c)):\r\n",
    "                return True\r\n",
    "        sol.rotate()\r\n",
    "    else:\r\n",
    "        return False"
   ],
   "outputs": [],
   "metadata": {}
  },
  {
   "cell_type": "markdown",
   "source": [
    "다단계 칫솔 판매"
   ],
   "metadata": {}
  },
  {
   "cell_type": "code",
   "execution_count": 1,
   "source": [
    "def solution(enroll, referral, seller, amount):\r\n",
    "    path = {\"-\":[\"-\"]}\r\n",
    "    \r\n",
    "    for en,re in zip(enroll,referral):\r\n",
    "        path[en] = [en] + path[re]\r\n",
    "    ans = {k:0 for k in path.keys()}\r\n",
    "    \r\n",
    "    for se,amt in zip(seller,amount):\r\n",
    "        amt *= 100\r\n",
    "        for v in path[se]:\r\n",
    "            ans[v] += amt - amt//10\r\n",
    "            amt = amt//10\r\n",
    "            if amt == 0:\r\n",
    "                break\r\n",
    "    return [ans[en] for en in enroll]"
   ],
   "outputs": [],
   "metadata": {}
  },
  {
   "cell_type": "markdown",
   "source": [
    "경주로 건설"
   ],
   "metadata": {}
  },
  {
   "cell_type": "code",
   "execution_count": null,
   "source": [
    "import sys\r\n",
    "sys.setrecursionlimit(10**8)\r\n",
    "\r\n",
    "class ftn:\r\n",
    "    def __init__(self,x):\r\n",
    "        self.board = x\r\n",
    "\r\n",
    "        self.L = len(x)\r\n",
    "        \r\n",
    "        # self.check = [[True] * self.L for _ in range(self.L)]\r\n",
    "        # self.check[0][0] = False\r\n",
    "        \r\n",
    "        self.dic = {}\r\n",
    "        self.ans = float(\"INF\")\r\n",
    "        \r\n",
    "        self.dx = [0,1,0,-1]\r\n",
    "        self.dy = [1,0,-1,0]\r\n",
    "        \r\n",
    "    def dfs(self,r,c,pay,direct = -1):\r\n",
    "        if r == c == self.L - 1:\r\n",
    "            if self.ans > pay:\r\n",
    "                self.ans = pay\r\n",
    "            return \r\n",
    "        elif self.ans < pay:\r\n",
    "            return\r\n",
    "        else:\r\n",
    "            for idx in range(4):\r\n",
    "                px,py = r + self.dx[idx], c + self.dy[idx]\r\n",
    "                if 0 <= px < self.L and 0 <= py < self.L and self.board[px][py] == 0:\r\n",
    "                    p = pay + 100 if direct == -1 or direct == idx else pay + 600\r\n",
    "                    if (px,py,idx) not in self.dic or self.dic[(px,py,idx)] > p:\r\n",
    "                        self.dic[(px,py,idx)] = p\r\n",
    "                        self.dfs(px,py,p,idx)\r\n",
    "def solution(board):\r\n",
    "    sol = ftn(board)\r\n",
    "    sol.dfs(0,0,0)\r\n",
    "    return sol.ans"
   ],
   "outputs": [],
   "metadata": {}
  },
  {
   "cell_type": "markdown",
   "source": [
    "합승 택시 요금"
   ],
   "metadata": {}
  },
  {
   "cell_type": "code",
   "execution_count": null,
   "source": [
    "def solution(n, s, a, b, fares):\r\n",
    "    maps= [[float(\"INF\")] * n for _ in range(n)]\r\n",
    "    for start,end,c in fares:\r\n",
    "        maps[start-1][end-1] = c\r\n",
    "        maps[end-1][start-1] = c\r\n",
    "    for num in range(n):\r\n",
    "        maps[num][num] = 0\r\n",
    "    for v in range(n):\r\n",
    "        for r in range(n):\r\n",
    "            for c in range(n):\r\n",
    "                if maps[r][c] > maps[r][v] + maps[v][c]:\r\n",
    "                    maps[r][c] = maps[r][v] + maps[v][c]\r\n",
    "                    \r\n",
    "    return min(maps[s-1][v]+ maps[v][a-1] + maps[v][b-1] for v in range(n))"
   ],
   "outputs": [],
   "metadata": {}
  },
  {
   "cell_type": "markdown",
   "source": [
    "이중 우선 순위 큐"
   ],
   "metadata": {}
  },
  {
   "cell_type": "code",
   "execution_count": null,
   "source": [
    "import heapq as hq\r\n",
    "def solution(operations):\r\n",
    "    arr = [False] * 1000000\r\n",
    "    maxh,minh,cnt = [],[],0\r\n",
    "\r\n",
    "    for op in operations:\r\n",
    "        c,num = op.split(\" \")\r\n",
    "        if c == \"I\":\r\n",
    "            hq.heappush(maxh,(-int(num),cnt))\r\n",
    "            hq.heappush(minh,(int(num),cnt))\r\n",
    "            arr[cnt] = True\r\n",
    "            cnt += 1\r\n",
    "        else:\r\n",
    "            if num == '-1':\r\n",
    "                while minh and arr[minh[0][1]] == False: hq.heappop(minh)\r\n",
    "                if minh : arr[hq.heappop(minh)[1]] = False\r\n",
    "            else:\r\n",
    "                while maxh and arr[maxh[0][1]] == False: hq.heappop(maxh)\r\n",
    "                if maxh : arr[hq.heappop(maxh)[1]] = False\r\n",
    "\r\n",
    "    while minh and arr[minh[0][1]] == False: hq.heappop(minh)\r\n",
    "    while maxh and arr[maxh[0][1]] == False: hq.heappop(maxh)\r\n",
    "\r\n",
    "    return [0,0] if len(maxh) == len(minh) == 0 else [-hq.heappop(maxh)[0],hq.heappop(minh)[0]]"
   ],
   "outputs": [],
   "metadata": {}
  },
  {
   "cell_type": "markdown",
   "source": [
    "등굣길"
   ],
   "metadata": {}
  },
  {
   "cell_type": "code",
   "execution_count": null,
   "source": [
    "def solution(m, n, puddles):\r\n",
    "    maps = [[0] * m for _ in range(n)]\r\n",
    "    \r\n",
    "    for r in range(n):\r\n",
    "        for c in range(m):\r\n",
    "            if [c+1,r+1] in puddles:\r\n",
    "                continue\r\n",
    "            elif r==c==0:\r\n",
    "                maps[r][c] = 1\r\n",
    "            elif r == 0:\r\n",
    "                maps[r][c] = maps[r][c-1]\r\n",
    "            elif c == 0:\r\n",
    "                maps[r][c] = maps[r-1][c]\r\n",
    "            else:\r\n",
    "                maps[r][c] = maps[r-1][c] + maps[r][c-1]\r\n",
    "\r\n",
    "    return maps[-1][-1] % 1_000_000_007"
   ],
   "outputs": [],
   "metadata": {}
  },
  {
   "cell_type": "markdown",
   "source": [
    "여행경로"
   ],
   "metadata": {}
  },
  {
   "cell_type": "code",
   "execution_count": null,
   "source": [
    "from collections import defaultdict\r\n",
    "class ftn:\r\n",
    "    def __init__(self,x):\r\n",
    "        self.arr = x\r\n",
    "        self.dic = defaultdict(list)\r\n",
    "        self.ch = [True] * len(self.arr)\r\n",
    "        self.ans = []\r\n",
    "        \r\n",
    "    def make_dic(self):\r\n",
    "        tmp = self.arr\r\n",
    "        for idx,[s,e] in enumerate(tmp):\r\n",
    "            self.dic[s].append((e,idx))\r\n",
    "        \r\n",
    "        for k in self.dic.keys():\r\n",
    "            self.dic[k] = sorted(self.dic[k])\r\n",
    "        \r\n",
    "    def dfs(self,st,tmp):        \r\n",
    "        if len(tmp) == len(self.arr) +1 :\r\n",
    "            self.ans.append(tmp)\r\n",
    "            return tmp\r\n",
    "        else:\r\n",
    "            for e,idx in self.dic[st]:\r\n",
    "                if self.ch[idx]:\r\n",
    "                    self.ch[idx] = False\r\n",
    "                    self.dfs(e,tmp+[e])\r\n",
    "                    self.ch[idx] = True\r\n",
    "\r\n",
    "def solution(tickets):\r\n",
    "    sol = ftn(tickets)\r\n",
    "    sol.make_dic()\r\n",
    "    A = sol.dfs('ICN',['ICN'])\r\n",
    "    print(A)\r\n",
    "    return sol.ans[0]"
   ],
   "outputs": [],
   "metadata": {}
  }
 ],
 "metadata": {
  "orig_nbformat": 4,
  "language_info": {
   "name": "python"
  }
 },
 "nbformat": 4,
 "nbformat_minor": 2
}