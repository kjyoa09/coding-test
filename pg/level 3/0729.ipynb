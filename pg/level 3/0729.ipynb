{
 "cells": [
  {
   "cell_type": "markdown",
   "metadata": {},
   "source": [
    "추석 트래픽"
   ]
  },
  {
   "cell_type": "code",
   "execution_count": null,
   "metadata": {},
   "outputs": [],
   "source": [
    "import heapq as hq\n",
    "def toint(s):\n",
    "    tmp = s.split(\":\")\n",
    "    return int(sum(x*y for x,y in zip([3600*1000,60*1000,1000],map(float,s.split(\":\")))))\n",
    "\n",
    "def find(s,arr):\n",
    "    return sum(True for x in arr if x[0]<= s <= x[1] or s <= x[0] <= s+999 or s <= x[1] <= s+999)\n",
    "\n",
    "def solution(lines):\n",
    "    tmp = []\n",
    "    \n",
    "    for l in lines:\n",
    "        _,e,s = l.split(\" \")\n",
    "        e = toint(e)\n",
    "        s = e - int(float(s[:-1])*1000)+1\n",
    "        tmp.append((s,e))\n",
    "    ans = 0\n",
    "    return max(find(x[1],tmp) for x in tmp)"
   ]
  },
  {
   "cell_type": "markdown",
   "metadata": {},
   "source": [
    "가장 먼 노드"
   ]
  },
  {
   "cell_type": "code",
   "execution_count": null,
   "metadata": {},
   "outputs": [],
   "source": [
    "import heapq as hq\n",
    "def solution(n, edge):\n",
    "    v = [[] for _ in range(n+1)]\n",
    "    for x,y in edge:\n",
    "        v[x].append(y)\n",
    "        v[y].append(x)\n",
    "    cost = [float(\"INF\")] * (n+1)\n",
    "    que = [(0,1)]\n",
    "    while que:\n",
    "        co,start = hq.heappop(que)\n",
    "        if cost[start] > co:\n",
    "            cost[start] = co\n",
    "            for end in v[start]:\n",
    "                if co+1 < cost[end]:\n",
    "                    hq.heappush(que,(co+1,end))\n",
    "    cost.pop(0)\n",
    "    return sum(True for x in cost if x == max(cost))"
   ]
  },
  {
   "cell_type": "markdown",
   "metadata": {},
   "source": [
    "입국심사"
   ]
  },
  {
   "cell_type": "code",
   "execution_count": null,
   "metadata": {},
   "outputs": [],
   "source": [
    "def solution(n, times):\n",
    "    times.sort()\n",
    "    lt,rt = 0,times[-1] * n\n",
    "    ans = float(\"INF\")\n",
    "    while lt <= rt:\n",
    "        mid = (lt+rt)//2\n",
    "        if sum(mid//x for x in times) >= n:\n",
    "            rt = mid - 1\n",
    "            if ans > mid:\n",
    "                ans = mid\n",
    "        else:\n",
    "            lt = mid + 1\n",
    "    return ans"
   ]
  },
  {
   "cell_type": "markdown",
   "metadata": {},
   "source": [
    "N으로 표현"
   ]
  },
  {
   "cell_type": "code",
   "execution_count": null,
   "metadata": {},
   "outputs": [],
   "source": [
    "from collections import deque\n",
    "\n",
    "def ftn(x,y):\n",
    "    tmp = [x+y,x-y,x*y,x/y,y-x,y/x]\n",
    "    return [int(x) for x in tmp if 0 < x and x%1 == 0]\n",
    "\n",
    "def solution(N, number):\n",
    "    dic = {cnt : set([int(str(N)*cnt)]) for cnt in range(1,9)};ans = {int(str(N)*cnt) : cnt for cnt in range(1,9)}\n",
    "    for cnt in range(1,9):\n",
    "        tmp = dic[cnt]\n",
    "        for num in range(1,cnt):\n",
    "            if cnt-num < num:\n",
    "                break\n",
    "            else:\n",
    "                for x in dic[cnt-num]:\n",
    "                    que = [ftn(x,y) for y in dic[num]]\n",
    "                    que = deque([x for y in que for x in y])\n",
    "                    while que:\n",
    "                        xx = que.pop()\n",
    "                        if xx not in ans:\n",
    "                            ans[xx] = cnt\n",
    "                            tmp.add(xx)\n",
    "        if number in ans:\n",
    "            return ans[number]\n",
    "        dic[cnt] = tmp\n",
    "    return -1"
   ]
  },
  {
   "cell_type": "markdown",
   "metadata": {},
   "source": [
    "네트워크"
   ]
  },
  {
   "cell_type": "code",
   "execution_count": null,
   "metadata": {},
   "outputs": [],
   "source": [
    "from collections import Counter \n",
    "def solution(n, computers):\n",
    "    arr = list(range(n))\n",
    "    \n",
    "    def find(x):\n",
    "        if arr[x] != x:\n",
    "            arr[x] = find(arr[x])\n",
    "        return arr[x]\n",
    "    \n",
    "    def union(x,y):\n",
    "        xx,yy = find(x),find(y)\n",
    "        if yy > xx:\n",
    "            arr[yy] = find(arr[x])\n",
    "            find(y)\n",
    "        else:\n",
    "            arr[xx] = find(arr[y])\n",
    "            find(x)\n",
    "                \n",
    "    for x,com in enumerate(computers):\n",
    "        for y,v in enumerate(com):\n",
    "            if v == 1 and x!=y:\n",
    "                union(x,y)\n",
    "    return len(Counter([find(x) for x in range(n)]))"
   ]
  },
  {
   "cell_type": "markdown",
   "metadata": {},
   "source": [
    "정수 삼각형"
   ]
  },
  {
   "cell_type": "code",
   "execution_count": null,
   "metadata": {},
   "outputs": [],
   "source": [
    "def solution(triangle):\n",
    "    std = triangle.pop()\n",
    "    for ne in triangle[::-1]:\n",
    "        std = [max(std[idx],std[idx+1]) + value  for idx,value in enumerate(ne)]\n",
    "    return std[0]"
   ]
  },
  {
   "cell_type": "markdown",
   "metadata": {},
   "source": [
    "디스크 컨트롤러"
   ]
  },
  {
   "cell_type": "code",
   "execution_count": null,
   "metadata": {},
   "outputs": [],
   "source": [
    "import heapq as hq\n",
    "from collections import deque\n",
    "def solution(jobs):\n",
    "    N = len(jobs)\n",
    "    jobs = deque(sorted(jobs,key = lambda x:(x[0],x[1])))\n",
    "    time, ans =  0, 0\n",
    "    que = []\n",
    "    while 1:\n",
    "        while len(jobs) > 0 and jobs[0][0] <= time:\n",
    "            s,t = jobs.popleft()\n",
    "            hq.heappush(que,(t,s))\n",
    "        \n",
    "        if  len(que) > 0:\n",
    "            t,s = hq.heappop(que)\n",
    "            time += t\n",
    "            ans += (time-s)\n",
    "        \n",
    "        elif len(jobs) > 0:\n",
    "            s,t = jobs.popleft()\n",
    "            time = s + t\n",
    "            ans += t\n",
    "            \n",
    "        else :\n",
    "            while que:\n",
    "                t,s = hq.heappop(que)\n",
    "                time += t\n",
    "                ans += (time-s)\n",
    "            break\n",
    "    return ans//N"
   ]
  }
 ],
 "metadata": {
  "kernelspec": {
   "display_name": "Python 3",
   "language": "python",
   "name": "python3"
  },
  "language_info": {
   "codemirror_mode": {
    "name": "ipython",
    "version": 3
   },
   "file_extension": ".py",
   "mimetype": "text/x-python",
   "name": "python",
   "nbconvert_exporter": "python",
   "pygments_lexer": "ipython3",
   "version": "3.8.3"
  }
 },
 "nbformat": 4,
 "nbformat_minor": 4
}
