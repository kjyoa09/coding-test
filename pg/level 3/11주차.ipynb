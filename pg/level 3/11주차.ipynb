{
 "cells": [
  {
   "cell_type": "code",
   "execution_count": 76,
   "metadata": {},
   "outputs": [],
   "source": [
    "from collections import deque\n",
    "\n",
    "def find(maps,st,en):\n",
    "    D = [(0,1),(1,0),(0,-1),(-1,0)] # R,D,L,U\n",
    "\n",
    "    que = deque([st])\n",
    "    cnt = 0\n",
    "    while que:\n",
    "        x,y = que.popleft()\n",
    "        d = D[maps[x][y]]\n",
    "        px,py = x+d[0],y+d[1]\n",
    "        cnt += 1\n",
    "        if (px,py) == en:\n",
    "            return cnt\n",
    "        else:\n",
    "            que.append((px,py))\n",
    "\n",
    "def solution(rectangle, characterX, characterY, itemX, itemY):\n",
    "    \n",
    "    maps = [[4] * 50 for _ in range(50)]\n",
    "\n",
    "    \n",
    "    for llx,lly,rux,ruy in rectangle:\n",
    "        lly,ruy = 50-lly,50-ruy\n",
    "        \n",
    "        for x in range(llx+1,rux):\n",
    "            maps[ruy][x] = 0 if maps[ruy][x] == 4 or maps[ruy][x] == 1 else maps[ruy][x] \n",
    "            maps[lly][x] = 2 if maps[lly][x] == 4 or maps[lly][x] == 3 else maps[lly][x]\n",
    "\n",
    "        maps[ruy][llx] = 0 if maps[ruy][llx] == 4 or maps[ruy][llx] == 1 else maps[ruy][llx] \n",
    "        maps[lly][rux] = 2 if maps[lly][rux] == 4 or maps[lly][rux] == 3 else maps[lly][rux]\n",
    "        \n",
    "        for y in range(ruy+1,lly):\n",
    "            maps[y][llx] = 3 if maps[y][llx] == 4 or maps[y][llx] == 0 else maps[y][llx]\n",
    "            maps[y][rux] = 1 if maps[y][rux] == 4 or maps[y][rux] == 2 else maps[y][rux]\n",
    "\n",
    "        maps[ruy][rux] = 1 if maps[ruy][rux] == 4 or maps[ruy][rux] == 2 else maps[ruy][rux]\n",
    "        maps[lly][llx] = 3 if maps[lly][llx] == 4 or maps[lly][llx] == 0 else maps[lly][llx]\n",
    "\n",
    "    print(find(maps,(50-characterY,characterX), (50-itemY,itemX)),find(maps,(50-itemY,itemX),(50-characterY,characterX)))\n",
    "\n"
   ]
  },
  {
   "cell_type": "code",
   "execution_count": 77,
   "metadata": {},
   "outputs": [
    {
     "name": "stdout",
     "output_type": "stream",
     "text": [
      "17 19\n"
     ]
    }
   ],
   "source": [
    "solution([[1,1,7,4],[3,2,5,5],[4,3,6,9],[2,6,8,8]],1,3,7,8)"
   ]
  }
 ],
 "metadata": {
  "interpreter": {
   "hash": "b3ba2566441a7c06988d0923437866b63cedc61552a5af99d1f4fb67d367b25f"
  },
  "kernelspec": {
   "display_name": "Python 3.8.3 64-bit ('base': conda)",
   "name": "python3"
  },
  "language_info": {
   "codemirror_mode": {
    "name": "ipython",
    "version": 3
   },
   "file_extension": ".py",
   "mimetype": "text/x-python",
   "name": "python",
   "nbconvert_exporter": "python",
   "pygments_lexer": "ipython3",
   "version": "3.8.3"
  },
  "orig_nbformat": 4
 },
 "nbformat": 4,
 "nbformat_minor": 2
}
