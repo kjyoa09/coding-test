{
 "cells": [
  {
   "cell_type": "markdown",
   "source": [
    "스티커 모으기(2)"
   ],
   "metadata": {}
  },
  {
   "cell_type": "code",
   "execution_count": null,
   "source": [
    "def solution(sticker):\r\n",
    "    if len(sticker) == 1:\r\n",
    "        return sticker[0]\r\n",
    "    \r\n",
    "    a,b = sticker[0],0\r\n",
    "    for s in sticker[1:-1]:\r\n",
    "        a,b = b+s,max(a,b)\r\n",
    "        \r\n",
    "    c,d = sticker[1],0    \r\n",
    "    for s in sticker[2:]:\r\n",
    "        c,d = d+s,max(c,d)\r\n",
    "    \r\n",
    "    return max(a,b,c,d)"
   ],
   "outputs": [],
   "metadata": {}
  },
  {
   "cell_type": "markdown",
   "source": [
    "거스름돈"
   ],
   "metadata": {}
  },
  {
   "cell_type": "code",
   "execution_count": null,
   "source": [
    "def solution(n, money):\r\n",
    "    arr = [1] + [0]*n\r\n",
    "    for m in money:\r\n",
    "        for i in range(m, n+1):\r\n",
    "            arr[i] += arr[i-m]\r\n",
    "    return arr[-1]"
   ],
   "outputs": [],
   "metadata": {}
  },
  {
   "cell_type": "markdown",
   "source": [
    "멀리뛰기"
   ],
   "metadata": {}
  },
  {
   "cell_type": "code",
   "execution_count": null,
   "source": [
    "def solution(n):\r\n",
    "    if n == 1:\r\n",
    "        return 1\r\n",
    "    a,b = 1,2\r\n",
    "    for n in range(n-2):\r\n",
    "        b,a = a+b,b\r\n",
    "    return b%1234567"
   ],
   "outputs": [],
   "metadata": {}
  },
  {
   "cell_type": "markdown",
   "source": [
    "야근지수"
   ],
   "metadata": {}
  },
  {
   "cell_type": "code",
   "execution_count": null,
   "source": [
    "import heapq as hq\r\n",
    "def solution(n, works):\r\n",
    "    works = [-1*x for x in works]\r\n",
    "    hq.heapify(works)\r\n",
    "    while n:\r\n",
    "        tmp = hq.heappop(works)\r\n",
    "        if tmp == 0:\r\n",
    "            return 0\r\n",
    "        else:\r\n",
    "            hq.heappush(works,tmp + 1)\r\n",
    "            n-=1\r\n",
    "    return sum(x**2 for x in works)"
   ],
   "outputs": [],
   "metadata": {}
  },
  {
   "cell_type": "markdown",
   "source": [
    "줄 서는 방법"
   ],
   "metadata": {}
  },
  {
   "cell_type": "code",
   "execution_count": null,
   "source": [
    "class ftn:\r\n",
    "    def __init__(self,n):\r\n",
    "        self.n = n\r\n",
    "        self.arr = list(range(1,n+1))\r\n",
    "        self.fact = [1]\r\n",
    "\r\n",
    "        for num in range(2,21):\r\n",
    "            self.fact.append(self.fact[-1] * num)\r\n",
    "        self.ans = []\r\n",
    "        \r\n",
    "    def find(self,k):\r\n",
    "\r\n",
    "        if k == 1:\r\n",
    "            self.ans.extend(self.arr)\r\n",
    "        else:\r\n",
    "            cnt,idx = 0,0\r\n",
    "            while 1:\r\n",
    "                if cnt + self.fact[self.n-2] < k:\r\n",
    "                    cnt += self.fact[self.n-2]\r\n",
    "                    idx += 1\r\n",
    "                else:\r\n",
    "                    self.ans.append(self.arr[idx])\r\n",
    "                    del self.arr[idx]\r\n",
    "                    self.n -= 1\r\n",
    "                    break\r\n",
    "            \r\n",
    "            self.find(k - cnt)       \r\n",
    "            \r\n",
    "def solution(n, k):\r\n",
    "    sol = ftn(n)\r\n",
    "    sol.find(k)\r\n",
    "    return sol.ans"
   ],
   "outputs": [],
   "metadata": {}
  },
  {
   "cell_type": "markdown",
   "source": [
    "최고의 집합"
   ],
   "metadata": {}
  },
  {
   "cell_type": "code",
   "execution_count": null,
   "source": [
    "def solution(n, s):\r\n",
    "    return [s//n for _ in range(n-s%n)] + [s//n+1 for _ in range(s%n)] if s//n else [-1]"
   ],
   "outputs": [],
   "metadata": {}
  },
  {
   "cell_type": "markdown",
   "source": [
    "하노이의 탑\r\n",
    "\r\n",
    "https://shoark7.github.io/programming/algorithm/tower-of-hanoi\r\n",
    "\r\n",
    "\r\n",
    "하라는대로 했는데 이해 안감"
   ],
   "metadata": {}
  },
  {
   "cell_type": "code",
   "execution_count": null,
   "source": [
    "ans = []\r\n",
    "def ftn(N,st = 1, en = 3, vi = 2):\r\n",
    "    global ans\r\n",
    "    if N == 1:\r\n",
    "        ans.append([st,en])\r\n",
    "    else:\r\n",
    "        ftn(N-1,st,vi,en)\r\n",
    "        ans.append([st,en])\r\n",
    "        ftn(N-1,vi,en,st)\r\n",
    "        \r\n",
    "        \r\n",
    "def solution(n):\r\n",
    "    ftn(n)  \r\n",
    "    return ans"
   ],
   "outputs": [],
   "metadata": {}
  },
  {
   "cell_type": "markdown",
   "source": [
    "N-Queen"
   ],
   "metadata": {}
  },
  {
   "cell_type": "code",
   "execution_count": 1,
   "source": [
    "class ftn:\r\n",
    "    def __init__(self,n):\r\n",
    "        self.ans = 0\r\n",
    "        self.N = n\r\n",
    "        self.ver = [True] * n\r\n",
    "        self.lu = [True] * (2*n-1)\r\n",
    "        self.ru = [True] * (2*n-1)\r\n",
    "        \r\n",
    "    def find(self,H):\r\n",
    "        \r\n",
    "        if H == self.N:\r\n",
    "            self.ans += 1\r\n",
    "        \r\n",
    "        else:\r\n",
    "            for num in range(self.N):\r\n",
    "                if self.ver[num] and self.ru[num + H] and self.lu[num - H + self.N - 1]:\r\n",
    "                    self.ver[num] = False\r\n",
    "                    self.ru[num + H] = False\r\n",
    "                    self.lu[num - H + self.N - 1] = False\r\n",
    "                    self.find(H+1)\r\n",
    "                    self.ver[num] = True\r\n",
    "                    self.ru[num + H] = True\r\n",
    "                    self.lu[num - H + self.N - 1] = True                   \r\n",
    "                    \r\n",
    "def solution(n):\r\n",
    "    sol = ftn(n)\r\n",
    "    sol.find(0)\r\n",
    "    return sol.ans"
   ],
   "outputs": [],
   "metadata": {}
  }
 ],
 "metadata": {
  "orig_nbformat": 4,
  "language_info": {
   "name": "python",
   "version": "3.8.5",
   "mimetype": "text/x-python",
   "codemirror_mode": {
    "name": "ipython",
    "version": 3
   },
   "pygments_lexer": "ipython3",
   "nbconvert_exporter": "python",
   "file_extension": ".py"
  },
  "kernelspec": {
   "name": "python3",
   "display_name": "Python 3.8.5 64-bit ('DH': conda)"
  },
  "interpreter": {
   "hash": "34039bfad4eb1e505f8576daa339440c181ec0abde8f20d178c0c32cf0e3d5ae"
  }
 },
 "nbformat": 4,
 "nbformat_minor": 2
}