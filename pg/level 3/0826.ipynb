{
 "cells": [
  {
   "cell_type": "markdown",
   "source": [
    "카드 짝 맞추기"
   ],
   "metadata": {}
  },
  {
   "cell_type": "markdown",
   "source": [
    "외벽 점검"
   ],
   "metadata": {}
  },
  {
   "cell_type": "markdown",
   "source": [
    "매칭 점수"
   ],
   "metadata": {}
  },
  {
   "cell_type": "code",
   "execution_count": null,
   "source": [
    "import re\r\n",
    "def solution(word, pages):\r\n",
    "    Link = r'\\<{} [a-z|A-Z|0-9|\\:\\\\\\/\\.\\\"\\' \\=]*\\>'\r\n",
    "    url = re.compile(r'https://[a-z|A-Z|0-9|\\:\\\\\\/\\.\\']*')\r\n",
    "    body = re.compile(r'\\<body\\>[a-z|A-Z|0-9|\\n\\t\\\\\\<\\> \\=\\'\\\":\\/\\\\\\.!@#\\$\\%\\^\\&\\*\\(\\)\\[\\]\\{\\}\\+\\-\\,]*\\<\\/body\\>')\r\n",
    "    db = re.compile(r'(\\<[a-z|A-Z|0-9|\\:\\\\\\/\\.\\\"\\' \\=]*\\>)|\\n|\\t')\r\n",
    "    alpha = re.compile(r'[^a-z|A-Z]+')\r\n",
    "\r\n",
    "    dic = {}\r\n",
    "\r\n",
    "    for idx,p in enumerate(pages):\r\n",
    "        URL = url.search(re.search(Link.format('meta'),p).group()).group()\r\n",
    "        dic[URL] = {'idx':idx,'lscore':0}\r\n",
    "\r\n",
    "        dic[URL]['link'] = [url.search(x).group() for x in re.findall(Link.format('a'),p)]\r\n",
    "        txt = alpha.sub(\" \",db.sub(\" \", body.search(p).group())).lower()\r\n",
    "        dic[URL]['score'] = sum(x == word.lower() for x in txt.split(\" \"))\r\n",
    "    \r\n",
    "    for k,v in dic.items():\r\n",
    "        for dv in v['link']:\r\n",
    "            if dv in dic:\r\n",
    "                dic[dv]['lscore'] += v['score']/len(v['link'])\r\n",
    "    return sorted(dic.values(),key = lambda v : (-(v['lscore'] + v['score']),v['idx']))[0]['idx']\r\n"
   ],
   "outputs": [],
   "metadata": {}
  },
  {
   "cell_type": "markdown",
   "source": [
    "110 옮기기"
   ],
   "metadata": {}
  },
  {
   "cell_type": "markdown",
   "source": [
    "단속 카메라"
   ],
   "metadata": {}
  },
  {
   "cell_type": "code",
   "execution_count": null,
   "source": [
    "def solution(routes):\r\n",
    "    arr = []\r\n",
    "    routes.sort(key = lambda x:x[1])\r\n",
    "    \r\n",
    "    for r in routes:\r\n",
    "        if len(arr) == 0:\r\n",
    "            arr.append(r[1])\r\n",
    "        else:\r\n",
    "            for ar in arr:\r\n",
    "                if r[0]<=ar<=r[1]:\r\n",
    "                    break\r\n",
    "            else:\r\n",
    "                arr.append(r[1])\r\n",
    "    return len(arr)"
   ],
   "outputs": [],
   "metadata": {}
  },
  {
   "cell_type": "markdown",
   "source": [
    "블록 이동하기"
   ],
   "metadata": {}
  },
  {
   "cell_type": "markdown",
   "source": [
    "풍선 터뜨리기"
   ],
   "metadata": {}
  }
 ],
 "metadata": {
  "orig_nbformat": 4,
  "language_info": {
   "name": "python",
   "version": "3.8.5",
   "mimetype": "text/x-python",
   "codemirror_mode": {
    "name": "ipython",
    "version": 3
   },
   "pygments_lexer": "ipython3",
   "nbconvert_exporter": "python",
   "file_extension": ".py"
  },
  "kernelspec": {
   "name": "python3",
   "display_name": "Python 3.8.5 64-bit ('DH': conda)"
  },
  "interpreter": {
   "hash": "34039bfad4eb1e505f8576daa339440c181ec0abde8f20d178c0c32cf0e3d5ae"
  }
 },
 "nbformat": 4,
 "nbformat_minor": 2
}