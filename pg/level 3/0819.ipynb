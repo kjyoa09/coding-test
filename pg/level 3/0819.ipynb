{
 "cells": [
  {
   "cell_type": "markdown",
   "source": [
    "베스트 앨범"
   ],
   "metadata": {}
  },
  {
   "cell_type": "code",
   "execution_count": null,
   "source": [
    "from collections import defaultdict\r\n",
    "def solution(genres, plays):\r\n",
    "    dic = defaultdict(list)\r\n",
    "    ans = []\r\n",
    "    for idx,(g,p) in enumerate(zip(genres,plays)):\r\n",
    "        dic[g].append((p,idx))\r\n",
    "    tmp = sorted(dic.values(),key = lambda x: -sum(y[0] for y in x))\r\n",
    "\r\n",
    "    for t in tmp:\r\n",
    "        t.sort(key = lambda x: (-x[0],x[1]))\r\n",
    "        if len(t) > 1:\r\n",
    "            ans += [t[0][1],t[1][1]]\r\n",
    "        else:\r\n",
    "            ans += [t[0][1]]\r\n",
    "    return ans\r\n",
    "        "
   ],
   "outputs": [],
   "metadata": {}
  },
  {
   "cell_type": "markdown",
   "source": [
    "섬 연결하기\r\n",
    "\r\n",
    "크루스칼 알고리즘(Kruskal Algorithm)"
   ],
   "metadata": {}
  },
  {
   "cell_type": "code",
   "execution_count": 31,
   "source": [
    "import heapq as hq\r\n",
    "class ftn:\r\n",
    "    def __init__(self,n,costs):\r\n",
    "        self.que = []\r\n",
    "        for s,e,v in costs:\r\n",
    "            hq.heappush(self.que,(v,s,e))\r\n",
    "        self.arr = list(range(n))\r\n",
    "    \r\n",
    "    def find(self,idx):\r\n",
    "        if self.arr[idx] == idx:\r\n",
    "            return idx\r\n",
    "        self.arr[idx] = self.find(self.arr[idx])\r\n",
    "        return self.arr[idx]\r\n",
    "    \r\n",
    "    def union(self,s,e):\r\n",
    "        if s < e:\r\n",
    "            self.arr[e] = s\r\n",
    "        else :\r\n",
    "            self.arr[s] = e\r\n",
    "        \r\n",
    "        \r\n",
    "def solution(n, costs):\r\n",
    "    sol = ftn(n,costs)\r\n",
    "    ans = 0\r\n",
    "    for _ in range(n-1):\r\n",
    "        while 1:\r\n",
    "            c,s,e = hq.heappop(sol.que)\r\n",
    "            s,e = sol.find(s),sol.find(e)\r\n",
    "            if s != e:\r\n",
    "                ans += c\r\n",
    "                break\r\n",
    "        sol.union(s,e)\r\n",
    "    return ans"
   ],
   "outputs": [],
   "metadata": {}
  },
  {
   "cell_type": "markdown",
   "source": [
    "징검다리 건너기"
   ],
   "metadata": {}
  },
  {
   "cell_type": "code",
   "execution_count": null,
   "source": [
    "def solution(stones, k):\r\n",
    "    lt,rt = 0,max(stones)+1\r\n",
    "    ans = 0\r\n",
    "    while lt<=rt:\r\n",
    "        mid = (lt+rt)//2\r\n",
    "        cnt = 0\r\n",
    "        for s in stones:\r\n",
    "            if s < mid:\r\n",
    "                cnt+=1\r\n",
    "            else:\r\n",
    "                cnt = 0\r\n",
    "            if cnt == k:\r\n",
    "                rt = mid - 1\r\n",
    "                break\r\n",
    "        else:\r\n",
    "            lt = mid + 1 \r\n",
    "            if ans < mid:\r\n",
    "                ans = mid\r\n",
    "    return ans"
   ],
   "outputs": [],
   "metadata": {}
  },
  {
   "cell_type": "markdown",
   "source": [
    "기둥과 보 설치"
   ],
   "metadata": {}
  },
  {
   "cell_type": "markdown",
   "source": [
    "길 찾기 게임"
   ],
   "metadata": {}
  },
  {
   "cell_type": "markdown",
   "source": [
    "광고 삽입"
   ],
   "metadata": {}
  },
  {
   "cell_type": "markdown",
   "source": [
    "모두 0으로 만들기"
   ],
   "metadata": {}
  }
 ],
 "metadata": {
  "orig_nbformat": 4,
  "language_info": {
   "name": "python",
   "version": "3.8.5",
   "mimetype": "text/x-python",
   "codemirror_mode": {
    "name": "ipython",
    "version": 3
   },
   "pygments_lexer": "ipython3",
   "nbconvert_exporter": "python",
   "file_extension": ".py"
  },
  "kernelspec": {
   "name": "python3",
   "display_name": "Python 3.8.5 64-bit ('DH': conda)"
  },
  "interpreter": {
   "hash": "34039bfad4eb1e505f8576daa339440c181ec0abde8f20d178c0c32cf0e3d5ae"
  }
 },
 "nbformat": 4,
 "nbformat_minor": 2
}