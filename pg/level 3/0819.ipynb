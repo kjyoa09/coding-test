{
 "cells": [
  {
   "cell_type": "markdown",
   "source": [
    "베스트 앨범"
   ],
   "metadata": {}
  },
  {
   "cell_type": "code",
   "execution_count": null,
   "source": [
    "from collections import defaultdict\r\n",
    "def solution(genres, plays):\r\n",
    "    dic = defaultdict(list)\r\n",
    "    ans = []\r\n",
    "    for idx,(g,p) in enumerate(zip(genres,plays)):\r\n",
    "        dic[g].append((p,idx))\r\n",
    "    tmp = sorted(dic.values(),key = lambda x: -sum(y[0] for y in x))\r\n",
    "\r\n",
    "    for t in tmp:\r\n",
    "        t.sort(key = lambda x: (-x[0],x[1]))\r\n",
    "        if len(t) > 1:\r\n",
    "            ans += [t[0][1],t[1][1]]\r\n",
    "        else:\r\n",
    "            ans += [t[0][1]]\r\n",
    "    return ans\r\n",
    "        "
   ],
   "outputs": [],
   "metadata": {}
  },
  {
   "cell_type": "markdown",
   "source": [
    "섬 연결하기\r\n",
    "\r\n",
    "크루스칼 알고리즘(Kruskal Algorithm)"
   ],
   "metadata": {}
  },
  {
   "cell_type": "code",
   "execution_count": 31,
   "source": [
    "import heapq as hq\r\n",
    "class ftn:\r\n",
    "    def __init__(self,n,costs):\r\n",
    "        self.que = []\r\n",
    "        for s,e,v in costs:\r\n",
    "            hq.heappush(self.que,(v,s,e))\r\n",
    "        self.arr = list(range(n))\r\n",
    "    \r\n",
    "    def find(self,idx):\r\n",
    "        if self.arr[idx] == idx:\r\n",
    "            return idx\r\n",
    "        self.arr[idx] = self.find(self.arr[idx])\r\n",
    "        return self.arr[idx]\r\n",
    "    \r\n",
    "    def union(self,s,e):\r\n",
    "        if s < e:\r\n",
    "            self.arr[e] = s\r\n",
    "        else :\r\n",
    "            self.arr[s] = e\r\n",
    "        \r\n",
    "        \r\n",
    "def solution(n, costs):\r\n",
    "    sol = ftn(n,costs)\r\n",
    "    ans = 0\r\n",
    "    for _ in range(n-1):\r\n",
    "        while 1:\r\n",
    "            c,s,e = hq.heappop(sol.que)\r\n",
    "            s,e = sol.find(s),sol.find(e)\r\n",
    "            if s != e:\r\n",
    "                ans += c\r\n",
    "                break\r\n",
    "        sol.union(s,e)\r\n",
    "    return ans"
   ],
   "outputs": [],
   "metadata": {}
  },
  {
   "cell_type": "markdown",
   "source": [
    "징검다리 건너기"
   ],
   "metadata": {}
  },
  {
   "cell_type": "code",
   "execution_count": null,
   "source": [
    "def solution(stones, k):\r\n",
    "    lt,rt = 0,max(stones)+1\r\n",
    "    ans = 0\r\n",
    "    while lt<=rt:\r\n",
    "        mid = (lt+rt)//2\r\n",
    "        cnt = 0\r\n",
    "        for s in stones:\r\n",
    "            if s < mid:\r\n",
    "                cnt+=1\r\n",
    "            else:\r\n",
    "                cnt = 0\r\n",
    "            if cnt == k:\r\n",
    "                rt = mid - 1\r\n",
    "                break\r\n",
    "        else:\r\n",
    "            lt = mid + 1 \r\n",
    "            if ans < mid:\r\n",
    "                ans = mid\r\n",
    "    return ans"
   ],
   "outputs": [],
   "metadata": {}
  },
  {
   "cell_type": "markdown",
   "source": [
    "기둥과 보 설치"
   ],
   "metadata": {}
  },
  {
   "cell_type": "code",
   "execution_count": null,
   "source": [
    "class ftn:\r\n",
    "    def __init__(self):\r\n",
    "        self.dic = {}\r\n",
    "    def poss(self,x,y,a):\r\n",
    "        if a:#보\r\n",
    "            if (x,y-1,0) in self.dic or (x+1,y-1,0) in self.dic or ((x-1,y,1) in self.dic and (x+1,y,1) in self.dic) :\r\n",
    "                return True\r\n",
    "            else:\r\n",
    "                return False\r\n",
    "        else :#기둥\r\n",
    "            if y == 0 or (x,y-1,0) in self.dic or (x-1,y,1) in self.dic or (x,y,1) in self.dic:\r\n",
    "                return True\r\n",
    "            else:\r\n",
    "                return False\r\n",
    "def solution(n, build_frame):\r\n",
    "    sol = ftn()\r\n",
    "    for bu in build_frame:\r\n",
    "        x,y,a,b = bu\r\n",
    "        if b:\r\n",
    "            if sol.poss(x,y,a):\r\n",
    "                sol.dic[(x,y,a)] = True\r\n",
    "        else:\r\n",
    "            del sol.dic[(x,y,a)]\r\n",
    "            for q,w,e in sol.dic.keys():\r\n",
    "                if sol.poss(q,w,e):\r\n",
    "                    continue\r\n",
    "                else:\r\n",
    "                    sol.dic[(x,y,a)] = True\r\n",
    "                    break\r\n",
    "    return sorted(sol.dic.keys(),key = lambda x:(x[0],x[1],x[2]))"
   ],
   "outputs": [],
   "metadata": {}
  },
  {
   "cell_type": "markdown",
   "source": [
    "길 찾기 게임"
   ],
   "metadata": {}
  },
  {
   "cell_type": "code",
   "execution_count": 142,
   "source": [
    "import sys\r\n",
    "sys.setrecursionlimit(10**8)\r\n",
    "\r\n",
    "class Node:\r\n",
    "    def __init__(self):\r\n",
    "        self.node = None\r\n",
    "        self.left = None\r\n",
    "        self.right = None\r\n",
    "        \r\n",
    "class ftn:\r\n",
    "    def __init__(self):\r\n",
    "        self.tree = None\r\n",
    "        \r\n",
    "    def insert(self,arr):\r\n",
    "        if self.tree == None:\r\n",
    "            self.tree = Node()\r\n",
    "        cur_tree = self.tree\r\n",
    "        while 1:\r\n",
    "            if cur_tree.node == None:\r\n",
    "                cur_tree.node = arr\r\n",
    "                return\r\n",
    "            else:\r\n",
    "                if cur_tree.node[0] > arr[0]:\r\n",
    "                    if cur_tree.left == None:\r\n",
    "                        cur_tree.left = Node()\r\n",
    "                    cur_tree = cur_tree.left\r\n",
    "                else:\r\n",
    "                    if cur_tree.right == None:\r\n",
    "                        cur_tree.right = Node()\r\n",
    "                    cur_tree = cur_tree.right\r\n",
    "    def ans(self,tree,direct):\r\n",
    "        l=r=[]\r\n",
    "        if tree.left != None:\r\n",
    "            l = self.ans(tree.left,direct)\r\n",
    "        if tree.right != None:\r\n",
    "            r = self.ans(tree.right,direct)\r\n",
    "        if direct == -1:\r\n",
    "            return l + r + [tree.node[-1]] \r\n",
    "        else:\r\n",
    "            return [tree.node[-1]] + l + r \r\n",
    "        \r\n",
    "def solution(nodeinfo):\r\n",
    "    infos = sorted([(x,y,idx+1) for idx,(x,y) in enumerate(nodeinfo)],key = lambda x:(-x[1],x[0]))\r\n",
    "    Tree = ftn()\r\n",
    "    for info in infos:\r\n",
    "        Tree.insert(info)\r\n",
    "    return [Tree.ans(Tree.tree,0),Tree.ans(Tree.tree,-1)]"
   ],
   "outputs": [],
   "metadata": {}
  },
  {
   "cell_type": "markdown",
   "source": [
    "광고 삽입"
   ],
   "metadata": {}
  },
  {
   "cell_type": "code",
   "execution_count": 140,
   "source": [
    "def to_second(ch):\r\n",
    "    a,b,c = map(int,ch.split(\":\"))\r\n",
    "    return a * 3600 + b * 60 + c\r\n",
    "\r\n",
    "def to_hhmmss(i):\r\n",
    "    h,i = divmod(i,3600)\r\n",
    "    m,s = divmod(i,60)\r\n",
    "    return '{:02d}:{:02d}:{:02d}'.format(h, m, s)\r\n",
    "\r\n",
    "def solution(play_time, adv_time, logs):\r\n",
    "    play_time,adv_time = to_second(play_time),to_second(adv_time)\r\n",
    "    arr = [0] * (play_time + 1)    \r\n",
    "    \r\n",
    "    for lg in logs:\r\n",
    "        s,e = map(to_second,lg.split(\"-\"))\r\n",
    "        arr[s] += 1;arr[e] -= 1\r\n",
    "    \r\n",
    "    for i in range(1,play_time+1):\r\n",
    "        arr[i] = arr[i] + arr[i-1]\r\n",
    "    tmp = sum(arr[:adv_time])\r\n",
    "    ans = (0,tmp)\r\n",
    "\r\n",
    "    for st in range(0,play_time-adv_time):\r\n",
    "        tmp += arr[st+adv_time]\r\n",
    "        tmp -= arr[st]        \r\n",
    "        if tmp > ans[1]:\r\n",
    "            ans = (st+1,tmp)\r\n",
    "\r\n",
    "    return to_hhmmss(ans[0])"
   ],
   "outputs": [],
   "metadata": {}
  },
  {
   "cell_type": "markdown",
   "source": [
    "모두 0으로 만들기\r\n",
    "\r\n",
    "leaf로 가서 바로 위 노드(p) cost에 현재 노드(n) cost를 더함"
   ],
   "metadata": {}
  },
  {
   "cell_type": "code",
   "execution_count": 33,
   "source": [
    "import sys\r\n",
    "from collections import defaultdict\r\n",
    "sys.setrecursionlimit(10**8)\r\n",
    "\r\n",
    "class ftn:\r\n",
    "    def __init__(self,a,edges):\r\n",
    "        self.cost = a\r\n",
    "        self.dic = defaultdict(list)\r\n",
    "        for s,e in edges:\r\n",
    "            self.dic[s].append(e)\r\n",
    "            self.dic[e].append(s)\r\n",
    "        self.ans = 0\r\n",
    "        \r\n",
    "    def dfs(self,p,n):\r\n",
    "        for v in self.dic[n]:\r\n",
    "            if v != p:\r\n",
    "                self.dfs(n,v)\r\n",
    "        self.cost[p] += self.cost[n]\r\n",
    "        self.ans += abs(self.cost[n])\r\n",
    "        self.cost[n] = 0\r\n",
    "\r\n",
    "def solution(a, edges):\r\n",
    "    if sum(a) != 0:\r\n",
    "        return -1\r\n",
    "    sol = ftn(a,edges)\r\n",
    "    sol.dfs(0,0)\r\n",
    "    return sol.ans"
   ],
   "outputs": [],
   "metadata": {}
  }
 ],
 "metadata": {
  "orig_nbformat": 4,
  "language_info": {
   "name": "python",
   "version": "3.8.5",
   "mimetype": "text/x-python",
   "codemirror_mode": {
    "name": "ipython",
    "version": 3
   },
   "pygments_lexer": "ipython3",
   "nbconvert_exporter": "python",
   "file_extension": ".py"
  },
  "kernelspec": {
   "name": "python3",
   "display_name": "Python 3.8.5 64-bit ('DH': conda)"
  },
  "interpreter": {
   "hash": "34039bfad4eb1e505f8576daa339440c181ec0abde8f20d178c0c32cf0e3d5ae"
  }
 },
 "nbformat": 4,
 "nbformat_minor": 2
}