{
 "cells": [
  {
   "cell_type": "markdown",
   "source": [
    "가장 긴 팰린드롬"
   ],
   "metadata": {}
  },
  {
   "cell_type": "code",
   "execution_count": null,
   "source": [
    "# 1 >> 1자리 팰린드롬\r\n",
    "# 2 >> 둘이 같으면 2자리 팰린드롬\r\n",
    "# N 자리 팰린드롬 >> 1 (N-1) N if 1 == N \r\n",
    "def solution(s):\r\n",
    "    N = len(s)\r\n",
    "    maps = [[0]*N for _ in range(N)]\r\n",
    "    \r\n",
    "    for n in range(N):\r\n",
    "        maps[n][n] = 1\r\n",
    "        \r\n",
    "    for n in range(N-1):\r\n",
    "        if s[n] == s[n+1]:\r\n",
    "            maps[n][n+1] = 2\r\n",
    "            \r\n",
    "    for l in range(1,N):\r\n",
    "        for st in range(N-l):            \r\n",
    "            end = st + l\r\n",
    "            if s[st] == s[end]:\r\n",
    "                if maps[st+1][end-1]:\r\n",
    "                    maps[st][end] = max(maps[st+1][end-1] + 2,maps[st][end] )\r\n",
    "\r\n",
    "    return max(x for y in maps for x in y)"
   ],
   "outputs": [],
   "metadata": {}
  },
  {
   "cell_type": "markdown",
   "source": [
    "스타 수열"
   ],
   "metadata": {}
  },
  {
   "cell_type": "code",
   "execution_count": null,
   "source": [
    "# Continue 조건 안넣어주면 시간초과\r\n",
    "# 숫자 하나 기준으로 잡고 스타 수열 만들기\r\n",
    "# >> pop == 기준 >> 기준 숫자 안나올 때 까지 pop\r\n",
    "#    else: 기준 숫자 나올 때 까지 pop\r\n",
    "\r\n",
    "from collections import deque,Counter\r\n",
    "def solution(a):\r\n",
    "    ans = 0\r\n",
    "    dic = Counter(a)\r\n",
    "    for num in dic.keys():\r\n",
    "        if dic[num] < ans//2:\r\n",
    "            continue\r\n",
    "        else:\r\n",
    "            que,cnt = deque(a),0\r\n",
    "\r\n",
    "            while que:\r\n",
    "                tmp = que.popleft()\r\n",
    "                if tmp == num:\r\n",
    "                    while que and que[0] == num:\r\n",
    "                        que.popleft()\r\n",
    "                else:\r\n",
    "                    while que and que[0] != num:\r\n",
    "                        que.popleft()\r\n",
    "                if que:\r\n",
    "                    cnt += 1\r\n",
    "                    que.popleft()\r\n",
    "\r\n",
    "            if ans < 2*cnt:\r\n",
    "                ans = 2 * cnt\r\n",
    "    \r\n",
    "    return ans"
   ],
   "outputs": [],
   "metadata": {}
  },
  {
   "cell_type": "markdown",
   "source": [
    "기지국 설치"
   ],
   "metadata": {}
  },
  {
   "cell_type": "code",
   "execution_count": null,
   "source": [
    "def solution(n, stations, w):\r\n",
    "    ans,start = [] if stations[-1]+w > n else [n - stations[-1] - w],1\r\n",
    "    for st in stations:\r\n",
    "        if st - w - start > 0:\r\n",
    "            ans.append(st - w - start)\r\n",
    "        start = st + w + 1\r\n",
    "    return sum(x//(2*w+1) if x%(2*w+1) == 0 else x//(2*w+1) + 1 for x in ans)    "
   ],
   "outputs": [],
   "metadata": {}
  },
  {
   "cell_type": "markdown",
   "source": [
    "숫자 게임"
   ],
   "metadata": {}
  },
  {
   "cell_type": "code",
   "execution_count": null,
   "source": [
    "def solution(A, B):\r\n",
    "    A.sort(),B.sort()\r\n",
    "    ans = 0\r\n",
    "    for num in A:\r\n",
    "        while B:\r\n",
    "            if num < B.pop(0):\r\n",
    "                ans += 1\r\n",
    "                break\r\n",
    "    return ans\r\n",
    "\r\n",
    "#### 시간 초과#####\r\n",
    "import heapq as hq\r\n",
    "def solution(A, B):\r\n",
    "    hq.heapify(B)\r\n",
    "    remain,ans = [],0\r\n",
    "    \r\n",
    "    for num in A:\r\n",
    "        while B and B[0]<=num:\r\n",
    "            hq.heappush(remain,-hq.heappop(B))\r\n",
    "        while remain and -remain[0] > num:\r\n",
    "            hq.heappush(B,-hq.heappop(remain))\r\n",
    "        if B:\r\n",
    "            ans += 1\r\n",
    "            hq.heappop(B)\r\n",
    "    return ans "
   ],
   "outputs": [],
   "metadata": {}
  },
  {
   "cell_type": "markdown",
   "source": [
    "스티커 모으기(2)"
   ],
   "metadata": {}
  },
  {
   "cell_type": "code",
   "execution_count": 1,
   "source": [
    "def solution(sticker):\r\n",
    "    if len(sticker) == 1:\r\n",
    "        return sticker[0]\r\n",
    "    a,b = sticker[0],0\r\n",
    "    for s in sticker[1:-1]:\r\n",
    "        a,b = b+s,max(a,b)\r\n",
    "    c,d = sticker[1],0    \r\n",
    "    for s in sticker[2:]:\r\n",
    "        c,d = d+s,max(c,d)\r\n",
    "    return max(a,b,c,d)"
   ],
   "outputs": [],
   "metadata": {}
  },
  {
   "cell_type": "markdown",
   "source": [
    "거스름돈"
   ],
   "metadata": {}
  },
  {
   "cell_type": "code",
   "execution_count": null,
   "source": [
    "def solution(n, money):\r\n",
    "    arr = [1] + [0]*n\r\n",
    "    for m in money:\r\n",
    "        for i in range(m, n+1):\r\n",
    "            arr[i] += arr[i-m]\r\n",
    "    return arr[-1]"
   ],
   "outputs": [],
   "metadata": {}
  },
  {
   "cell_type": "markdown",
   "source": [
    "3주차"
   ],
   "metadata": {}
  },
  {
   "cell_type": "code",
   "execution_count": null,
   "source": [
    "# 0,0 좌표로 초기화 후 돌려가면서 없어지는지 확인\r\n",
    "from collections import deque,defaultdict\r\n",
    "class ftn:\r\n",
    "    def __init__(self):\r\n",
    "        self.game = {i:defaultdict(int) for i in range(1,7)}\r\n",
    "        self.ans = 0\r\n",
    "        \r\n",
    "    def find(self,board):\r\n",
    "        N = len(board)\r\n",
    "        check = [[True] * N for _ in range(N)]\r\n",
    "        dx,dy = [0,1,0,-1],[1,0,-1,0]\r\n",
    "\r\n",
    "        for r in range(N):\r\n",
    "            for c in range(N):\r\n",
    "                if check[r][c] and board[r][c] == 0:\r\n",
    "                    check[r][c] = False\r\n",
    "                    que,tmp = deque([(r,c)]),[(r,c)]\r\n",
    "                    while que:\r\n",
    "                        x,y = que.popleft()\r\n",
    "                        for idx in range(4):\r\n",
    "                            px,py = x+dx[idx],y+dy[idx]\r\n",
    "                            if 0<=px<N and 0<=py<N and check[px][py] and board[px][py] == 0:\r\n",
    "                                check[px][py] = False\r\n",
    "                                que.append((px,py))\r\n",
    "                                tmp.append((px,py))\r\n",
    "                    min_r,min_c = min(x[0] for x in tmp),min(x[1] for x in tmp)\r\n",
    "                    self.game[len(tmp)][tuple(sorted((x[0]-min_r,x[1]-min_c) for x in tmp))] += 1\r\n",
    "    \r\n",
    "    def rotate(self,arr):\r\n",
    "        tmp = tuple(sorted((y,2-x) for x,y in arr))\r\n",
    "        min_r,min_c = min(x[0] for x in tmp),min(x[1] for x in tmp)\r\n",
    "        return tuple(sorted((x[0]-min_r,x[1]-min_c) for x in tmp))\r\n",
    "    \r\n",
    "    def table(self,board):\r\n",
    "        N = len(board)\r\n",
    "        check = [[True] * N for _ in range(N)]\r\n",
    "        dx,dy = [0,1,0,-1],[1,0,-1,0]\r\n",
    "        \r\n",
    "        for r in range(N):\r\n",
    "            for c in range(N):\r\n",
    "                if check[r][c] and board[r][c] :\r\n",
    "                    check[r][c] = False\r\n",
    "                    que,tmp = deque([(r,c)]),[(r,c)]\r\n",
    "                    while que:\r\n",
    "                        x,y = que.popleft()\r\n",
    "                        for idx in range(4):\r\n",
    "                            px,py = x+dx[idx],y+dy[idx]\r\n",
    "                            if 0<=px<N and 0<=py<N and check[px][py] and board[px][py]:\r\n",
    "                                check[px][py] = False\r\n",
    "                                que.append((px,py))\r\n",
    "                                tmp.append((px,py))\r\n",
    "                    cnt = len(tmp)\r\n",
    "                    \r\n",
    "                    if len(self.game[cnt]):\r\n",
    "                        min_r,min_c = min(x[0] for x in tmp),min(x[1] for x in tmp)\r\n",
    "                        tmp = tuple(sorted((x[0]-min_r,x[1]-min_c) for x in tmp))\r\n",
    "                        for _ in range(4):\r\n",
    "                            if self.game[cnt][tmp]:\r\n",
    "                                self.game[cnt][tmp] -= 1\r\n",
    "                                self.ans += cnt\r\n",
    "                                break\r\n",
    "                            else:\r\n",
    "                                tmp = self.rotate(tmp)\r\n",
    "\r\n",
    "\r\n",
    "        \r\n",
    "def solution(game_board, table):\r\n",
    "    sol = ftn()\r\n",
    "    sol.find(game_board)\r\n",
    "    sol.table(table)\r\n",
    "    return sol.ans"
   ],
   "outputs": [],
   "metadata": {}
  }
 ],
 "metadata": {
  "orig_nbformat": 4,
  "language_info": {
   "name": "python",
   "version": "3.8.5",
   "mimetype": "text/x-python",
   "codemirror_mode": {
    "name": "ipython",
    "version": 3
   },
   "pygments_lexer": "ipython3",
   "nbconvert_exporter": "python",
   "file_extension": ".py"
  },
  "kernelspec": {
   "name": "python3",
   "display_name": "Python 3.8.5 64-bit ('DH': conda)"
  },
  "interpreter": {
   "hash": "34039bfad4eb1e505f8576daa339440c181ec0abde8f20d178c0c32cf0e3d5ae"
  }
 },
 "nbformat": 4,
 "nbformat_minor": 2
}