{
 "cells": [
  {
   "cell_type": "code",
   "execution_count": 244,
   "source": [
    "from collections import defaultdict,deque\r\n",
    "from itertools import permutations\r\n",
    "\r\n",
    "class ftn:\r\n",
    "    def __init__(self,board,r,c):\r\n",
    "        s = (r,c)\r\n",
    "        dic = defaultdict(list)\r\n",
    "        for r in range(4):\r\n",
    "            for c in range(4):\r\n",
    "                if board[r][c] :\r\n",
    "                    dic[board[r][c]].append((r,c))\r\n",
    "\r\n",
    "        dic = {k:[[v[0],v[1]],[v[1],v[0]]] for k,v in dic.items()}\r\n",
    "\r\n",
    "        self.ALL = []\r\n",
    "\r\n",
    "        pos = list(permutations(dic.keys(),len(dic.keys())))\r\n",
    "        for pp in pos:\r\n",
    "            tmp = [[s]]\r\n",
    "            for p in pp:\r\n",
    "                tmp = [x + dic[p][i] for x in tmp for i in range(2)]\r\n",
    "            self.ALL += tmp\r\n",
    "        \r\n",
    "        self.ans = float('INF')\r\n",
    "        self.base = len(dic) * 2\r\n",
    "    \r\n",
    "    def move(self,n,p,arr):\r\n",
    "        px,py = abs(n[0] - p[0]),abs(n[1] - p[1])\r\n",
    "        cnt = [0,0]\r\n",
    "        # 위 아래 먼저 움직임 : idx 0\r\n",
    "        # 좌 우 먼저 움직임 : idx 1\r\n",
    "        if px < 2:\r\n",
    "            cnt[0] += px\r\n",
    "            cnt[1] += px\r\n",
    "        elif px == 2:\r\n",
    "            cnt[0] += 2 if (min(n[0],p[0])+1,n[1]) in arr else 1\r\n",
    "            cnt[1] += 2 if (min(n[0],p[0])+1,p[1]) in arr else 1\r\n",
    "        else:\r\n",
    "            cnt[0] += sum(1 for x in arr if x[1] == n[1]) + 1\r\n",
    "            cnt[1] += sum(1 for x in arr if x[1] == p[1]) + 1\r\n",
    "        if py < 2:\r\n",
    "            cnt[0] += py\r\n",
    "            cnt[1] += py\r\n",
    "        elif py == 2:\r\n",
    "            cnt[0] += 2 if (p[0],min(n[1],p[1]) + 1) in arr else 1\r\n",
    "            cnt[1] += 2 if (n[0],min(n[1],p[1] + 1)) in arr else 1\r\n",
    "        else:\r\n",
    "            cnt[0] += sum(1 for x in arr if x[0] == p[0]) + 1\r\n",
    "            cnt[1] += sum(1 for x in arr if x[0] == n[0]) + 1 \r\n",
    "\r\n",
    "        return min(cnt)\r\n",
    "\r\n"
   ],
   "outputs": [],
   "metadata": {}
  },
  {
   "cell_type": "code",
   "execution_count": 332,
   "source": [
    "from collections import defaultdict,deque\r\n",
    "from itertools import permutations\r\n",
    "\r\n",
    "class ftn:\r\n",
    "    def __init__(self,board,r,c):\r\n",
    "        s = (r,c)\r\n",
    "        dic = defaultdict(list)\r\n",
    "        for r in range(4):\r\n",
    "            for c in range(4):\r\n",
    "                if board[r][c] :\r\n",
    "                    dic[board[r][c]].append((r,c))\r\n",
    "\r\n",
    "        dic = {k:[[v[0],v[1]],[v[1],v[0]]] for k,v in dic.items()}\r\n",
    "\r\n",
    "        self.ALL = []\r\n",
    "\r\n",
    "        pos = list(permutations(dic.keys(),len(dic.keys())))\r\n",
    "        for pp in pos:\r\n",
    "            tmp = [[s]]\r\n",
    "            for p in pp:\r\n",
    "                tmp = [x + dic[p][i] for x in tmp for i in range(2)]\r\n",
    "            self.ALL += tmp\r\n",
    "        \r\n",
    "        self.ans = float('INF')\r\n",
    "        self.base = len(dic) * 2\r\n",
    "    \r\n",
    "    def move(self,n,p,arr):\r\n",
    "        px,py = abs(n[0] - p[0]),abs(n[1] - p[1])\r\n",
    "        cnt = [0,0]\r\n",
    "        # 위 아래 먼저 움직임 : idx 0\r\n",
    "        # 좌 우 먼저 움직임 : idx 1\r\n",
    "        if px < 2:\r\n",
    "            cnt[0] += px;cnt[1] += px\r\n",
    "        elif px == 3:\r\n",
    "            cnt[0] += sum(1 for x in arr if min(n[0],p[0]) < x[0] < max(n[0],p[0]) and x[1] == n[1]) + 1\r\n",
    "            cnt[1] += sum(1 for x in arr if min(n[0],p[0]) < x[0] < max(n[0],p[0]) and x[1] == p[1]) + 1\r\n",
    "        else: # px == 2\r\n",
    "            cnt[0] += 1 if ((p[0],n[1]) in arr or p[0] in (0,3)) and (min(p[0],n[0])+1,n[1]) not in arr else 2\r\n",
    "            cnt[1] += 1 if (min(p[0],n[0])+1,p[1]) not in arr else 2\r\n",
    "        # print(cnt)\r\n",
    "        if py < 2:\r\n",
    "            cnt[0] += py;cnt[1] += py\r\n",
    "        elif py == 3:\r\n",
    "            cnt[0] += sum(1 for x in arr if min(n[1],p[1]) < x[1] < max(n[1],p[1]) and x[0] == p[0]) + 1\r\n",
    "            cnt[1] += sum(1 for x in arr if min(n[1],p[1]) < x[1] < max(n[1],p[1]) and x[0] == n[0]) + 1\r\n",
    "        else: # py == 2\r\n",
    "            cnt[0] += 1 if (p[0],min(p[1],n[1])+1) not in arr else 2\r\n",
    "            cnt[1] += 1 if ((n[0],p[1]) in arr or p[1] in (0,3)) and (n[0],min(n[1],p[1])+1) not in arr else 2\r\n",
    "        # print(cnt)\r\n",
    "        return min(cnt)\r\n",
    "\r\n",
    "def solution(board, r, c):\r\n",
    "    sol = ftn(board,r,c)\r\n",
    "    \r\n",
    "    while sol.ALL:\r\n",
    "        tmp = deque(sol.ALL.pop())\r\n",
    "        s,e = tmp.popleft(),tmp.popleft()\r\n",
    "        cnt = sol.base\r\n",
    "        while 1:\r\n",
    "            cnt += sol.move(s,e,tmp)\r\n",
    "            if tmp:\r\n",
    "                s,e = e, tmp.popleft()\r\n",
    "            else:\r\n",
    "                break\r\n",
    "            if cnt > sol.ans:\r\n",
    "                break\r\n",
    "        if sol.ans > cnt:\r\n",
    "            sol.ans = cnt\r\n",
    "    \r\n",
    "    return sol.ans\r\n"
   ],
   "outputs": [],
   "metadata": {}
  },
  {
   "cell_type": "code",
   "execution_count": 333,
   "source": [
    "sol = ftn([[1, 0, 0, 3], [2, 0, 0, 0], [0, 0, 0, 2], [3, 0, 1, 0]], 1, 0)\r\n",
    "tmp = deque([(1,0),(1,0),(2,3),(0,3),(3,0),(3,2),(0,0)])\r\n",
    "s,e = tmp.popleft(),tmp.popleft()\r\n",
    "cnt = sol.base\r\n",
    "while 1:\r\n",
    "    cnt += sol.move(s,e,tmp)\r\n",
    "    print(s,e,sol.move(s,e,tmp))\r\n",
    "    if tmp:\r\n",
    "        s,e = e, tmp.popleft()\r\n",
    "    else:\r\n",
    "        break\r\n",
    "    if cnt > sol.ans:\r\n",
    "        break\r\n",
    "if sol.ans > cnt:\r\n",
    "    sol.ans = cnt\r\n",
    "print(sol.ans)"
   ],
   "outputs": [
    {
     "output_type": "stream",
     "name": "stdout",
     "text": [
      "(1, 0) (1, 0) 0\n",
      "(1, 0) (2, 3) 2\n",
      "(2, 3) (0, 3) 1\n",
      "(0, 3) (3, 0) 2\n",
      "(3, 0) (3, 2) 1\n",
      "(3, 2) (0, 0) 2\n",
      "14\n"
     ]
    }
   ],
   "metadata": {}
  },
  {
   "cell_type": "code",
   "execution_count": 330,
   "source": [
    "sol.move((0,3),(3,0),[(3,2),(0,0)])"
   ],
   "outputs": [
    {
     "output_type": "execute_result",
     "data": {
      "text/plain": [
       "3"
      ]
     },
     "metadata": {},
     "execution_count": 330
    }
   ],
   "metadata": {}
  },
  {
   "cell_type": "code",
   "execution_count": 318,
   "source": [
    "solution(\t[[3, 0, 0, 2], [0, 0, 1, 0], [0, 1, 0, 0], [2, 0, 0, 3]], 0, 1)"
   ],
   "outputs": [
    {
     "output_type": "execute_result",
     "data": {
      "text/plain": [
       "18"
      ]
     },
     "metadata": {},
     "execution_count": 318
    }
   ],
   "metadata": {}
  }
 ],
 "metadata": {
  "orig_nbformat": 4,
  "language_info": {
   "name": "python",
   "version": "3.8.5",
   "mimetype": "text/x-python",
   "codemirror_mode": {
    "name": "ipython",
    "version": 3
   },
   "pygments_lexer": "ipython3",
   "nbconvert_exporter": "python",
   "file_extension": ".py"
  },
  "kernelspec": {
   "name": "python3",
   "display_name": "Python 3.8.5 64-bit ('DH': conda)"
  },
  "interpreter": {
   "hash": "34039bfad4eb1e505f8576daa339440c181ec0abde8f20d178c0c32cf0e3d5ae"
  }
 },
 "nbformat": 4,
 "nbformat_minor": 2
}