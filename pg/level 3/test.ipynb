{
 "cells": [
  {
   "cell_type": "code",
   "execution_count": 132,
   "source": [
    "class ftn:\r\n",
    "    def __init__(self,n,k):\r\n",
    "        self.start = 1\r\n",
    "        self.end = n\r\n",
    "        self.k = k\r\n",
    "        self.sumV = k\r\n",
    "        self.tree = [0] * (4*n)\r\n",
    "\r\n",
    "        self.ans = [\"O\"] * n\r\n",
    "    def MK(self,strat,end,T_idx = 1):\r\n",
    "        if strat == end:\r\n",
    "            self.tree[T_idx] = 1\r\n",
    "            return self.tree[T_idx]\r\n",
    "        mid = (strat+end)//2\r\n",
    "        self.tree[T_idx] = self.MK(strat,mid,T_idx*2) + self.MK(mid+1,end,T_idx*2+1)\r\n",
    "        return self.tree[T_idx]\r\n",
    "    \r\n",
    "    def C(self,start,end,idx,T_idx=1):\r\n",
    "        if start == end:\r\n",
    "            self.tree[T_idx] = 0\r\n",
    "        else:\r\n",
    "            self.tree[T_idx] -= 1\r\n",
    "            mid = (start+end)//2\r\n",
    "            if start<=idx<=mid:\r\n",
    "                self.C(start,mid,idx,T_idx*2)\r\n",
    "            else:\r\n",
    "                self.C(mid+1,end,idx,T_idx*2+1)\r\n",
    "    \r\n",
    "    def U(self,start,end,value,T_idx=1):\r\n",
    "        if start == end:\r\n",
    "            self.k = start\r\n",
    "        else:\r\n",
    "            mid = (start+end)//2\r\n",
    "            if self.tree[2*T_idx] >= value:\r\n",
    "                self.U(start,mid,value,2*T_idx)\r\n",
    "            else:\r\n",
    "                self.U(mid+1,end,value-self.tree[2*T_idx],2*T_idx+1)\r\n",
    "\r\n",
    "    def Z(self,start,end,idx,T_idx = 1):\r\n",
    "        if start == end:\r\n",
    "            self.tree[T_idx] = 1\r\n",
    "        else:\r\n",
    "            self.tree[T_idx] += 1\r\n",
    "            mid = (start+end)//2\r\n",
    "            if start <= idx <= mid:\r\n",
    "                self.Z(start,mid,idx,2*T_idx)\r\n",
    "            else:\r\n",
    "                self.Z(mid+1,end,idx,2*T_idx+1)\r\n",
    "    def decode(self,start,end,T_idx = 1):\r\n",
    "        if start == end:\r\n",
    "            if self.tree[T_idx] == 0:\r\n",
    "                self.ans[start-1] = \"X\"\r\n",
    "        else:\r\n",
    "            mid = (start+end)//2\r\n",
    "            self.decode(start,mid,2*T_idx)\r\n",
    "            self.decode(mid+1,end,2*T_idx+1)\r\n",
    "\r\n",
    "def solution(n,k,cmd):\r\n",
    "    sol = ftn(n,k+1)\r\n",
    "    sol.MK(1,n)\r\n",
    "    DL = []\r\n",
    "\r\n",
    "    for cd in cmd:\r\n",
    "        if cd == \"C\":\r\n",
    "            DL.append(sol.k)\r\n",
    "            sol.C(1,n,sol.k)\r\n",
    "            if sol.tree[1] == sol.sumV-1:\r\n",
    "                sol.U(1,n,sol.sumV-1)\r\n",
    "                sol.sumV -=1\r\n",
    "            else:\r\n",
    "                sol.U(1,n,sol.sumV)\r\n",
    "\r\n",
    "        elif cd == \"Z\":\r\n",
    "            tmp = DL.pop()\r\n",
    "            sol.Z(1,n,tmp)\r\n",
    "            if tmp < sol.k:\r\n",
    "                sol.sumV += 1\r\n",
    "\r\n",
    "        else:\r\n",
    "            cm,v = cd.split(\" \")\r\n",
    "            if cm == \"U\":\r\n",
    "                sol.U(1,n,sol.sumV-int(v))\r\n",
    "                sol.sumV -= int(v)\r\n",
    "            else:\r\n",
    "                sol.U(1,n,sol.sumV+int(v))\r\n",
    "                sol.sumV += int(v)\r\n",
    "    sol.decode(1,n)\r\n",
    "    return ''.join(sol.ans)"
   ],
   "outputs": [],
   "metadata": {}
  },
  {
   "cell_type": "code",
   "execution_count": 133,
   "source": [],
   "outputs": [],
   "metadata": {}
  },
  {
   "cell_type": "code",
   "execution_count": 135,
   "source": [
    "solution(8,2,[\"D 2\",\"C\",\"U 3\",\"C\",\"D 4\",\"C\",\"U 2\",\"Z\",\"Z\",\"U 1\",\"C\"])"
   ],
   "outputs": [
    {
     "output_type": "execute_result",
     "data": {
      "text/plain": [
       "'OOXOXOOO'"
      ]
     },
     "metadata": {},
     "execution_count": 135
    }
   ],
   "metadata": {}
  }
 ],
 "metadata": {
  "orig_nbformat": 4,
  "language_info": {
   "name": "python",
   "version": "3.8.3",
   "mimetype": "text/x-python",
   "codemirror_mode": {
    "name": "ipython",
    "version": 3
   },
   "pygments_lexer": "ipython3",
   "nbconvert_exporter": "python",
   "file_extension": ".py"
  },
  "kernelspec": {
   "name": "python3",
   "display_name": "Python 3.8.3 64-bit ('base': conda)"
  },
  "interpreter": {
   "hash": "b3ba2566441a7c06988d0923437866b63cedc61552a5af99d1f4fb67d367b25f"
  }
 },
 "nbformat": 4,
 "nbformat_minor": 2
}