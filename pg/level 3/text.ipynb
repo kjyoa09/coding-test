{
 "cells": [
  {
   "cell_type": "code",
   "execution_count": 244,
   "source": [
    "from collections import defaultdict,deque\r\n",
    "from itertools import permutations\r\n",
    "\r\n",
    "class ftn:\r\n",
    "    def __init__(self,board,r,c):\r\n",
    "        s = (r,c)\r\n",
    "        dic = defaultdict(list)\r\n",
    "        for r in range(4):\r\n",
    "            for c in range(4):\r\n",
    "                if board[r][c] :\r\n",
    "                    dic[board[r][c]].append((r,c))\r\n",
    "\r\n",
    "        dic = {k:[[v[0],v[1]],[v[1],v[0]]] for k,v in dic.items()}\r\n",
    "\r\n",
    "        self.ALL = []\r\n",
    "\r\n",
    "        pos = list(permutations(dic.keys(),len(dic.keys())))\r\n",
    "        for pp in pos:\r\n",
    "            tmp = [[s]]\r\n",
    "            for p in pp:\r\n",
    "                tmp = [x + dic[p][i] for x in tmp for i in range(2)]\r\n",
    "            self.ALL += tmp\r\n",
    "        \r\n",
    "        self.ans = float('INF')\r\n",
    "        self.base = len(dic) * 2\r\n",
    "    \r\n",
    "    def move(self,n,p,arr):\r\n",
    "        px,py = abs(n[0] - p[0]),abs(n[1] - p[1])\r\n",
    "        cnt = [0,0]\r\n",
    "        # 위 아래 먼저 움직임 : idx 0\r\n",
    "        # 좌 우 먼저 움직임 : idx 1\r\n",
    "        if px < 2:\r\n",
    "            cnt[0] += px\r\n",
    "            cnt[1] += px\r\n",
    "        elif px == 2:\r\n",
    "            cnt[0] += 2 if (min(n[0],p[0])+1,n[1]) in arr else 1\r\n",
    "            cnt[1] += 2 if (min(n[0],p[0])+1,p[1]) in arr else 1\r\n",
    "        else:\r\n",
    "            cnt[0] += sum(1 for x in arr if x[1] == n[1]) + 1\r\n",
    "            cnt[1] += sum(1 for x in arr if x[1] == p[1]) + 1\r\n",
    "        if py < 2:\r\n",
    "            cnt[0] += py\r\n",
    "            cnt[1] += py\r\n",
    "        elif py == 2:\r\n",
    "            cnt[0] += 2 if (p[0],min(n[1],p[1]) + 1) in arr else 1\r\n",
    "            cnt[1] += 2 if (n[0],min(n[1],p[1] + 1)) in arr else 1\r\n",
    "        else:\r\n",
    "            cnt[0] += sum(1 for x in arr if x[0] == p[0]) + 1\r\n",
    "            cnt[1] += sum(1 for x in arr if x[0] == n[0]) + 1 \r\n",
    "\r\n",
    "        return min(cnt)\r\n",
    "\r\n"
   ],
   "outputs": [],
   "metadata": {}
  },
  {
   "cell_type": "code",
   "execution_count": 248,
   "source": [
    "sol = ftn(board,1,0)\r\n",
    "\r\n",
    "while sol.ALL:\r\n",
    "    tmp = deque(sol.ALL.pop())\r\n",
    "    s,e = tmp.popleft(),tmp.popleft()\r\n",
    "    cnt = sol.base\r\n",
    "    while tmp:\r\n",
    "        cnt += sol.move(s,e,tmp)\r\n",
    "        s,e = e, tmp.popleft()\r\n",
    "        if sol.ans < cnt:\r\n",
    "            break\r\n",
    "    if sol.ans > cnt :\r\n",
    "        sol.ans = cnt\r\n",
    "\r\n",
    "    "
   ],
   "outputs": [],
   "metadata": {}
  },
  {
   "cell_type": "code",
   "execution_count": 249,
   "source": [
    "sol.base"
   ],
   "outputs": [
    {
     "output_type": "execute_result",
     "data": {
      "text/plain": [
       "6"
      ]
     },
     "metadata": {},
     "execution_count": 249
    }
   ],
   "metadata": {}
  },
  {
   "cell_type": "code",
   "execution_count": 189,
   "source": [
    "pos"
   ],
   "outputs": [
    {
     "output_type": "execute_result",
     "data": {
      "text/plain": [
       "[(1, 3, 2), (1, 2, 3), (3, 1, 2), (3, 2, 1), (2, 1, 3), (2, 3, 1)]"
      ]
     },
     "metadata": {},
     "execution_count": 189
    }
   ],
   "metadata": {}
  },
  {
   "cell_type": "code",
   "execution_count": 206,
   "source": [
    "ALL = []\r\n",
    "\r\n",
    "\r\n",
    "for pp in pos:\r\n",
    "    tmp = [[s]]\r\n",
    "    for p in pp:\r\n",
    "        tmp = [x + [dic[p][i]] for x in tmp for i in range(2)]\r\n",
    "    ALL += tmp\r\n",
    "print(len(ALL))\r\n"
   ],
   "outputs": [
    {
     "output_type": "stream",
     "name": "stdout",
     "text": [
      "48\n"
     ]
    }
   ],
   "metadata": {}
  },
  {
   "cell_type": "code",
   "execution_count": 207,
   "source": [
    "len(pos)"
   ],
   "outputs": [
    {
     "output_type": "execute_result",
     "data": {
      "text/plain": [
       "6"
      ]
     },
     "metadata": {},
     "execution_count": 207
    }
   ],
   "metadata": {}
  },
  {
   "cell_type": "code",
   "execution_count": null,
   "source": [
    "solution([[1,0,0,3],[2,0,0,0],[0,0,0,2],[3,0,1,0]],1,0)"
   ],
   "outputs": [],
   "metadata": {}
  },
  {
   "cell_type": "code",
   "execution_count": null,
   "source": [
    "solution([[3,0,0,2],[0,0,1,0],[0,1,0,0],[2,0,0,3]],0,1)"
   ],
   "outputs": [],
   "metadata": {}
  }
 ],
 "metadata": {
  "orig_nbformat": 4,
  "language_info": {
   "name": "python",
   "version": "3.8.5",
   "mimetype": "text/x-python",
   "codemirror_mode": {
    "name": "ipython",
    "version": 3
   },
   "pygments_lexer": "ipython3",
   "nbconvert_exporter": "python",
   "file_extension": ".py"
  },
  "kernelspec": {
   "name": "python3",
   "display_name": "Python 3.8.5 64-bit ('DH': conda)"
  },
  "interpreter": {
   "hash": "34039bfad4eb1e505f8576daa339440c181ec0abde8f20d178c0c32cf0e3d5ae"
  }
 },
 "nbformat": 4,
 "nbformat_minor": 2
}