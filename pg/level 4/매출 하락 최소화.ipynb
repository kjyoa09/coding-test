{
 "cells": [
  {
   "cell_type": "code",
   "execution_count": null,
   "source": [
    "from sys import stdin,setrecursionlimit\r\n",
    "setrecursionlimit(10**8)\r\n",
    "class ftn:\r\n",
    "    def __init__(self,sales,links):\r\n",
    "        self.N = len(sales)\r\n",
    "        self.sales = [0] + sales\r\n",
    "\r\n",
    "        self.tree = [[] for _ in range(self.N+1)]\r\n",
    "        \r\n",
    "        for a,b in links:\r\n",
    "            self.tree[a].append(b)\r\n",
    "        \r\n",
    "        self.ans = [[0,0] for _ in range(self.N+1)]#idx:0 >> 해당 Node 참석 idx:1 해당 노드 불참\r\n",
    "    \r\n",
    "    def dfs(self,idx):\r\n",
    "        self.ans[idx][0] = self.sales[idx]\r\n",
    "        tmp,TF = 0,False #tmp 하위 조직 유지를 위한 최소의 수,TF 자식노드 썼는지\r\n",
    "        for ch in self.tree[idx]:\r\n",
    "            self.dfs(ch)\r\n",
    "            tmp += min(self.ans[ch])\r\n",
    "            if not TF and min(self.ans[ch]) == self.ans[ch][0]:\r\n",
    "                TF = True\r\n",
    "                    \r\n",
    "        self.ans[idx][0] += tmp\r\n",
    "        \r\n",
    "        if len(self.tree[idx]):\r\n",
    "            self.ans[idx][1] = tmp\r\n",
    "            self.ans[idx][1] += min(self.ans[x][0] - self.ans[x][1] if self.ans[x][1] != 0 else self.ans[x][0] for x in self.tree[idx]) if not TF else 0\r\n",
    "        else:\r\n",
    "            self.ans[idx][1] = 0\r\n",
    "\r\n",
    "        \r\n",
    "\r\n",
    "def solution(sales, links):\r\n",
    "    sol = ftn(sales,links)\r\n",
    "    sol.dfs(1)\r\n",
    "    return min(sol.ans[1])"
   ],
   "outputs": [],
   "metadata": {}
  }
 ],
 "metadata": {
  "orig_nbformat": 4,
  "language_info": {
   "name": "python"
  }
 },
 "nbformat": 4,
 "nbformat_minor": 2
}