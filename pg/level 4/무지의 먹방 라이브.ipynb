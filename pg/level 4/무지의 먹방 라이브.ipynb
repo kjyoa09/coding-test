{
 "cells": [
  {
   "cell_type": "code",
   "execution_count": null,
   "source": [
    "import heapq as hq\r\n",
    "def solution(food_times, k):\r\n",
    "    que,tot = [],0\r\n",
    "    for idx,ft in enumerate(food_times):\r\n",
    "        tot += ft\r\n",
    "        hq.heappush(que,ft)\r\n",
    "    \r\n",
    "    if tot <= k:\r\n",
    "        return -1\r\n",
    "    \r\n",
    "    tmp,Len = 0,idx+1\r\n",
    "    while que and k - Len*(que[0]-tmp)>0:\r\n",
    "        tt = hq.heappop(que)\r\n",
    "        k -= Len*(tt-tmp)\r\n",
    "        Len -= 1\r\n",
    "        tmp = tt\r\n",
    "        while que and que[0] == tmp:\r\n",
    "            Len -= 1\r\n",
    "            hq.heappop(que)\r\n",
    "    \r\n",
    "    if Len == 1:\r\n",
    "        for idx,ft in enumerate(food_times):\r\n",
    "            if ft > tmp:\r\n",
    "                return idx +1\r\n",
    "    else:\r\n",
    "        k %= Len\r\n",
    "        cnt = -1\r\n",
    "        for idx,ft in enumerate(food_times):\r\n",
    "            if ft > tmp:\r\n",
    "                cnt += 1\r\n",
    "                if cnt == k:\r\n",
    "                    return idx+1\r\n",
    "        print(k,tmp,Len)"
   ],
   "outputs": [],
   "metadata": {}
  }
 ],
 "metadata": {
  "orig_nbformat": 4,
  "language_info": {
   "name": "python"
  }
 },
 "nbformat": 4,
 "nbformat_minor": 2
}