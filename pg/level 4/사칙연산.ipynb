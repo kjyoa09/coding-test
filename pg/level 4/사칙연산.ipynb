{
 "cells": [
  {
   "cell_type": "code",
   "execution_count": 64,
   "source": [
    "def solution(arr):\r\n",
    "    num = (len(arr)+1)//2\r\n",
    "    dp_min,dp_max = [[0]*num for _ in range(num)],[[0]*num for _ in range(num)]\r\n",
    "\r\n",
    "    for n in range(0,len(arr),2):\r\n",
    "        dp_min[n//2][n//2] = int(arr[n])\r\n",
    "        dp_max[n//2][n//2] = int(arr[n])\r\n",
    "\r\n",
    "    for Len in range(1,num):\r\n",
    "        for i in range(num-Len):\r\n",
    "            end = i + Len\r\n",
    "            dp_max[i][end] = -float('INF')\r\n",
    "            dp_min[i][end] =  float('INF')\r\n",
    "\r\n",
    "            for k in range(end-i):\r\n",
    "                if arr[(i+k)*2 + 1] == \"-\":\r\n",
    "                    dp_max[i][end] = max(dp_max[i][end],dp_max[i][i+k] - dp_min[i+k+1][end])\r\n",
    "                    dp_min[i][end] = min(dp_min[i][end],dp_min[i][i+k] - dp_max[i+k+1][end])\r\n",
    "                else:\r\n",
    "                    dp_max[i][end] = max(dp_max[i][end],dp_max[i][i+k] + dp_max[i+k+1][end])\r\n",
    "                    dp_min[i][end] = min(dp_min[i][end],dp_min[i][i+k] + dp_min[i+k+1][end])\r\n",
    "    return dp_max[0][-1]"
   ],
   "outputs": [],
   "metadata": {}
  },
  {
   "cell_type": "code",
   "execution_count": null,
   "source": [
    "solution([\"5\", \"-\", \"3\", \"+\", \"1\", \"+\", \"2\", \"-\", \"4\"])"
   ],
   "outputs": [],
   "metadata": {}
  }
 ],
 "metadata": {
  "orig_nbformat": 4,
  "language_info": {
   "name": "python",
   "version": "3.8.5",
   "mimetype": "text/x-python",
   "codemirror_mode": {
    "name": "ipython",
    "version": 3
   },
   "pygments_lexer": "ipython3",
   "nbconvert_exporter": "python",
   "file_extension": ".py"
  },
  "kernelspec": {
   "name": "python3",
   "display_name": "Python 3.8.5 64-bit ('DH': conda)"
  },
  "interpreter": {
   "hash": "34039bfad4eb1e505f8576daa339440c181ec0abde8f20d178c0c32cf0e3d5ae"
  }
 },
 "nbformat": 4,
 "nbformat_minor": 2
}