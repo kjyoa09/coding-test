{
 "cells": [
  {
   "cell_type": "code",
   "execution_count": 22,
   "source": [
    "'''\r\n",
    "백준 11049\r\n",
    "\r\n",
    "dp\r\n",
    "\r\n",
    "l : 행렬 길이\r\n",
    "s : 시작점\r\n",
    "k : 중간 부분\r\n",
    "'''\r\n",
    "\r\n",
    "def solution(matrix_sizes):\r\n",
    "    Len = len(matrix_sizes)\r\n",
    "    \r\n",
    "    dp = [[0] * Len for _ in range(Len)]\r\n",
    "    \r\n",
    "\r\n",
    "    for n in range(Len-1):\r\n",
    "        dp[n][n+1] = matrix_sizes[n][0]*matrix_sizes[n][1] * matrix_sizes[n+1][1]\r\n",
    "    \r\n",
    "    for l in range(2,Len):\r\n",
    "        for s in range(Len-l):\r\n",
    "            end = s+l\r\n",
    "            dp[s][end] = float('INF')\r\n",
    "            for k in range(l):\r\n",
    "                dp[s][end] = min(dp[s][end],\r\n",
    "                                    dp[s][s+k] + dp[s+k+1][s+l] + matrix_sizes[s][0] * matrix_sizes[s+k][1] * matrix_sizes[s+l][1])\r\n",
    "                # print(dp[s][s+k] + dp[s+k+1][s+l] + matrix_sizes[s][0] * matrix_sizes[s+k][1] * matrix_sizes[s+l][1])\r\n",
    "    return dp[0][-1]"
   ],
   "outputs": [],
   "metadata": {}
  },
  {
   "cell_type": "code",
   "execution_count": 23,
   "source": [
    "solution([[5,3],[3,10],[10,6]])"
   ],
   "outputs": [
    {
     "output_type": "stream",
     "name": "stdout",
     "text": [
      "270\n",
      "450\n"
     ]
    },
    {
     "output_type": "execute_result",
     "data": {
      "text/plain": [
       "270"
      ]
     },
     "metadata": {},
     "execution_count": 23
    }
   ],
   "metadata": {}
  }
 ],
 "metadata": {
  "orig_nbformat": 4,
  "language_info": {
   "name": "python",
   "version": "3.8.5",
   "mimetype": "text/x-python",
   "codemirror_mode": {
    "name": "ipython",
    "version": 3
   },
   "pygments_lexer": "ipython3",
   "nbconvert_exporter": "python",
   "file_extension": ".py"
  },
  "kernelspec": {
   "name": "python3",
   "display_name": "Python 3.8.5 64-bit ('DH': conda)"
  },
  "interpreter": {
   "hash": "34039bfad4eb1e505f8576daa339440c181ec0abde8f20d178c0c32cf0e3d5ae"
  }
 },
 "nbformat": 4,
 "nbformat_minor": 2
}