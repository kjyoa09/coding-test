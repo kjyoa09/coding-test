{
 "cells": [
  {
   "cell_type": "code",
   "execution_count": 16,
   "source": [
    "def solution(n):\r\n",
    "    if n%2:\r\n",
    "        return 0\r\n",
    "    else:\r\n",
    "        dp = [3]\r\n",
    "        cumsum = [0]\r\n",
    "        for _ in range(n//2-1):\r\n",
    "            dp.append(dp[-1]*3+2+2*cumsum[-1])\r\n",
    "            cumsum.append(cumsum[-1] + dp[-2])\r\n",
    "        return dp[-1] % 1_000_000_007"
   ],
   "outputs": [],
   "metadata": {}
  },
  {
   "cell_type": "code",
   "execution_count": 17,
   "source": [
    "solution(8)"
   ],
   "outputs": [
    {
     "output_type": "execute_result",
     "data": {
      "text/plain": [
       "153"
      ]
     },
     "metadata": {},
     "execution_count": 17
    }
   ],
   "metadata": {}
  }
 ],
 "metadata": {
  "orig_nbformat": 4,
  "language_info": {
   "name": "python",
   "version": "3.8.5",
   "mimetype": "text/x-python",
   "codemirror_mode": {
    "name": "ipython",
    "version": 3
   },
   "pygments_lexer": "ipython3",
   "nbconvert_exporter": "python",
   "file_extension": ".py"
  },
  "kernelspec": {
   "name": "python3",
   "display_name": "Python 3.8.5 64-bit ('DH': conda)"
  },
  "interpreter": {
   "hash": "34039bfad4eb1e505f8576daa339440c181ec0abde8f20d178c0c32cf0e3d5ae"
  }
 },
 "nbformat": 4,
 "nbformat_minor": 2
}