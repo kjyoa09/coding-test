{
 "cells": [
  {
   "cell_type": "code",
   "execution_count": 61,
   "metadata": {},
   "outputs": [],
   "source": [
    "def solution(strs, t):\n",
    "    L,inf = len(t),float('inf')\n",
    "    t = ' '+t\n",
    "    dic = {}\n",
    "    for st in strs:\n",
    "        cur_dic = dic\n",
    "        for s in st:\n",
    "            if s not in cur_dic:\n",
    "                cur_dic[s] = {}\n",
    "            cur_dic = cur_dic[s]\n",
    "        cur_dic['end'] = True\n",
    "    \n",
    "    ans = [inf] * (L+1)\n",
    "    for idx,tt in enumerate(t):\n",
    "        if idx == 0:\n",
    "            ans[0] = 0\n",
    "\n",
    "        else:\n",
    "            if tt in dic:\n",
    "                cur_dic = dic[tt]\n",
    "                for num in range(5):\n",
    "\n",
    "                    if ans[idx+num] > ans[idx-1] + 1 and 'end' in cur_dic:\n",
    "                        ans[idx+num] = ans[idx-1] + 1\n",
    "\n",
    "                    if idx + num + 1 < L+1 and t[idx+num+1] in cur_dic:\n",
    "                        cur_dic = cur_dic[t[idx+num+1]]\n",
    "                    else:\n",
    "                        break\n",
    "    print(ans)\n"
   ]
  },
  {
   "cell_type": "code",
   "execution_count": 62,
   "metadata": {},
   "outputs": [
    {
     "name": "stdout",
     "output_type": "stream",
     "text": [
      "[0, 1, 1, 2, 2, 3, 3, 4]\n"
     ]
    }
   ],
   "source": [
    "solution([\"ab\", \"na\", \"n\", \"a\", \"bn\"], \"nabnabn\")"
   ]
  }
 ],
 "metadata": {
  "interpreter": {
   "hash": "34039bfad4eb1e505f8576daa339440c181ec0abde8f20d178c0c32cf0e3d5ae"
  },
  "kernelspec": {
   "display_name": "Python 3.8.5 64-bit ('DH': conda)",
   "name": "python3"
  },
  "language_info": {
   "codemirror_mode": {
    "name": "ipython",
    "version": 3
   },
   "file_extension": ".py",
   "mimetype": "text/x-python",
   "name": "python",
   "nbconvert_exporter": "python",
   "pygments_lexer": "ipython3",
   "version": "3.8.5"
  },
  "orig_nbformat": 4
 },
 "nbformat": 4,
 "nbformat_minor": 2
}
