{
 "cells": [
  {
   "cell_type": "code",
   "execution_count": 63,
   "metadata": {},
   "outputs": [],
   "source": [
    "def solution(strs, t):\n",
    "    L,inf = len(t),float('inf')\n",
    "\n",
    "    t = ' '+t\n",
    "    dic = {}\n",
    "\n",
    "    for st in strs: # dictionary 만들기, 마지막 지점에 end 추가해서 str 마지막인지 확인 가능\n",
    "        cur_dic = dic\n",
    "        for s in st:\n",
    "            if s not in cur_dic:\n",
    "                cur_dic[s] = {}\n",
    "            cur_dic = cur_dic[s]\n",
    "        cur_dic['end'] = True\n",
    "\n",
    "    ans = [inf] * (L+1)\n",
    "    for idx,tt in enumerate(t):\n",
    "\n",
    "        if idx == 0: # 초기화\n",
    "            ans[0] = 0\n",
    "\n",
    "        else:\n",
    "            if tt in dic:\n",
    "                cur_dic = dic[tt]\n",
    " \n",
    "                for num in range(5): # 길이 최대 5\n",
    "\n",
    "                    if ans[idx+num] > ans[idx-1] + 1 and 'end' in cur_dic:\n",
    "                        ans[idx+num] = ans[idx-1] + 1\n",
    "\n",
    "                    if idx + num + 1 < L+1 and t[idx+num+1] in cur_dic:\n",
    "                        cur_dic = cur_dic[t[idx+num+1]]\n",
    "                    else:\n",
    "                        break\n",
    "\n",
    "\n",
    "    return ans[-1] if ans[-1] != inf else -1"
   ]
  },
  {
   "cell_type": "code",
   "execution_count": 62,
   "metadata": {},
   "outputs": [
    {
     "name": "stdout",
     "output_type": "stream",
     "text": [
      "[0, 1, 1, 2, 2, 3, 3, 4]\n"
     ]
    }
   ],
   "source": [
    "solution([\"ab\", \"na\", \"n\", \"a\", \"bn\"], \"nabnabn\")"
   ]
  }
 ],
 "metadata": {
  "interpreter": {
   "hash": "34039bfad4eb1e505f8576daa339440c181ec0abde8f20d178c0c32cf0e3d5ae"
  },
  "kernelspec": {
   "display_name": "Python 3.8.5 64-bit ('DH': conda)",
   "name": "python3"
  },
  "language_info": {
   "codemirror_mode": {
    "name": "ipython",
    "version": 3
   },
   "file_extension": ".py",
   "mimetype": "text/x-python",
   "name": "python",
   "nbconvert_exporter": "python",
   "pygments_lexer": "ipython3",
   "version": "3.8.5"
  },
  "orig_nbformat": 4
 },
 "nbformat": 4,
 "nbformat_minor": 2
}
