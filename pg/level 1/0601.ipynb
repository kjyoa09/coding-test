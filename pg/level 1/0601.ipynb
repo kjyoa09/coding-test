{
 "metadata": {
  "language_info": {
   "codemirror_mode": {
    "name": "ipython",
    "version": 3
   },
   "file_extension": ".py",
   "mimetype": "text/x-python",
   "name": "python",
   "nbconvert_exporter": "python",
   "pygments_lexer": "ipython3",
   "version": 3
  },
  "orig_nbformat": 2
 },
 "nbformat": 4,
 "nbformat_minor": 2,
 "cells": [
  {
   "source": [
    "내적"
   ],
   "cell_type": "markdown",
   "metadata": {}
  },
  {
   "cell_type": "code",
   "execution_count": null,
   "metadata": {},
   "outputs": [],
   "source": [
    "def solution(a, b):\n",
    "    return sum([x*y for x,y in zip(a,b)])"
   ]
  },
  {
   "source": [
    "모의고사"
   ],
   "cell_type": "markdown",
   "metadata": {}
  },
  {
   "cell_type": "code",
   "execution_count": null,
   "metadata": {},
   "outputs": [],
   "source": [
    "def solution(answers):\n",
    "    \n",
    "    ans1 = [1, 2, 3, 4, 5, 1, 2, 3, 4, 5] * (10000//10)\n",
    "    ans2 = [2, 1, 2, 3, 2, 4, 2, 5, 2, 1, 2, 3, 2, 4, 2, 5] * (10000//16 + 1)\n",
    "    ans3 = [3, 3, 1, 1, 2, 2, 4, 4, 5, 5, 3, 3, 1, 1, 2, 2, 4, 4, 5, 5] * (10000//20 + 1)\n",
    "    \n",
    "    ans = [0,0,0]\n",
    "    while answers:\n",
    "        tmp_an,a1,a2,a3 = answers.pop(0),ans1.pop(0),ans2.pop(0),ans3.pop(0)\n",
    "        if tmp_an == a1:\n",
    "            ans[0] +=1\n",
    "        if tmp_an == a2:\n",
    "            ans[1] +=1\n",
    "        if tmp_an == a3:\n",
    "            ans[2] +=1\n",
    "    \n",
    "    return [idx+1 for idx,x in enumerate(ans) if x == max(ans)]"
   ]
  },
  {
   "source": [
    "완주하지 못한 선수"
   ],
   "cell_type": "markdown",
   "metadata": {}
  },
  {
   "cell_type": "code",
   "execution_count": null,
   "metadata": {},
   "outputs": [],
   "source": [
    "from collections import Counter\n",
    "def solution(participant, completion):\n",
    "    ans = Counter(participant) - Counter(completion)\n",
    "    return list(ans.keys())[0]"
   ]
  },
  {
   "source": [
    "체육복"
   ],
   "cell_type": "markdown",
   "metadata": {}
  },
  {
   "cell_type": "code",
   "execution_count": null,
   "metadata": {},
   "outputs": [],
   "source": [
    "def solution(n, lost, reserve):\n",
    "    Lost = [x for x in lost if x not in reserve]\n",
    "    Reserve = [x for x in reserve if x not in lost]\n",
    "    \n",
    "    Lost.sort()\n",
    "    print(Lost)\n",
    "    Reserve = set(Reserve)\n",
    "    \n",
    "    ans = 0\n",
    "\n",
    "    for l in Lost[::-1]:\n",
    "        print(l)\n",
    "        if set([l + 1]) & Reserve:\n",
    "            Reserve = Reserve - set([l + 1])\n",
    "        elif set([l - 1]) & Reserve:\n",
    "            Reserve = Reserve - set([l - 1])\n",
    "        else: \n",
    "            ans +=1\n",
    "    return n - ans"
   ]
  },
  {
   "source": [
    "크레인 인형뽑기"
   ],
   "cell_type": "markdown",
   "metadata": {}
  },
  {
   "cell_type": "code",
   "execution_count": null,
   "metadata": {},
   "outputs": [],
   "source": [
    "def solution(board, moves):\n",
    "    board = list(map(list,zip(*board)))\n",
    "    \n",
    "    maps = []\n",
    "    for tmp in board:\n",
    "        maps += [[x for x in tmp if x != 0]]\n",
    "        \n",
    "    \n",
    "    stack = []\n",
    "    ans = 0\n",
    "    for move in moves:\n",
    "        tmp = move - 1\n",
    "        if len(maps[tmp]) == 0:\n",
    "            continue\n",
    "        else:\n",
    "            if len(stack) != 0 and stack[-1] == maps[tmp][0]:\n",
    "                stack.pop()\n",
    "                ans += 2\n",
    "            else:\n",
    "                stack.append(maps[tmp][0])\n",
    "            maps[tmp] = maps[tmp][1:]\n",
    "    \n",
    "    return ans"
   ]
  },
  {
   "source": [
    "폰켓몬"
   ],
   "cell_type": "markdown",
   "metadata": {}
  },
  {
   "cell_type": "code",
   "execution_count": null,
   "metadata": {},
   "outputs": [],
   "source": [
    "def solution(nums):\n",
    "    sp = len(set(nums))\n",
    "    \n",
    "    if sp < len(nums)//2:\n",
    "        return sp\n",
    "    else:\n",
    "        return len(nums)//2"
   ]
  }
 ]
}