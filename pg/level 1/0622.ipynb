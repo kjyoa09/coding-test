{
 "metadata": {
  "language_info": {
   "codemirror_mode": {
    "name": "ipython",
    "version": 3
   },
   "file_extension": ".py",
   "mimetype": "text/x-python",
   "name": "python",
   "nbconvert_exporter": "python",
   "pygments_lexer": "ipython3",
   "version": 3
  },
  "orig_nbformat": 2
 },
 "nbformat": 4,
 "nbformat_minor": 2,
 "cells": [
  {
   "source": [
    "[1차] 다트 게임"
   ],
   "cell_type": "markdown",
   "metadata": {}
  },
  {
   "cell_type": "code",
   "execution_count": null,
   "metadata": {},
   "outputs": [],
   "source": [
    "def solution(dartResult):\n",
    "    dartResult = list(dartResult)\n",
    "    ans = []\n",
    "    for _ in range(3):\n",
    "        if dartResult[1] != \"0\":            \n",
    "            score,bonus = int(dartResult.pop(0)),dartResult.pop(0)\n",
    "        else:\n",
    "            score,bonus = int(dartResult.pop(0)+dartResult.pop(0)),dartResult.pop(0)\n",
    "        if bonus == \"D\":\n",
    "            score **= 2\n",
    "        elif bonus == \"T\":\n",
    "            score **= 3\n",
    "        if len(dartResult) != 0:\n",
    "            if dartResult[0] == \"#\":\n",
    "                dartResult.pop(0)\n",
    "                ans.append(-score)\n",
    "            elif dartResult[0] == \"*\":\n",
    "                dartResult.pop(0)\n",
    "                if len(ans) != 0:\n",
    "                    ans[-1] *= 2\n",
    "                ans.append(2*score)\n",
    "            else:\n",
    "                ans.append(score)\n",
    "        else:\n",
    "            ans.append(score)\n",
    "    return sum(ans)"
   ]
  },
  {
   "source": [
    "같은 숫자는 싫어"
   ],
   "cell_type": "markdown",
   "metadata": {}
  },
  {
   "cell_type": "code",
   "execution_count": null,
   "metadata": {},
   "outputs": [],
   "source": [
    "def solution(arr):\n",
    "    return [arr[0]] + [arr[i] for i in range(1,len(arr)) if arr[i] != arr[i-1]]"
   ]
  },
  {
   "source": [
    "나누어 떨어지는 숫자 배열"
   ],
   "cell_type": "markdown",
   "metadata": {}
  },
  {
   "cell_type": "code",
   "execution_count": null,
   "metadata": {},
   "outputs": [],
   "source": [
    "def solution(arr, divisor):\n",
    "    tmp = [x for x in arr if x%divisor == 0]\n",
    "    if len(tmp) == 0: return [-1]\n",
    "    else: return sorted(tmp)"
   ]
  },
  {
   "source": [
    "두 정수 사이의 합"
   ],
   "cell_type": "markdown",
   "metadata": {}
  },
  {
   "cell_type": "code",
   "execution_count": null,
   "metadata": {},
   "outputs": [],
   "source": [
    "def solution(a, b):\n",
    "    return sum(range(min(a,b),max(a,b)+1))"
   ]
  },
  {
   "source": [
    "문자열 내 마음대로 정렬하기"
   ],
   "cell_type": "markdown",
   "metadata": {}
  },
  {
   "cell_type": "code",
   "execution_count": null,
   "metadata": {},
   "outputs": [],
   "source": [
    "def solution(strings, n):\n",
    "    strings.sort(key = lambda x:(x[n],x))\n",
    "    return strings"
   ]
  },
  {
   "source": [
    "문자열 내 p와 y의 개수"
   ],
   "cell_type": "markdown",
   "metadata": {}
  },
  {
   "cell_type": "code",
   "execution_count": null,
   "metadata": {},
   "outputs": [],
   "source": [
    "def solution(s):\n",
    "    s = s.lower()\n",
    "    if s.count(\"p\") == s.count(\"y\"):return True\n",
    "    else:return False"
   ]
  },
  {
   "source": [
    "문자열 내림차순으로 배치하기"
   ],
   "cell_type": "markdown",
   "metadata": {}
  },
  {
   "cell_type": "code",
   "execution_count": null,
   "metadata": {},
   "outputs": [],
   "source": [
    "def solution(s):\n",
    "    s = list(s)\n",
    "    s.sort(key=lambda x:-ord(x))\n",
    "    return\"\".join(s)"
   ]
  },
  {
   "source": [
    "문자열 다루기 기본"
   ],
   "cell_type": "markdown",
   "metadata": {}
  },
  {
   "cell_type": "code",
   "execution_count": null,
   "metadata": {},
   "outputs": [],
   "source": [
    "def solution(s):\n",
    "    return (len(s) == 4 or len(s) == 6) and s.isdecimal()"
   ]
  },
  {
   "source": [
    "서울에서 김서방 찾기"
   ],
   "cell_type": "markdown",
   "metadata": {}
  },
  {
   "cell_type": "code",
   "execution_count": null,
   "metadata": {},
   "outputs": [],
   "source": [
    "def solution(seoul):\n",
    "    return \"김서방은 {}에 있다\".format(seoul.index(\"Kim\"))"
   ]
  },
  {
   "source": [
    "소수 찾기"
   ],
   "cell_type": "markdown",
   "metadata": {}
  },
  {
   "cell_type": "code",
   "execution_count": null,
   "metadata": {},
   "outputs": [],
   "source": [
    "def solution(n):\n",
    "    ch = [True] * (n+1)\n",
    "    for i in range(2,n+1):\n",
    "        if ch[i]:\n",
    "            for num in range(2*i,n+1,i):\n",
    "                ch[num] = False\n",
    "    return sum(ch[2:])"
   ]
  },
  {
   "source": [
    "수박수박수박수박수박수?"
   ],
   "cell_type": "markdown",
   "metadata": {}
  },
  {
   "cell_type": "code",
   "execution_count": null,
   "metadata": {},
   "outputs": [],
   "source": [
    "def solution(n):\n",
    "    a,b = divmod(n,2)\n",
    "    return \"수박\"*a+\"수\"*b"
   ]
  },
  {
   "source": [
    "문자열을 정수로 바꾸기"
   ],
   "cell_type": "markdown",
   "metadata": {}
  },
  {
   "cell_type": "code",
   "execution_count": null,
   "metadata": {},
   "outputs": [],
   "source": [
    "def solution(s):\n",
    "    return int(s)"
   ]
  },
  {
   "source": [
    "시저 암호"
   ],
   "cell_type": "markdown",
   "metadata": {}
  },
  {
   "cell_type": "code",
   "execution_count": null,
   "metadata": {},
   "outputs": [],
   "source": [
    "def solution(s, n):\n",
    "    ans = \"\"\n",
    "    for i in s:\n",
    "        if i == \" \":\n",
    "            ans += i\n",
    "        else:\n",
    "            if ord(i) >= ord(\"a\"):\n",
    "                if ord(i)+n > ord(\"z\"):\n",
    "                    ans += chr(ord(i)+n-26)\n",
    "                else:\n",
    "                    ans += chr(ord(i)+n)\n",
    "            else:\n",
    "                if ord(i)+n > ord(\"Z\"):\n",
    "                    ans += chr(ord(i)+n-26)\n",
    "                else:\n",
    "                    ans += chr(ord(i)+n)\n",
    "    return ans"
   ]
  },
  {
   "source": [
    "약수의 합"
   ],
   "cell_type": "markdown",
   "metadata": {}
  },
  {
   "cell_type": "code",
   "execution_count": null,
   "metadata": {},
   "outputs": [],
   "source": [
    "def solution(n):\n",
    "    ans = 0\n",
    "    for i in range(1,n+1):\n",
    "        if n%i == 0: ans+=i\n",
    "    return ans"
   ]
  },
  {
   "source": [
    "이상한 문자 만들기"
   ],
   "cell_type": "markdown",
   "metadata": {}
  },
  {
   "cell_type": "code",
   "execution_count": null,
   "metadata": {},
   "outputs": [],
   "source": [
    "def solution(s):\n",
    "    s = [list(x) for x in s.split(\" \")]\n",
    "    for st in s:\n",
    "        for i in range(len(st)):\n",
    "            if i%2:\n",
    "                st[i] = st[i].lower()\n",
    "            else:\n",
    "                st[i] = st[i].upper()\n",
    "    return \" \".join([\"\".join(x) for x in s])"
   ]
  },
  {
   "source": [
    "자릿수 더하기\n"
   ],
   "cell_type": "markdown",
   "metadata": {}
  },
  {
   "cell_type": "code",
   "execution_count": null,
   "metadata": {},
   "outputs": [],
   "source": [
    "def solution(n):\n",
    "    return sum(list(map(int,list(str(n)))))    "
   ]
  },
  {
   "source": [
    "자연수 뒤집어 배열로 만들기"
   ],
   "cell_type": "markdown",
   "metadata": {}
  },
  {
   "cell_type": "code",
   "execution_count": null,
   "metadata": {},
   "outputs": [],
   "source": [
    "def solution(n):\n",
    "    return list(map(int,list(str(n))[::-1]))"
   ]
  },
  {
   "source": [
    "정수 내림차순으로 배치하기"
   ],
   "cell_type": "markdown",
   "metadata": {}
  },
  {
   "cell_type": "code",
   "execution_count": null,
   "metadata": {},
   "outputs": [],
   "source": [
    "def solution(n):\n",
    "    return int(\"\".join(sorted(list(str(n)),reverse = True)))"
   ]
  },
  {
   "source": [
    "정수 제곱근 판별"
   ],
   "cell_type": "markdown",
   "metadata": {}
  },
  {
   "cell_type": "code",
   "execution_count": null,
   "metadata": {},
   "outputs": [],
   "source": [
    "def solution(n):\n",
    "    if n**(1/2)%1 == 0:return (n**(1/2)+1)**2 \n",
    "    else : return-1"
   ]
  },
  {
   "source": [
    "제일 작은 수 제거하기"
   ],
   "cell_type": "markdown",
   "metadata": {}
  },
  {
   "cell_type": "code",
   "execution_count": null,
   "metadata": {},
   "outputs": [],
   "source": [
    "def solution(arr):\n",
    "    del arr[arr.index(min(arr))]\n",
    "    if len(arr) == 0:return [-1]\n",
    "    else: return arr"
   ]
  }
 ]
}