{
 "metadata": {
  "language_info": {
   "codemirror_mode": {
    "name": "ipython",
    "version": 3
   },
   "file_extension": ".py",
   "mimetype": "text/x-python",
   "name": "python",
   "nbconvert_exporter": "python",
   "pygments_lexer": "ipython3",
   "version": 3
  },
  "orig_nbformat": 4
 },
 "nbformat": 4,
 "nbformat_minor": 2,
 "cells": [
  {
   "source": [
    "짝수와 홀수"
   ],
   "cell_type": "markdown",
   "metadata": {}
  },
  {
   "cell_type": "code",
   "execution_count": null,
   "metadata": {},
   "outputs": [],
   "source": [
    "def solution(num):\n",
    "    return \"Odd\" if num%2 else \"Even\""
   ]
  },
  {
   "source": [
    "최대공약수와 최소공배수"
   ],
   "cell_type": "markdown",
   "metadata": {}
  },
  {
   "cell_type": "code",
   "execution_count": null,
   "metadata": {},
   "outputs": [],
   "source": [
    "from math import gcd\n",
    "def solution(n, m):\n",
    "    return [gcd(n,m),n*m//gcd(n,m)]"
   ]
  },
  {
   "source": [
    "콜라츠 추측\n",
    "츠 추측\n",
    ">>  num : 1일 때 생각"
   ],
   "cell_type": "markdown",
   "metadata": {}
  },
  {
   "cell_type": "code",
   "execution_count": null,
   "metadata": {},
   "outputs": [],
   "source": [
    "def solution(num):\n",
    "    cnt = 0\n",
    "    while 1:\n",
    "        if num == 1:\n",
    "            return cnt\n",
    "        if cnt == 500:\n",
    "            return -1\n",
    "        if num%2:\n",
    "            num = num*3+1\n",
    "        else:\n",
    "            num//=2\n",
    "        cnt += 1"
   ]
  },
  {
   "source": [
    "평균 구하기"
   ],
   "cell_type": "markdown",
   "metadata": {}
  },
  {
   "cell_type": "code",
   "execution_count": null,
   "metadata": {},
   "outputs": [],
   "source": [
    "def solution(arr):\n",
    "    return sum(arr)/len(arr)"
   ]
  },
  {
   "source": [
    "하샤드 수"
   ],
   "cell_type": "markdown",
   "metadata": {}
  },
  {
   "cell_type": "code",
   "execution_count": null,
   "metadata": {},
   "outputs": [],
   "source": [
    "def solution(x):\n",
    "    return False if x%sum(map(int,list(str(x)))) else True"
   ]
  },
  {
   "source": [
    "핸드폰 번호 가리기"
   ],
   "cell_type": "markdown",
   "metadata": {}
  },
  {
   "cell_type": "code",
   "execution_count": null,
   "metadata": {},
   "outputs": [],
   "source": [
    "def solution(phone_number):\n",
    "    return \"*\"*(len(phone_number)-4) + phone_number[-4:]"
   ]
  },
  {
   "source": [
    "행렬의 덧셈"
   ],
   "cell_type": "markdown",
   "metadata": {}
  },
  {
   "cell_type": "code",
   "execution_count": null,
   "metadata": {},
   "outputs": [],
   "source": [
    "def solution(arr1, arr2):\n",
    "    return [[c1+c2 for c1,c2 in zip(r1,r2)]for r1,r2 in zip(arr1,arr2)]"
   ]
  },
  {
   "source": [
    "x만큼 간격이 있는 n개의 숫자"
   ],
   "cell_type": "markdown",
   "metadata": {}
  },
  {
   "cell_type": "code",
   "execution_count": null,
   "metadata": {},
   "outputs": [],
   "source": [
    "def solution(x, n):\n",
    "    return [x*i for i in range(1,n+1)]"
   ]
  },
  {
   "source": [
    "직사각형 별찍기"
   ],
   "cell_type": "markdown",
   "metadata": {}
  },
  {
   "cell_type": "code",
   "execution_count": null,
   "metadata": {},
   "outputs": [],
   "source": [
    "from sys import stdin\n",
    "input = stdin.readline\n",
    "a, b = map(int, input().strip().split(' '))\n",
    "for _ in range(b):\n",
    "    print(\"*\"*a)"
   ]
  }
 ]
}