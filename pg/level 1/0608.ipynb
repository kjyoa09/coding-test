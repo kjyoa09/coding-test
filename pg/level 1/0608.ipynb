{
 "metadata": {
  "language_info": {
   "codemirror_mode": {
    "name": "ipython",
    "version": 3
   },
   "file_extension": ".py",
   "mimetype": "text/x-python",
   "name": "python",
   "nbconvert_exporter": "python",
   "pygments_lexer": "ipython3",
   "version": 3
  },
  "orig_nbformat": 2
 },
 "nbformat": 4,
 "nbformat_minor": 2,
 "cells": [
  {
   "source": [
    "소수 만들기"
   ],
   "cell_type": "markdown",
   "metadata": {}
  },
  {
   "cell_type": "code",
   "execution_count": null,
   "metadata": {},
   "outputs": [],
   "source": [
    "from itertools import combinations\n",
    "def solution(nums):\n",
    "    All = [x+y+z for x,y,z in list(combinations(nums,3))]\n",
    "    \n",
    "    ans = 0\n",
    "    for al in All:\n",
    "        for n in range(2,al):\n",
    "            if al % n == 0:\n",
    "                break\n",
    "        else:\n",
    "            ans += 1\n",
    "    return ans"
   ]
  },
  {
   "source": [
    "로또의 최고 순위와 최저 순위"
   ],
   "cell_type": "markdown",
   "metadata": {}
  },
  {
   "cell_type": "code",
   "execution_count": null,
   "metadata": {},
   "outputs": [],
   "source": [
    "def solution(lottos, win_nums):\n",
    "    \n",
    "    dic={0:6,1:6,2:5,3:4,4:3,5:2,6:1}\n",
    "    mat = 0\n",
    "    zero = 0\n",
    "    for lotto in lottos:\n",
    "        if lotto in win_nums:\n",
    "            mat += 1\n",
    "        elif lotto == 0:\n",
    "            zero += 1\n",
    "    \n",
    "    return [dic[mat+zero],dic[mat]]\n"
   ]
  },
  {
   "source": [
    "음양 더하기"
   ],
   "cell_type": "markdown",
   "metadata": {}
  },
  {
   "cell_type": "code",
   "execution_count": null,
   "metadata": {},
   "outputs": [],
   "source": [
    "def solution(absolutes, signs):\n",
    "    answer = 0\n",
    "    for si,v in zip(signs,absolutes):\n",
    "        if si:\n",
    "            answer += v\n",
    "        else:\n",
    "            answer -= v         \n",
    "    return answer"
   ]
  },
  {
   "source": [
    "신규 아이디 추천"
   ],
   "cell_type": "markdown",
   "metadata": {}
  },
  {
   "source": [
    "def solution(new_id):\n",
    "    dic = [chr(x) for x in range(97,123)] + [\".\",\"-\",\"_\"] + list(range(1,10))\n",
    "    \n",
    "    new_id = [x.lower() for x in list(new_id) if x.lower() in dic or x.isdigit()]\n",
    "\n",
    "    tmp = []\n",
    "    while new_id:\n",
    "        a = new_id.pop(0)\n",
    "        if len(tmp) == 0 or a != \".\" or tmp[-1] != \".\":\n",
    "            tmp.append(a)\n",
    "    \n",
    "    if len(tmp) != 0 and tmp[0] == \".\":\n",
    "        tmp.pop(0)\n",
    "    if len(tmp) != 0 and tmp[-1] == \".\":\n",
    "        tmp.pop()\n",
    "    if len(tmp) == 0:\n",
    "        tmp = [\"a\"]\n",
    "    if len(tmp) >=16:\n",
    "        tmp = tmp[:15]\n",
    "        if tmp[-1] == \".\":\n",
    "            tmp.pop()\n",
    "    if len(tmp) <= 2:\n",
    "        tmp += [tmp[-1]] * (3-len(tmp))\n",
    "    return \"\".join(tmp)\n",
    "    "
   ],
   "cell_type": "code",
   "metadata": {},
   "execution_count": null,
   "outputs": []
  },
  {
   "source": [
    "키패드 누르기"
   ],
   "cell_type": "markdown",
   "metadata": {}
  },
  {
   "cell_type": "code",
   "execution_count": null,
   "metadata": {},
   "outputs": [],
   "source": [
    "def solution(numbers, hand):\n",
    "    dic = {}\n",
    "    for r in range(4):\n",
    "        for c in range(3):\n",
    "            if c==0 and r==3:\n",
    "                dic[\"*\"] = (r,c)\n",
    "            elif c==2 and r==3:\n",
    "                dic[\"#\"] = (r,c)\n",
    "            elif c==1 and r==3:\n",
    "                dic[0] = (r,c)\n",
    "            else:\n",
    "                dic[c+3*r+1] = (r,c)\n",
    "\n",
    "    L_now = (3,0);R_now = (3,2)\n",
    "    ans = \"\"\n",
    "    for num in numbers:\n",
    "        if num in [1,4,7]:\n",
    "            ans += \"L\"\n",
    "            L_now = dic[num]\n",
    "        elif num in [3,6,9]:\n",
    "            ans += \"R\"\n",
    "            R_now = dic[num]\n",
    "        else:\n",
    "            R_di = sum([abs(x-y) for x,y in zip(dic[num],R_now)])\n",
    "            L_di = sum([abs(x-y) for x,y in zip(dic[num],L_now)])\n",
    "            \n",
    "            if R_di > L_di:\n",
    "                ans += \"L\"\n",
    "                L_now = dic[num]\n",
    "            elif R_di < L_di:\n",
    "                ans += \"R\"\n",
    "                R_now = dic[num]\n",
    "            else:\n",
    "                if hand == \"left\":\n",
    "                    ans += \"L\"\n",
    "                    L_now = dic[num]\n",
    "                else:\n",
    "                    ans += \"R\"\n",
    "                    R_now = dic[num]\n",
    "    return ans"
   ]
  },
  {
   "source": [
    "K번째 수"
   ],
   "cell_type": "markdown",
   "metadata": {}
  },
  {
   "cell_type": "code",
   "execution_count": null,
   "metadata": {},
   "outputs": [],
   "source": [
    "def solution(array, commands):\n",
    "    answer = []    \n",
    "    for s,e,idx in commands:\n",
    "        tmp = array[s-1:e]\n",
    "        tmp.sort()\n",
    "        answer.append(tmp[idx-1])\n",
    "    return answer"
   ]
  },
  {
   "source": [
    "실패율"
   ],
   "cell_type": "markdown",
   "metadata": {}
  },
  {
   "cell_type": "code",
   "execution_count": null,
   "metadata": {},
   "outputs": [],
   "source": [
    "def solution(N, stages):\n",
    "    dp = [0] * (N+2)\n",
    "    for st in stages:\n",
    "        for i in range(1,st+1):\n",
    "            dp[i] += 1\n",
    "    ans = []\n",
    "    for i in range(1,N+1):\n",
    "        if dp[i] == 0:\n",
    "            ans.append([i,0])\n",
    "        else:\n",
    "            ans.append([i,(dp[i]-dp[i+1])/dp[i]])\n",
    "    ans.sort(key = lambda x:(-x[1],x[0]))\n",
    "    return [x[0] for x in ans]\n",
    "'''\n",
    "def solution(N, stages):\n",
    "    ans = []\n",
    "    for i in range(1,N+1):\n",
    "        a = len([x for x in stages if x == i])\n",
    "        b = len([x for x in stages if x >= i])\n",
    "        if b==0:\n",
    "            ans.append([i,0])\n",
    "        else:\n",
    "            ans.append([i,a/b])\n",
    "    ans.sort(key = lambda x:(-x[1],x[0]))\n",
    "    return [x[0] for x in ans]\n",
    "'''"
   ]
  },
  {
   "source": [
    "약수의 개수와 덧샘"
   ],
   "cell_type": "markdown",
   "metadata": {}
  },
  {
   "cell_type": "code",
   "execution_count": null,
   "metadata": {},
   "outputs": [],
   "source": [
    "def solution(left, right):\n",
    "    return sum([-x if x**(1/2)%1 == 0 else x for x in range(left,right+1)])"
   ]
  },
  {
   "source": [
    "예산"
   ],
   "cell_type": "markdown",
   "metadata": {}
  },
  {
   "cell_type": "code",
   "execution_count": null,
   "metadata": {},
   "outputs": [],
   "source": [
    "def solution(d, budget):\n",
    "    d.sort()\n",
    "    n = 0\n",
    "    while d:\n",
    "        tmp = d.pop(0)\n",
    "        if budget - tmp >=0:\n",
    "            budget -= tmp\n",
    "            n +=1\n",
    "        else:\n",
    "            break\n",
    "    return n"
   ]
  },
  {
   "source": [
    "3진법 뒤집기"
   ],
   "cell_type": "markdown",
   "metadata": {}
  },
  {
   "cell_type": "code",
   "execution_count": null,
   "metadata": {},
   "outputs": [],
   "source": [
    "from math import log\n",
    "def solution(n):\n",
    "    sam = \"\"\n",
    "    for num in range(int(log(n,3)//1),-1,-1):\n",
    "        v,n = divmod(n,3**num)\n",
    "        sam += str(v)\n",
    "    return int(sam[::-1],3)"
   ]
  },
  {
   "source": [
    "두 개 뽑아서 더하기"
   ],
   "cell_type": "markdown",
   "metadata": {}
  },
  {
   "cell_type": "code",
   "execution_count": null,
   "metadata": {},
   "outputs": [],
   "source": [
    "def solution(numbers):\n",
    "    ans = []\n",
    "    for idx,v in enumerate(numbers):\n",
    "        for j in numbers[idx+1:]:\n",
    "            ans.append(v+j)\n",
    "    ans = list(set(ans))\n",
    "    return sorted(ans)"
   ]
  },
  {
   "source": [
    "[1차] 비밀지도"
   ],
   "cell_type": "markdown",
   "metadata": {}
  },
  {
   "cell_type": "code",
   "execution_count": null,
   "metadata": {},
   "outputs": [],
   "source": [
    "def solution(n, arr1, arr2):\n",
    "    arr1 = [list(bin(x)[2:].rjust(n)) for x in arr1]\n",
    "    arr2 = [list(bin(x)[2:].rjust(n)) for x in arr2]\n",
    "    ans = []\n",
    "    for r in range(n):\n",
    "        tmp = \"\"\n",
    "        for c in range(n):\n",
    "            if arr1[r][c] == \"1\" or arr2[r][c] == \"1\": \n",
    "                tmp += \"#\"\n",
    "            else:\n",
    "                tmp += \" \"\n",
    "        ans.append(tmp)\n",
    "    return ans"
   ]
  },
  {
   "source": [
    "2016년"
   ],
   "cell_type": "markdown",
   "metadata": {}
  },
  {
   "cell_type": "code",
   "execution_count": null,
   "metadata": {},
   "outputs": [],
   "source": [
    "def solution(a, b):\n",
    "    week = [\"THU\",\"FRI\",\"SAT\",\"SUN\",\"MON\",\"TUE\",\"WED\"]\n",
    "    mm = [31,29,31,30,31,30,31,31,30,31,30,31]\n",
    "    return week[(sum(mm[:a-1]) + b)%7]"
   ]
  },
  {
   "source": [
    "가운데 글자 가져오기"
   ],
   "cell_type": "markdown",
   "metadata": {}
  },
  {
   "cell_type": "code",
   "execution_count": null,
   "metadata": {},
   "outputs": [],
   "source": [
    "def solution(s):\n",
    "    Len = len(s)\n",
    "    if Len%2 == 0:\n",
    "        return s[Len//2-1:Len//2+1]\n",
    "    else:\n",
    "        return s[Len//2]"
   ]
  }
 ]
}