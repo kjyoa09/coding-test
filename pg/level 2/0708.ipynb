{
 "cells": [
  {
   "cell_type": "markdown",
   "metadata": {},
   "source": [
    "# 행렬 테두리 회전하기"
   ]
  },
  {
   "cell_type": "code",
   "execution_count": null,
   "metadata": {},
   "outputs": [],
   "source": [
    "'''\n",
    "def solution(rows, columns, queries):\n",
    "    matrix = [list(range(r * columns +1,r * columns + columns +1))for r in range(rows)]\n",
    "\n",
    "    ans = []\n",
    "    for x1,y1,x2,y2 in queries:\n",
    "        arr = matrix[x1 - 1][y1-1:y2]+ [matrix[i][y2-1]for i in range(x1-1,x2)][1:-1] + matrix[x2 - 1][y1-1:y2][::-1] + [matrix[i][y1-1]for i in range(x1-1,x2)][::-1][1:-1]\n",
    "        ans.append(min(arr))\n",
    "\n",
    "        arr = [arr[-1]] + arr[:-1]\n",
    "        a,b,c,d = arr[:y2-y1+1],arr[y2-y1+1: y2-y1 + x2-x1 ],arr[y2-y1+x2-x1:y2-y1+x2-x1+y2-y1+1],arr[y2-y1+x2-x1+y2-y1+1:]\n",
    "        matrix[x1 - 1][y1-1:y2] = a\n",
    "        matrix[x2 - 1][y1-1:y2] = c[::-1]\n",
    "\n",
    "        matrix = list(map(list,zip(*matrix)))\n",
    "        matrix[y2-1][x1:x2-1] = b\n",
    "        matrix[y1-1][x1:x2-1] = d[::-1]\n",
    "        matrix = list(map(list,zip(*matrix)))\n",
    "    return ans\n",
    "'''\n",
    "def solution(rows, columns, queries):\n",
    "    maps = [list(range(1+i*columns,(i+1)*columns+1)) for i in range(rows)]\n",
    "    ans = []\n",
    "    for x1,y1,x2,y2 in queries:\n",
    "        tmp = maps[x1-1][y1-1]\n",
    "        tmp_ans = tmp\n",
    "        for i in range(y1,y2):\n",
    "            maps[x1-1][i],tmp = tmp,maps[x1-1][i]\n",
    "            if tmp_ans > tmp:\n",
    "                tmp_ans = tmp\n",
    "        for i in range(x1,x2):\n",
    "            maps[i][y2-1],tmp = tmp,maps[i][y2-1]\n",
    "            if tmp_ans > tmp:\n",
    "                tmp_ans = tmp\n",
    "        for i in range(y2-2,y1-2,-1):\n",
    "            maps[x2-1][i],tmp = tmp,maps[x2-1][i]\n",
    "            if tmp_ans > tmp:\n",
    "                tmp_ans = tmp\n",
    "        for i in range(x2-2,x1-2,-1):\n",
    "            maps[i][y1-1],tmp = tmp,maps[i][y1-1]\n",
    "            if tmp_ans > tmp:\n",
    "                tmp_ans = tmp\n",
    "        ans += [tmp_ans]\n",
    "    return ans"
   ]
  },
  {
   "cell_type": "markdown",
   "metadata": {},
   "source": [
    "# 괄호 회전하기"
   ]
  },
  {
   "cell_type": "code",
   "execution_count": null,
   "metadata": {},
   "outputs": [],
   "source": [
    "def ftn(st):\n",
    "    B,M,S = [],[],[]\n",
    "    for idx,s in enumerate(st):\n",
    "        if s == \"[\":\n",
    "            B.append(idx)\n",
    "        elif s == \"{\":\n",
    "            M.append(idx)\n",
    "        elif s == \"(\":\n",
    "            S.append(idx)\n",
    "        elif s == \"]\":\n",
    "            if len(B) == 0 or (len(S) > 0 and B[-1] < S[-1]) or (len(M) > 0 and B[-1] < M[-1]):\n",
    "                return 0\n",
    "            else:\n",
    "                B.pop()\n",
    "        elif s == \"}\":\n",
    "            if len(M) == 0 or (len(S) > 0 and M[-1] < S[-1]) or (len(B) > 0 and M[-1] < B[-1]):\n",
    "                return 0\n",
    "            else:\n",
    "                M.pop()\n",
    "        elif s == \")\":\n",
    "            if len(S) == 0 or (len(B) > 0 and S[-1] < B[-1]) or (len(M) > 0 and S[-1] < M[-1]):\n",
    "                return 0\n",
    "            else:\n",
    "                S.pop()\n",
    "    else:\n",
    "        if len(B) == len(M) == len(S) == 0:\n",
    "            return 1\n",
    "        else:\n",
    "            return 0\n",
    "def solution(s):\n",
    "    return sum(ftn(s[i:]+s[:i]) for i in range(len(s)))"
   ]
  },
  {
   "cell_type": "markdown",
   "metadata": {},
   "source": [
    "# 다리를 지나는 트럭"
   ]
  },
  {
   "cell_type": "code",
   "execution_count": null,
   "metadata": {},
   "outputs": [],
   "source": [
    "from collections import deque\n",
    "def solution(bridge_length, weight, truck_weights):\n",
    "    que = deque([0] * bridge_length)\n",
    "    tmp = 0\n",
    "    ans = 0\n",
    "    while 1:\n",
    "        tmp -= que.popleft()\n",
    "        if len(truck_weights) > 0 and tmp + truck_weights[0] <= weight:\n",
    "            add = truck_weights.pop(0)\n",
    "            tmp += add\n",
    "            que.append(add)\n",
    "        else:\n",
    "            que.append(0)\n",
    "        ans +=1\n",
    "        if tmp == 0 and len(truck_weights) == 0:\n",
    "            break\n",
    "    return ans"
   ]
  },
  {
   "cell_type": "markdown",
   "metadata": {},
   "source": [
    "# 카펫"
   ]
  },
  {
   "cell_type": "code",
   "execution_count": null,
   "metadata": {},
   "outputs": [],
   "source": [
    "def solution(brown, yellow):\n",
    "    return [((brown//2 + 2)+((brown//2 + 2)**2-4*(brown + yellow))**(1/2))/2,((brown//2 + 2)-((brown//2 + 2)**2-4*(brown + yellow))**(1/2))/2]"
   ]
  },
  {
   "cell_type": "markdown",
   "metadata": {},
   "source": [
    "# 순위 검색"
   ]
  },
  {
   "cell_type": "code",
   "execution_count": null,
   "metadata": {},
   "outputs": [],
   "source": [
    "from collections import defaultdict\n",
    "dic = defaultdict(list)\n",
    "def dfs(info,idx,st):\n",
    "    global dic\n",
    "    if idx == 4:\n",
    "        dic[st].append(int(info[4]))\n",
    "    else:\n",
    "        dfs(info,idx + 1, st+info[idx])\n",
    "        dfs(info,idx + 1, st+\"-\")\n",
    "        \n",
    "def ftn(arr,s):\n",
    "    lt= 0;rt = len(arr)\n",
    "    while lt<rt:\n",
    "        mid = (lt+rt)//2\n",
    "        if arr[mid] < s:\n",
    "            lt = mid + 1\n",
    "        else:\n",
    "            rt = mid\n",
    "    return rt\n",
    "def solution(info, query):\n",
    "    global dic\n",
    "    ans = []\n",
    "    for x in info:\n",
    "        dfs(x.split(\" \"),0,\"\")\n",
    "    for v in dic.values():\n",
    "        v.sort()\n",
    "    for x in query:\n",
    "        tmp = x.split(\" and \")\n",
    "        tmp,score = \"\".join(tmp[:-1])+tmp[-1].split(\" \")[0],int(tmp[-1].split(\" \")[1])\n",
    "        ans.append(len(dic[tmp]) - ftn(dic[tmp],score))\n",
    "    return ans"
   ]
  },
  {
   "cell_type": "markdown",
   "metadata": {},
   "source": [
    "# H-Index"
   ]
  },
  {
   "cell_type": "code",
   "execution_count": null,
   "metadata": {},
   "outputs": [],
   "source": [
    "# https://hanyang-kr.libguides.com/c.php?g=717952\n",
    "def solution(citations):\n",
    "    arr = sorted(citations,reverse = True)\n",
    "    for idx,x in enumerate(arr):\n",
    "        if x >= idx + 1:\n",
    "            continue\n",
    "        else:\n",
    "            return idx\n",
    "    else :\n",
    "        return len(arr)"
   ]
  },
  {
   "cell_type": "markdown",
   "metadata": {},
   "source": [
    "# 배달"
   ]
  },
  {
   "cell_type": "code",
   "execution_count": null,
   "metadata": {},
   "outputs": [],
   "source": [
    "import heapq as hq\n",
    "def solution(N, road, K):\n",
    "    v = [[] for _ in range(N+1)]\n",
    "    for s,e,c in road:\n",
    "        v[s].append((c,e))\n",
    "        v[e].append((c,s))\n",
    "    ans = [float(\"INF\")] * (N+1)\n",
    "    ans[1] = 0\n",
    "    que = [(0,1)]\n",
    "    while que:\n",
    "        c,s = hq.heappop(que)\n",
    "        for cost,end in v[s]:\n",
    "            if cost + c < ans[end]:\n",
    "                hq.heappush(que,(cost+c,end))\n",
    "                ans[end] = cost + c\n",
    "    return sum(1 if x <= K else 0 for x in ans)"
   ]
  },
  {
   "cell_type": "markdown",
   "metadata": {},
   "source": [
    "# 위장"
   ]
  },
  {
   "cell_type": "code",
   "execution_count": null,
   "metadata": {},
   "outputs": [],
   "source": [
    "from collections import defaultdict\n",
    "def solution(clothes):\n",
    "    dic = defaultdict(int)\n",
    "    for clo in clothes:\n",
    "        dic[clo[1]] += 1\n",
    "    ans = 1\n",
    "    for v in dic.values():\n",
    "        ans *= (v+1)\n",
    "    return ans - 1"
   ]
  },
  {
   "cell_type": "markdown",
   "metadata": {},
   "source": [
    "# 큰 수 만들기"
   ]
  },
  {
   "cell_type": "code",
   "execution_count": null,
   "metadata": {},
   "outputs": [],
   "source": [
    "def solution(number, k):\n",
    "    num = list(number)\n",
    "    ans = [num[0]]\n",
    "    for n in num[1:]:\n",
    "        if len(ans) > 0 and int(ans[-1]) < int(n):\n",
    "            while len(ans) >0 and int(ans[-1]) < int(n) and k > 0:\n",
    "                ans.pop()\n",
    "                k-=1\n",
    "            ans.append(n)\n",
    "        else:\n",
    "            ans.append(n)\n",
    "    return \"\".join(ans[:-k]) if k else \"\".join(ans)"
   ]
  },
  {
   "cell_type": "markdown",
   "metadata": {},
   "source": [
    "# 후보키"
   ]
  },
  {
   "cell_type": "code",
   "execution_count": null,
   "metadata": {},
   "outputs": [],
   "source": [
    "from itertools import combinations\n",
    "def ftn(re,comb):\n",
    "    dic = {}\n",
    "    for r in re:\n",
    "        tmp = \"\"\n",
    "        for co in comb:\n",
    "            tmp += r[co]\n",
    "        if dic.get(tmp,0):\n",
    "            return False\n",
    "        else:\n",
    "            dic[tmp] = 1\n",
    "    else : \n",
    "        return True\n",
    "        \n",
    "def solution(relation):\n",
    "    N_r = len(relation)\n",
    "    N_c = len(relation[0])\n",
    "    ans = []\n",
    "    for n in range(1,N_c + 1):\n",
    "        comb = list(combinations(range(N_c),n))\n",
    "        for com in comb:\n",
    "            if ftn(relation,com):\n",
    "                if len(ans) == 0:\n",
    "                    ans.append(set(com))\n",
    "                else:\n",
    "                    for an in ans:\n",
    "                        if an & set(com) == an:\n",
    "                            break\n",
    "                    else:\n",
    "                        ans.append(set(com))\n",
    "    return len(ans)"
   ]
  },
  {
   "cell_type": "markdown",
   "metadata": {},
   "source": [
    "# 구명 보트"
   ]
  },
  {
   "cell_type": "code",
   "execution_count": null,
   "metadata": {},
   "outputs": [],
   "source": [
    "from collections import deque\n",
    "def solution(people, limit):\n",
    "    que = deque(sorted(people))\n",
    "    ans = 0\n",
    "    while que:\n",
    "        tmp = que.pop()\n",
    "        if len(que) > 0 and tmp + que[0] <= limit:\n",
    "            que.popleft()\n",
    "        ans += 1\n",
    "    return ans"
   ]
  },
  {
   "cell_type": "markdown",
   "metadata": {},
   "source": [
    "# 2개 이하로 다른 비트"
   ]
  },
  {
   "cell_type": "code",
   "execution_count": null,
   "metadata": {},
   "outputs": [],
   "source": [
    "def ftn(n):\n",
    "    bi = bin(n)[2:]\n",
    "    if bi.rfind(\"0\") == -1:\n",
    "        tmp = [\"1\"] + [\"0\"] + [\"1\"] * (len(bi)-1)\n",
    "        return int(\"\".join(tmp),2)\n",
    "    else:\n",
    "        tmp = bi.rfind(\"0\")\n",
    "        bi = list(bi)\n",
    "        bi[tmp] = \"1\"\n",
    "        return int(\"\".join(bi),2)\n",
    "def solution(numbers):\n",
    "    return [ftn(num) for num in numbers]"
   ]
  },
  {
   "cell_type": "markdown",
   "metadata": {},
   "source": [
    "# 주식가격"
   ]
  },
  {
   "cell_type": "code",
   "execution_count": null,
   "metadata": {},
   "outputs": [],
   "source": [
    "def solution(p):\n",
    "    N = len(p)\n",
    "    ans = []\n",
    "    for num in range(N):\n",
    "        tmp = p[num]\n",
    "        cnt = 0\n",
    "        for tt in range(num+1,N):\n",
    "            if p[tt] >= tmp:\n",
    "                cnt += 1\n",
    "            else:\n",
    "                cnt += 1\n",
    "                break\n",
    "        if num != N-1 and cnt == 0:\n",
    "            ans += [1]\n",
    "        else:\n",
    "            ans += [cnt]\n",
    "    return ans"
   ]
  },
  {
   "cell_type": "markdown",
   "metadata": {},
   "source": [
    "# 영어 끝말잇기"
   ]
  },
  {
   "cell_type": "code",
   "execution_count": null,
   "metadata": {},
   "outputs": [],
   "source": [
    "def solution(n, words):\n",
    "    dic = {}\n",
    "    for idx,w in enumerate(words):\n",
    "        if not (len(w) == 1 or w in dic):\n",
    "            if len(dic) > 0 :\n",
    "                if words[idx-1][-1] == w[0]:\n",
    "                    dic[w] = 1\n",
    "                else:\n",
    "                    break\n",
    "            else:\n",
    "                dic[w] = 1\n",
    "        else:\n",
    "            break\n",
    "    else:\n",
    "        return [0,0]\n",
    "    return [idx % n +1,(idx)//n+1]"
   ]
  },
  {
   "cell_type": "markdown",
   "metadata": {},
   "source": [
    "# [1차] 프렌즈4블록"
   ]
  },
  {
   "cell_type": "code",
   "execution_count": null,
   "metadata": {},
   "outputs": [],
   "source": [
    "def ftn(x,y,maps,n,m,check):\n",
    "    dx = [0,1,1,0]; dy = [0,0,1,1]\n",
    "    if x + 1 < n and y + 1 < m and maps[x][y+1] == maps[x+1][y] == maps[x+1][y+1] == maps[x][y]:\n",
    "        for i in range(4):\n",
    "            px,py = x+dx[i],y+dy[i]\n",
    "            check[px][py] = True\n",
    "def make(check,maps,n,m):\n",
    "    new = []\n",
    "    cnt = 0\n",
    "    for x,y in zip(check,maps):\n",
    "        tmp = []\n",
    "        for xx,yy in zip(x,y):\n",
    "            if not xx:\n",
    "                tmp.append(yy)\n",
    "            else:\n",
    "                flag = True\n",
    "                cnt += 1\n",
    "        tmp = [-1] * (m-len(tmp)) + tmp\n",
    "        new.append(tmp)\n",
    "    return cnt,new\n",
    "\n",
    "def solution(m, n, board):\n",
    "    maps = list(map(list,zip(*[list(x) for x in board])))\n",
    "    ans = 0\n",
    "    while 1:\n",
    "        check = [[False for _ in range(m)] for __ in range(n)]\n",
    "        for r in range(n):\n",
    "            for c in range(m):\n",
    "                if maps[r][c] != -1:            \n",
    "                    ftn(r,c,maps,n,m,check)\n",
    "        num,maps = make(check,maps,n,m)\n",
    "        ans += num\n",
    "        if num == 0:\n",
    "            break\n",
    "    return ans"
   ]
  },
  {
   "cell_type": "markdown",
   "metadata": {},
   "source": [
    "# 삼각 달팽이"
   ]
  },
  {
   "cell_type": "code",
   "execution_count": null,
   "metadata": {},
   "outputs": [],
   "source": [
    "from collections import deque\n",
    "def solution(n):\n",
    "    num = deque(list(range(1,(n+1)*n//2+1)))\n",
    "    ans = [[] for _ in range(n)]\n",
    "    tmp = 0;idx,r_idx, = 0,n-1; d,r,l = True,False,False\n",
    "    while num:\n",
    "        if d:\n",
    "            for nn in range(n):\n",
    "                ans[nn+tmp].insert(idx,num.popleft())\n",
    "            idx += 1;n -= 1;d = False;r = True;tmp += 2\n",
    "        elif r :\n",
    "            for nn in range(n):\n",
    "                ans[r_idx].insert(idx+nn,num.popleft())\n",
    "            r_idx -= 1; n -=1; r = False;l = True\n",
    "        elif l:\n",
    "            for nn in range(r_idx,r_idx-n,-1):\n",
    "                ans[nn].insert(idx,num.popleft())\n",
    "            n -= 1; l = False; d = True\n",
    "    return [x for y in ans for x in y]"
   ]
  },
  {
   "cell_type": "markdown",
   "metadata": {},
   "source": [
    "# 점프와 순간 이동"
   ]
  },
  {
   "cell_type": "code",
   "execution_count": null,
   "metadata": {},
   "outputs": [],
   "source": [
    "def solution(n):\n",
    "    ans = 0\n",
    "    while n:\n",
    "        n,a = divmod(n,2)\n",
    "        ans += a\n",
    "    return ans"
   ]
  },
  {
   "cell_type": "markdown",
   "metadata": {},
   "source": [
    "# [1차] 캐시"
   ]
  },
  {
   "cell_type": "code",
   "execution_count": null,
   "metadata": {},
   "outputs": [],
   "source": [
    "from collections import deque\n",
    "def solution(cacheSize, cities):\n",
    "    ans = 0\n",
    "    arr = []\n",
    "    cities = deque(cities)\n",
    "    if cacheSize == 0:\n",
    "        return len(cities) * 5\n",
    "    else:\n",
    "        while cities:\n",
    "            tmp = cities.popleft().lower()\n",
    "            if len(arr) == 0:\n",
    "                ans += 5\n",
    "                arr.append(tmp)\n",
    "            elif tmp in arr:\n",
    "                del arr[arr.index(tmp)]\n",
    "                arr.append(tmp)\n",
    "                ans += 1\n",
    "            else:\n",
    "                if len(arr) == cacheSize:\n",
    "                    arr.pop(0)\n",
    "                arr.append(tmp)\n",
    "                ans += 5\n",
    "        return ans"
   ]
  },
  {
   "cell_type": "markdown",
   "metadata": {},
   "source": [
    "# 이진 변환 반복하기"
   ]
  },
  {
   "cell_type": "code",
   "execution_count": null,
   "metadata": {},
   "outputs": [],
   "source": [
    "def solution(s):\n",
    "    ans = [0,0]\n",
    "    while s != \"1\":\n",
    "        tmp = s.count(\"0\")\n",
    "        s = bin(len(s)-tmp)[2:]\n",
    "        ans[0] += 1;ans[1] += tmp\n",
    "    return ans"
   ]
  },
  {
   "cell_type": "markdown",
   "metadata": {},
   "source": [
    "# 스킬트리"
   ]
  },
  {
   "cell_type": "code",
   "execution_count": null,
   "metadata": {},
   "outputs": [],
   "source": [
    "def solution(skill, skill_trees):\n",
    "    dg = [True] * 26\n",
    "    dic = {}\n",
    "    for sk in range(len(skill)-1):\n",
    "        dg[ord(skill[sk+1])-65] = False\n",
    "        dic[ord(skill[sk])-65] = ord(skill[sk+1])-65\n",
    "    ans = 0\n",
    "    for tree in skill_trees:\n",
    "        tmp_dg = dg[:]\n",
    "        for tr in tree:\n",
    "            if not tmp_dg[ord(tr)-65]:\n",
    "                break\n",
    "            if ord(tr)-65 in dic:\n",
    "                tmp_dg[dic[ord(tr)-65]] = True\n",
    "        else:\n",
    "            ans += 1\n",
    "    return ans"
   ]
  }
 ],
 "metadata": {
  "kernelspec": {
   "display_name": "Python 3",
   "language": "python",
   "name": "python3"
  },
  "language_info": {
   "codemirror_mode": {
    "name": "ipython",
    "version": 3
   },
   "file_extension": ".py",
   "mimetype": "text/x-python",
   "name": "python",
   "nbconvert_exporter": "python",
   "pygments_lexer": "ipython3",
   "version": "3.7.7"
  }
 },
 "nbformat": 4,
 "nbformat_minor": 4
}
