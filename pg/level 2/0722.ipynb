{
 "cells": [
  {
   "cell_type": "markdown",
   "metadata": {},
   "source": [
    "땅따먹기"
   ]
  },
  {
   "cell_type": "code",
   "execution_count": null,
   "metadata": {},
   "outputs": [],
   "source": [
    "def solution(land):    \n",
    "    st = land[0]\n",
    "    for i in range(1,len(land)):\n",
    "        st = [max(st[1],st[2],st[3]) + land[i][0],max(st[0],st[2],st[3]) + land[i][1],max(st[0],st[1],st[3]) + land[i][2],max(st[0],st[1],st[2]) + land[i][3]]\n",
    "    return max(st)"
   ]
  },
  {
   "cell_type": "markdown",
   "metadata": {},
   "source": [
    "숫자의 표현"
   ]
  },
  {
   "cell_type": "code",
   "execution_count": null,
   "metadata": {},
   "outputs": [],
   "source": [
    "def solution(n):\n",
    "    arr = list(range(1,n+1))\n",
    "    ans = 0\n",
    "    lt,rt = 0,0\n",
    "    tmp = arr[0]\n",
    "    while lt<=rt<=n:\n",
    "        if tmp == n:\n",
    "            tmp -= arr[lt]\n",
    "            lt += 1\n",
    "            ans += 1\n",
    "        elif tmp < n:\n",
    "            rt += 1\n",
    "            tmp += arr[rt]\n",
    "        else:\n",
    "            tmp -= arr[lt]\n",
    "            lt += 1\n",
    "    return ans"
   ]
  },
  {
   "cell_type": "markdown",
   "metadata": {},
   "source": [
    "최댓값과 최솟값"
   ]
  },
  {
   "cell_type": "code",
   "execution_count": null,
   "metadata": {},
   "outputs": [],
   "source": [
    "def solution(s):\n",
    "    return \" \".join([str(min(map(int,s.split(\" \")))),str(max(map(int,s.split(\" \"))))])"
   ]
  },
  {
   "cell_type": "markdown",
   "metadata": {},
   "source": [
    "최솟값 만들기"
   ]
  },
  {
   "cell_type": "code",
   "execution_count": null,
   "metadata": {},
   "outputs": [],
   "source": [
    "import heapq as hq\n",
    "def solution(A,B):\n",
    "    hq.heapify(A)\n",
    "    B = [-x for x in B]\n",
    "    hq.heapify(B)\n",
    "    ans = 0\n",
    "    while A:\n",
    "        ans -= hq.heappop(A) * hq.heappop(B)\n",
    "    return ans"
   ]
  },
  {
   "cell_type": "markdown",
   "metadata": {},
   "source": [
    "피보나치 수"
   ]
  },
  {
   "cell_type": "code",
   "execution_count": null,
   "metadata": {},
   "outputs": [],
   "source": [
    "def solution(n):\n",
    "    a,b = 0,1\n",
    "    for _ in range(n-1):\n",
    "        b,a = a+b,b\n",
    "    return b%1234567"
   ]
  },
  {
   "cell_type": "markdown",
   "metadata": {},
   "source": [
    "행렬의 곱셈"
   ]
  },
  {
   "cell_type": "code",
   "execution_count": null,
   "metadata": {},
   "outputs": [],
   "source": [
    "def solution(arr1, arr2):\n",
    "    return [[sum([tmp_x*tmp_y for tmp_x,tmp_y in zip(x,y)])  for y in list(map(list,zip(*arr2))) ] for x in arr1]"
   ]
  },
  {
   "cell_type": "markdown",
   "metadata": {},
   "source": [
    "JadenCase 문자열 만들기"
   ]
  },
  {
   "cell_type": "code",
   "execution_count": null,
   "metadata": {},
   "outputs": [],
   "source": [
    "def solution(s):\n",
    "    return \" \".join([x if x == \"\" else x[0].upper() + x[1:]  for x in s.lower().split(\" \")])"
   ]
  },
  {
   "cell_type": "markdown",
   "metadata": {},
   "source": [
    "N개의 최소공배수"
   ]
  },
  {
   "cell_type": "code",
   "execution_count": null,
   "metadata": {},
   "outputs": [],
   "source": [
    "from math import gcd\n",
    "def solution(arr):\n",
    "    tmp = arr.pop()\n",
    "    while arr:\n",
    "        v = arr.pop()\n",
    "        tmp = tmp*v//gcd(tmp,v)\n",
    "    return tmp"
   ]
  }
 ],
 "metadata": {
  "kernelspec": {
   "display_name": "Python 3",
   "language": "python",
   "name": "python3"
  },
  "language_info": {
   "codemirror_mode": {
    "name": "ipython",
    "version": 3
   },
   "file_extension": ".py",
   "mimetype": "text/x-python",
   "name": "python",
   "nbconvert_exporter": "python",
   "pygments_lexer": "ipython3",
   "version": "3.8.3"
  }
 },
 "nbformat": 4,
 "nbformat_minor": 4
}
