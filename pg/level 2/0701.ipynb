{
 "metadata": {
  "language_info": {
   "codemirror_mode": {
    "name": "ipython",
    "version": 3
   },
   "file_extension": ".py",
   "mimetype": "text/x-python",
   "name": "python",
   "nbconvert_exporter": "python",
   "pygments_lexer": "ipython3",
   "version": 3
  },
  "orig_nbformat": 4
 },
 "nbformat": 4,
 "nbformat_minor": 2,
 "cells": [
  {
   "source": [
    "짝지어 제거하기"
   ],
   "cell_type": "markdown",
   "metadata": {}
  },
  {
   "cell_type": "code",
   "execution_count": null,
   "metadata": {},
   "outputs": [],
   "source": [
    "from collections import deque\n",
    "def solution(s):\n",
    "    l = deque([])\n",
    "    r = deque(list(s))\n",
    "    while r:\n",
    "        tmp = r.popleft()\n",
    "        if len(l) == 0 or l[-1] != tmp:\n",
    "            l.append(tmp)\n",
    "        elif len(l) > 0 and l[-1] == tmp:\n",
    "            l.pop()\n",
    "    return 0 if len(l) else 1"
   ]
  },
  {
   "source": [
    "멀쩡한 사각형\n",
    "https://m.blog.naver.com/tlstjd436/221849619470\n",
    ">> ;;"
   ],
   "cell_type": "markdown",
   "metadata": {}
  },
  {
   "cell_type": "code",
   "execution_count": null,
   "metadata": {},
   "outputs": [],
   "source": [
    "from math import gcd\n",
    "def solution(w,h):\n",
    "    ans = w*h\n",
    "    if w>h:w,h=h,w\n",
    "    return ans+gcd(w,h)-w-h"
   ]
  },
  {
   "source": [
    "오픈채팅방"
   ],
   "cell_type": "markdown",
   "metadata": {}
  },
  {
   "cell_type": "code",
   "execution_count": null,
   "metadata": {},
   "outputs": [],
   "source": [
    "def solution(record):\n",
    "    dic = {}\n",
    "    ans = []\n",
    "    dic[\"A\"] = \"a\"\n",
    "    for re in record:\n",
    "        tmp = re.split()\n",
    "        if tmp[0] != \"Change\":\n",
    "            ans += [tmp[:2]]\n",
    "        if tmp[0] == \"Enter\" or tmp[0] == \"Change\":\n",
    "            dic[tmp[1]] = tmp[2]\n",
    "    return [ dic[x[1]] + \"님이 들어왔습니다.\" if x[0] == \"Enter\" else dic[x[1]]+\"님이 나갔습니다.\" for x in ans]"
   ]
  },
  {
   "source": [
    "타겟 넘버"
   ],
   "cell_type": "markdown",
   "metadata": {}
  },
  {
   "cell_type": "code",
   "execution_count": null,
   "metadata": {},
   "outputs": [],
   "source": [
    "ans = 0\n",
    "def solution(numbers, target):\n",
    "    def dfs(idx,num):\n",
    "        global ans\n",
    "        if idx == len(numbers):\n",
    "            if num == target:\n",
    "                ans+=1\n",
    "        else:\n",
    "            dfs(idx+1,num+numbers[idx])\n",
    "            dfs(idx+1,num-numbers[idx])\n",
    "    dfs(0,0)\n",
    "    return ans            "
   ]
  },
  {
   "source": [
    "124 나라의 숫자\n",
    ">> 3의 배수 마다 n에서 1을 빼줘야함\n",
    "\n",
    ">> divmode(3,3) == 1,0 >> 두개 추가됨 "
   ],
   "cell_type": "markdown",
   "metadata": {}
  },
  {
   "cell_type": "code",
   "execution_count": null,
   "metadata": {},
   "outputs": [],
   "source": [
    "def solution(n):\n",
    "    tmp = ['4','1','2']\n",
    "    ans = ''\n",
    "    while 1:\n",
    "        n,b = divmod(n,3)\n",
    "        ans = tmp[b] + ans\n",
    "        if b == 0:\n",
    "            n -= 1\n",
    "        if n == 0:\n",
    "            break\n",
    "    return ans"
   ]
  },
  {
   "source": [
    "기능개발"
   ],
   "cell_type": "markdown",
   "metadata": {}
  },
  {
   "cell_type": "code",
   "execution_count": null,
   "metadata": {},
   "outputs": [],
   "source": [
    "def solution(progresses, speeds):\n",
    "    pro = [[x,y] for x,y in zip(progresses, speeds)]\n",
    "    ans = []\n",
    "    while len(pro) > 0:\n",
    "        day = (100-pro[0][0])/pro[0][1]//1 +1 if (100-pro[0][0])/pro[0][1]%1 else (100-pro[0][0])/pro[0][1]//1\n",
    "        pro = [[x+day*y,y]for x,y in pro]\n",
    "        cnt = 0\n",
    "        for x,y in pro:\n",
    "            if x >= 100:\n",
    "                cnt += 1\n",
    "            else:\n",
    "                break\n",
    "        ans += [cnt]\n",
    "        pro = pro[cnt:]\n",
    "    return ans"
   ]
  },
  {
   "source": [
    "문자열 압축"
   ],
   "cell_type": "markdown",
   "metadata": {}
  },
  {
   "cell_type": "code",
   "execution_count": null,
   "metadata": {},
   "outputs": [],
   "source": [
    "def solution(s):\n",
    "    ans = len(s)    \n",
    "    for std in range(ans//2,0,-1):\n",
    "        start = 0\n",
    "        ch = \"\"\n",
    "        while start < len(s):\n",
    "            tmp = s[start:start+std]\n",
    "            if tmp == s[start+std:start+2*std]:\n",
    "                cnt = 1\n",
    "                while tmp == s[start+std:start+2*std]:\n",
    "                    cnt += 1\n",
    "                    start = start+std\n",
    "                ch += str(cnt) + tmp\n",
    "                start = start+std\n",
    "            else:\n",
    "                ch += tmp\n",
    "                start = start+std\n",
    "        if ans > len(ch):\n",
    "            ans = len(ch)\n",
    "    return ans"
   ]
  },
  {
   "source": [
    "더 맵게"
   ],
   "cell_type": "markdown",
   "metadata": {}
  },
  {
   "cell_type": "code",
   "execution_count": null,
   "metadata": {},
   "outputs": [],
   "source": [
    "import heapq as hq\n",
    "def solution(scoville, K):\n",
    "    hq.heapify(scoville)\n",
    "    cnt = 0\n",
    "    while 1:\n",
    "        a = hq.heappop(scoville)\n",
    "        if a >= K:\n",
    "            return cnt\n",
    "        else:\n",
    "            if len(scoville) == 0:\n",
    "                return -1\n",
    "            else:\n",
    "                hq.heappush(scoville,a+2*hq.heappop(scoville))\n",
    "                cnt += 1"
   ]
  },
  {
   "source": [
    "소수 찾기"
   ],
   "cell_type": "markdown",
   "metadata": {}
  },
  {
   "cell_type": "code",
   "execution_count": null,
   "metadata": {},
   "outputs": [],
   "source": [
    "from itertools import permutations\n",
    "def solution(numbers):\n",
    "    ch = [False,False] + [True] * (int(\"\".join(sorted(numbers,reverse = True)))-1)\n",
    "    for num in range(2,len(ch)):\n",
    "        if ch[num]:\n",
    "            for i in range(num*2,len(ch),num):\n",
    "                ch[i] = False\n",
    "    ans = 0\n",
    "    for l in range(1,len(numbers)+1):\n",
    "        tmp = list(permutations(numbers,l))\n",
    "        for i in tmp:\n",
    "            i = int(\"\".join(i))\n",
    "            if ch[i]:\n",
    "                ans +=1\n",
    "                ch[i] = False\n",
    "    return ans"
   ]
  },
  {
   "source": [
    "게임 맵 최단거리\n",
    " 맵 최단거리\n",
    ">> 배열 확인 잘하기"
   ],
   "cell_type": "markdown",
   "metadata": {}
  },
  {
   "cell_type": "code",
   "execution_count": null,
   "metadata": {},
   "outputs": [],
   "source": [
    "from collections import deque\n",
    "def solution(maps):\n",
    "    N = len(maps);M = len(maps[0])\n",
    "    visit = [[False]*M for _ in range(N)]\n",
    "    visit[0][0] = 1\n",
    "    que = deque([(0,0)])\n",
    "    dx = [0,1,0,-1];dy = [1,0,-1,0]\n",
    "    while que:\n",
    "        x,y = que.popleft()\n",
    "        for i in range(4):\n",
    "            px = x + dx[i];py = y + dy[i]\n",
    "            if 0 <= px < N and 0 <= py < M and maps[px][py] == 1:\n",
    "                if not visit[px][py] or visit[px][py] > visit[x][y] + 1:\n",
    "                    visit[px][py] = visit[x][y] + 1\n",
    "                    que.append((px,py))\n",
    "    return visit[-1][-1] if visit[-1][-1] else -1"
   ]
  },
  {
   "source": [
    "[1차] 뉴스 클러스터링"
   ],
   "cell_type": "markdown",
   "metadata": {}
  },
  {
   "cell_type": "code",
   "execution_count": null,
   "metadata": {},
   "outputs": [],
   "source": [
    "from collections import Counter\n",
    "def solution(str1, str2):\n",
    "    str1 = [str1[i-1:i+1].lower() for i in range(1,len(str1))]\n",
    "    str2 = [str2[i-1:i+1].lower() for i in range(1,len(str2))]\n",
    "    str1 = Counter([x for x in str1 if ord(\"a\")<=ord(x[0])<=ord(\"z\") and ord(\"a\")<=ord(x[1])<=ord(\"z\")])\n",
    "    str2 = Counter([x for x in str2 if ord(\"a\")<=ord(x[0])<=ord(\"z\") and ord(\"a\")<=ord(x[1])<=ord(\"z\")])\n",
    "    set1 = set(str1);    set2 = set(str2)\n",
    "    inter = set1&set2;outer = set1|set2\n",
    "    a = sum([min(str1[x],str2[x]) for x in inter])\n",
    "    b = sum([max(str1[x],str2[x]) if str1.get(x,0) and str2.get(x,0) else str1.get(x,0) + str2.get(x,0)  for x in outer])\n",
    "    return a/b*65536//1 if b else 65536"
   ]
  },
  {
   "source": [
    "가장 큰 수"
   ],
   "cell_type": "markdown",
   "metadata": {}
  },
  {
   "cell_type": "code",
   "execution_count": null,
   "metadata": {},
   "outputs": [],
   "source": [
    "def solution(numbers):\n",
    "    numbers = [(str(x),str(x)*6) for x in numbers]\n",
    "    numbers.sort(key = lambda x:-int(x[1][:6]))\n",
    "    return str(int(\"\".join([x[0] for x in numbers])))"
   ]
  },
  {
   "source": [
    "행렬 테두리 회전하기"
   ],
   "cell_type": "markdown",
   "metadata": {}
  },
  {
   "cell_type": "code",
   "execution_count": null,
   "metadata": {},
   "outputs": [],
   "source": [
    "def solution(rows, columns, queries):\n",
    "    maps = [list(range(1+i*columns,(i+1)*columns+1)) for i in range(rows)]\n",
    "    ans = []\n",
    "    for x1,y1,x2,y2 in queries:\n",
    "        tmp = maps[x1-1][y1-1]\n",
    "        tmp_ans = tmp\n",
    "        for i in range(y1,y2):\n",
    "            maps[x1-1][i],tmp = tmp,maps[x1-1][i]\n",
    "            if tmp_ans > tmp:\n",
    "                tmp_ans = tmp\n",
    "        for i in range(x1,x2):\n",
    "            maps[i][y2-1],tmp = tmp,maps[i][y2-1]\n",
    "            if tmp_ans > tmp:\n",
    "                tmp_ans = tmp\n",
    "        for i in range(y2-2,y1-2,-1):\n",
    "            maps[x2-1][i],tmp = tmp,maps[x2-1][i]\n",
    "            if tmp_ans > tmp:\n",
    "                tmp_ans = tmp\n",
    "        for i in range(x2-2,x1-2,-1):\n",
    "            maps[i][y1-1],tmp = tmp,maps[i][y1-1]\n",
    "            if tmp_ans > tmp:\n",
    "                tmp_ans = tmp\n",
    "        ans += [tmp_ans]\n",
    "    return ans\n",
    "'''\n",
    "# 예전 풀이[통과인데 시간 오래 걸림]\n",
    "def solution(rows, columns, queries):\n",
    "    matrix = [list(range(r * columns +1,r * columns + columns +1))for r in range(rows)]\n",
    "\n",
    "    ans = []\n",
    "    for x1,y1,x2,y2 in queries:\n",
    "        arr = matrix[x1 - 1][y1-1:y2]+ [matrix[i][y2-1]for i in range(x1-1,x2)][1:-1] + matrix[x2 - 1][y1-1:y2][::-1] + [matrix[i][y1-1]for i in range(x1-1,x2)][::-1][1:-1]\n",
    "        ans.append(min(arr))\n",
    "\n",
    "        arr = [arr[-1]] + arr[:-1]\n",
    "        a,b,c,d = arr[:y2-y1+1],arr[y2-y1+1: y2-y1 + x2-x1 ],arr[y2-y1+x2-x1:y2-y1+x2-x1+y2-y1+1],arr[y2-y1+x2-x1+y2-y1+1:]\n",
    "        matrix[x1 - 1][y1-1:y2] = a\n",
    "        matrix[x2 - 1][y1-1:y2] = c[::-1]\n",
    "\n",
    "        matrix = list(map(list,zip(*matrix)))\n",
    "        matrix[y2-1][x1:x2-1] = b\n",
    "        matrix[y1-1][x1:x2-1] = d[::-1]\n",
    "        matrix = list(map(list,zip(*matrix)))\n",
    "    return ans\n",
    "'''"
   ]
  },
  {
   "source": [
    "괄호 변환"
   ],
   "cell_type": "markdown",
   "metadata": {}
  },
  {
   "cell_type": "code",
   "execution_count": null,
   "metadata": {},
   "outputs": [],
   "source": [
    "def solution(p):\n",
    "    def b(p):\n",
    "        if p == \"\":\n",
    "            return \"\"\n",
    "        else:\n",
    "            l,r = 0,0\n",
    "            for i in p:\n",
    "                if i == \"(\":\n",
    "                    l+=1\n",
    "                else: \n",
    "                    r+=1\n",
    "                if l == r:\n",
    "                    break\n",
    "            return p[:l+r] + b(p[l+r:]) if p[0] == \"(\" else \"(\" + b(p[l+r:]) + \")\" + \"\".join([\"(\" if x == \")\" else \")\" for x in p[:l+r][1:-1]])\n",
    "    return b(p)"
   ]
  },
  {
   "source": [
    "튜플"
   ],
   "cell_type": "markdown",
   "metadata": {}
  },
  {
   "cell_type": "code",
   "execution_count": null,
   "metadata": {},
   "outputs": [],
   "source": [
    "import re\n",
    "def solution(s):\n",
    "    s = re.findall(\"\\{[(\\d*,)]+\\}\",s[1:-1])\n",
    "    s.sort(key = lambda x:x.count(\",\"))\n",
    "    s = [[int(v[1:-1])] if idx == 0 else list(map(int,v[1:-1].split(\",\"))) for idx,v in enumerate(s)]\n",
    "    dic = {};ans = []\n",
    "    for arr in s:\n",
    "        for v in arr:\n",
    "            if dic.get(v,0) == 0:\n",
    "                dic[v] = 1;ans.append(v)\n",
    "                break\n",
    "    return ans"
   ]
  },
  {
   "source": [
    "프린터"
   ],
   "cell_type": "markdown",
   "metadata": {}
  },
  {
   "cell_type": "code",
   "execution_count": null,
   "metadata": {},
   "outputs": [],
   "source": [
    "from collections import deque\n",
    "def solution(priorities, location):\n",
    "    pr = [0]*(10)\n",
    "    for p in priorities:\n",
    "        pr[p] += 1\n",
    "    prior = deque([(idx,v) for idx,v in enumerate(priorities)])\n",
    "    ans = 0\n",
    "    while prior:\n",
    "        while pr[-1] == 0:\n",
    "            pr.pop()\n",
    "        tmp = prior.popleft()\n",
    "        if tmp[1] == len(pr)-1:\n",
    "            pr[-1] -= 1\n",
    "            ans += 1\n",
    "            if tmp[0] == location:\n",
    "                return ans\n",
    "        else:\n",
    "            prior.append(tmp)"
   ]
  },
  {
   "source": [
    "전화번호 목록\n",
    ">> 효율성 3,4번 안되서 질문 목록 봄\n",
    "\n",
    ">> sort는 생각했는데 옆에 것만 봐도 되네;"
   ],
   "cell_type": "markdown",
   "metadata": {}
  },
  {
   "cell_type": "code",
   "execution_count": null,
   "metadata": {},
   "outputs": [],
   "source": [
    "from collections import deque\n",
    "def solution(phone_book):\n",
    "    que = deque(sorted(phone_book))   \n",
    "    std = que.popleft()\n",
    "    while que:\n",
    "        tmp = que.popleft()\n",
    "        if tmp[:len(std)] == std:\n",
    "            return False\n",
    "        else:\n",
    "            std = tmp\n",
    "    return True"
   ]
  },
  {
   "source": [
    "수식 최대화"
   ],
   "cell_type": "markdown",
   "metadata": {}
  },
  {
   "cell_type": "code",
   "execution_count": null,
   "metadata": {},
   "outputs": [],
   "source": [
    "import re\n",
    "def solution(expression):\n",
    "    digit = re.findall(\"([\\d]+)\",expression)\n",
    "    sim = re.findall(\"([\\+|\\-|\\*])\",expression)\n",
    "    orders = [[\"+\",\"-\",\"*\"],[\"+\",\"*\",\"-\"],[\"-\",\"+\",\"*\"],[\"-\",\"*\",\"+\"],[\"*\",\"+\",\"-\"],[\"*\",\"-\",\"+\"]]\n",
    "    ans = -1\n",
    "    for order in orders:\n",
    "        S = sim[:]\n",
    "        D = digit[:]\n",
    "        for od in order:\n",
    "            tmp_digit = [D.pop(0)]\n",
    "            tmp_sim = []    \n",
    "            while D:\n",
    "                tmp_d = D.pop(0)\n",
    "                tmp_s = S.pop(0)\n",
    "                if tmp_s == od:\n",
    "                    tmp_digit.append(str(eval(tmp_digit.pop()+tmp_s+tmp_d)))\n",
    "                else:\n",
    "                    tmp_sim.append(tmp_s)\n",
    "                    tmp_digit.append(tmp_d)\n",
    "            D = tmp_digit\n",
    "            S = tmp_sim\n",
    "        if ans < abs(int(D[0])):\n",
    "            ans = abs(int(D[0]))\n",
    "    return ans"
   ]
  },
  {
   "source": [
    "메뉴 리뉴얼"
   ],
   "cell_type": "markdown",
   "metadata": {}
  },
  {
   "cell_type": "code",
   "execution_count": null,
   "metadata": {},
   "outputs": [],
   "source": [
    "from itertools import combinations\n",
    "def solution(orders, course):\n",
    "    dic = {cour:{} for cour in course}\n",
    "    for order in orders:\n",
    "        order = sorted(order)\n",
    "        for cour in course:\n",
    "            if len(order)>=cour:\n",
    "                tmp = list(combinations(order,cour))\n",
    "                for x in tmp:\n",
    "                    dic[cour][x] = dic[cour].get(x,0)+1\n",
    "    ans = []\n",
    "    for cour in course:\n",
    "        if len(dic[cour]) >= 1:\n",
    "            tmp = max(dic[cour].values())\n",
    "            if tmp > 1:\n",
    "                ans += [\"\".join(k) for k,v in dic[cour].items() if v == tmp]\n",
    "    return sorted(ans)"
   ]
  },
  {
   "source": [
    "예상 대진표"
   ],
   "cell_type": "markdown",
   "metadata": {}
  },
  {
   "cell_type": "code",
   "execution_count": null,
   "metadata": {},
   "outputs": [],
   "source": [
    "def solution(n,a,b):\n",
    "    ans = 0\n",
    "    while a != b:\n",
    "        a = a//2+1 if a % 2 else a//2\n",
    "        b = b//2+1 if b % 2 else b//2\n",
    "        ans += 1\n",
    "    return ans"
   ]
  }
 ]
}