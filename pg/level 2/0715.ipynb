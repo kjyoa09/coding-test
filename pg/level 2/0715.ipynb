{
  "nbformat": 4,
  "nbformat_minor": 0,
  "metadata": {
    "colab": {
      "name": "DH.ipynb",
      "provenance": []
    },
    "kernelspec": {
      "name": "python3",
      "display_name": "Python 3"
    },
    "language_info": {
      "name": "python"
    }
  },
  "cells": [
    {
      "cell_type": "markdown",
      "metadata": {
        "id": "eqgWc1ZGZhEH"
      },
      "source": [
        "거리두기 확인하기"
      ]
    },
    {
      "cell_type": "code",
      "metadata": {
        "id": "ivl0fG2qZgZP"
      },
      "source": [
        "from itertools import combinations\n",
        "\n",
        "def ftn(arr):\n",
        "    dic = {}\n",
        "    for r in range(5):\n",
        "        for c in range(5):\n",
        "            dic[(r,c)] = arr[r][c]\n",
        "    \n",
        "    poss = list(combinations([coord for coord,v in dic.items() if v == \"P\"],2))\n",
        "    poss = [x for x in poss if abs(x[0][0] - x[1][0]) + abs(x[0][1] - x[1][1]) <= 2]\n",
        "    \n",
        "    for x in poss:\n",
        "        if x[0][0] == x[1][0]:\n",
        "            if dic[(x[0][0],min(x[0][1],x[1][1])+1)] == \"X\":\n",
        "                pass\n",
        "            else:\n",
        "                return 0\n",
        "        elif x[0][1] == x[1][1]:\n",
        "            if dic[(min(x[0][0],x[1][0])+1,x[0][1])] == \"X\":\n",
        "                pass\n",
        "            else:\n",
        "                return 0\n",
        "        else:\n",
        "            if dic[(x[0][0],x[1][1])] == dic[(x[1][0],x[0][1])] == \"X\":\n",
        "                pass\n",
        "            else:\n",
        "                return 0\n",
        "    else:\n",
        "        return 1\n",
        "\n",
        "\n",
        "        \n",
        "def solution(places):\n",
        "    ans = []\n",
        "    for place in places:\n",
        "        ans.append(ftn(place))\n",
        "    return ans"
      ],
      "execution_count": null,
      "outputs": []
    },
    {
      "cell_type": "markdown",
      "metadata": {
        "id": "FfJIYmVFZAdb"
      },
      "source": [
        "쿼드 압축 후 개수 세기\n"
      ]
    },
    {
      "cell_type": "code",
      "metadata": {
        "id": "_jfIH7VOY7va"
      },
      "source": [
        "ans = [0,0]\n",
        "def ftn(arr):\n",
        "    global ans\n",
        "    N = len(arr)\n",
        "    a,b,c,d = [],[],[],[]\n",
        "    for num in range(N):\n",
        "        if num < N//2:\n",
        "            a.append(arr[num][:N//2])\n",
        "            b.append(arr[num][N//2:])\n",
        "        else:\n",
        "            c.append(arr[num][:N//2])\n",
        "            d.append(arr[num][N//2:])\n",
        "    if len(set([x for y in a for x in y])) == 1:\n",
        "        ans[a[0][0]] += 1\n",
        "    else:\n",
        "        ftn(a)\n",
        "    if len(set([x for y in b for x in y])) == 1:\n",
        "        ans[b[0][0]] += 1\n",
        "    else:\n",
        "        ftn(b)\n",
        "    if len(set([x for y in c for x in y])) == 1:\n",
        "        ans[c[0][0]] += 1\n",
        "    else:\n",
        "        ftn(c)\n",
        "    if len(set([x for y in d for x in y])) == 1:\n",
        "        ans[d[0][0]] += 1\n",
        "    else:\n",
        "        ftn(d)\n",
        "\n",
        "def solution(arr):\n",
        "    global ans\n",
        "    if len(set([x for y in arr for x in y])) == 1:\n",
        "        ans[arr[0][0]] += 1\n",
        "    else:\n",
        "        ftn(arr)\n",
        "    return ans"
      ],
      "execution_count": null,
      "outputs": []
    },
    {
      "cell_type": "markdown",
      "metadata": {
        "id": "PW_Df12jZY7z"
      },
      "source": [
        "방문 길이"
      ]
    },
    {
      "cell_type": "code",
      "metadata": {
        "id": "5x-4V29eZZLD"
      },
      "source": [
        "from collections import defaultdict\n",
        "def solution(dirs):\n",
        "    dic = {\"L\":(-1,0),\"R\":(1,0),\"U\":(0,1),\"D\":(0,-1)}\n",
        "    now = (0,0)\n",
        "    path = defaultdict(int)\n",
        "    ans = 0\n",
        "    for d in dirs:\n",
        "        px,py = now[0] + dic[d][0],now[1] + dic[d][1]\n",
        "        if -5 <= px <=5 and -5 <= py <= 5:\n",
        "            post = (px,py)\n",
        "            tmp = tuple(sorted([post,now]))\n",
        "            if path[tmp]:\n",
        "                pass\n",
        "            else:\n",
        "                path[tmp] = 1\n",
        "                ans+=1\n",
        "            now = post\n",
        "\n",
        "    return ans"
      ],
      "execution_count": null,
      "outputs": []
    },
    {
      "cell_type": "markdown",
      "metadata": {
        "id": "-AQ44oTdZlPP"
      },
      "source": [
        "가장 큰 정사각형"
      ]
    },
    {
      "cell_type": "code",
      "metadata": {
        "id": "O4h--dfkZnP3"
      },
      "source": [
        "def solution(board):\n",
        "    R = len(board); C = len(board[0])\n",
        "    check = [[0 for _ in range(C)] for __ in range(R)]\n",
        "    ans = 0\n",
        "    for r in range(R):\n",
        "        for c in range(C):\n",
        "            if r == 0 or c == 0:\n",
        "                check[r][c] = board[r][c]\n",
        "                if board[r][c] and ans == 0:\n",
        "                    ans = 1\n",
        "            else:\n",
        "                if board[r][c]:\n",
        "                    tmp = min(check[r][c-1],check[r-1][c],check[r-1][c-1]) + 1\n",
        "                    check[r][c] = tmp\n",
        "                    if tmp > ans:\n",
        "                        ans = tmp\n",
        "    return ans**2"
      ],
      "execution_count": null,
      "outputs": []
    },
    {
      "cell_type": "markdown",
      "metadata": {
        "id": "tQO8yGB1ZuQy"
      },
      "source": [
        "방금 그곡"
      ]
    },
    {
      "cell_type": "code",
      "metadata": {
        "id": "7Yw6kFuVaAjb"
      },
      "source": [
        "'''\n",
        "import re\n",
        "def ftn(s):\n",
        "    s = re.sub(\"C#\",\"Z\",s)\n",
        "    s = re.sub(\"D#\",\"Y\",s)\n",
        "    s = re.sub(\"F#\",\"X\",s)\n",
        "    s = re.sub(\"G#\",\"W\",s)\n",
        "    s = re.sub(\"A#\",\"V\",s)\n",
        "    return s\n",
        "\n",
        "'''\n",
        "def ftn(s):\n",
        "    dic = {'C#':\"Z\",\n",
        "          'D#':\"Y\",\n",
        "          \"F#\":\"X\",\n",
        "          \"G#\":\"W\",\n",
        "          \"A#\":\"V\",\n",
        "          \"E#\":\"U\"}\n",
        "    tmp = []\n",
        "    for i in s:\n",
        "        if i == \"#\":\n",
        "            tmp.append(dic[tmp.pop()+i])\n",
        "        else:\n",
        "            tmp.append(i)\n",
        "    return \"\".join(tmp)\n",
        "def mini(s,e):\n",
        "    a,b = map(int,s.split(\":\"))\n",
        "    c,d = map(int,e.split(\":\"))\n",
        "    return (c-a)*60 + (d-b)\n",
        "def solution(m, musicinfos):\n",
        "    m = ftn(m)\n",
        "    ans = {}\n",
        "    for mu in musicinfos:\n",
        "        a,b,c,d = mu.split(\",\")\n",
        "        time = mini(a,b)        \n",
        "        d = ftn(d)\n",
        "                        \n",
        "        tot = \"\"\n",
        "        while len(tot) < time:\n",
        "            tot += d\n",
        "        tot = tot[:time]\n",
        "        if m in tot:\n",
        "            if ans.get(time,0) == 0:\n",
        "                ans[time] = c\n",
        "\n",
        "    if len(ans) == 0:\n",
        "        return \"(None)\"\n",
        "    else:\n",
        "        return ans[max(ans.keys())]"
      ],
      "execution_count": null,
      "outputs": []
    },
    {
      "cell_type": "markdown",
      "metadata": {
        "id": "imU4bgzwZ_0H"
      },
      "source": [
        "압축"
      ]
    },
    {
      "cell_type": "code",
      "metadata": {
        "id": "Cj1114r6Ztlu"
      },
      "source": [
        "def solution(msg):\n",
        "    dic = {chr(i+65):i+1 for i in range(26)}\n",
        "    ans = []\n",
        "    msg = list(msg)\n",
        "    flag = False\n",
        "   \n",
        "    while msg:\n",
        "        tmp = msg.pop(0)\n",
        "        while 1:\n",
        "            if len(msg) > 0 and dic.get(tmp + msg[0],0) == 0:\n",
        "                dic[tmp + msg[0]] = len(dic)+1\n",
        "                ans.append(dic[tmp]) \n",
        "                break\n",
        "            elif len(msg) == 0:\n",
        "                flag = True\n",
        "                break\n",
        "            else:\n",
        "                tmp = tmp + msg.pop(0)\n",
        "        if flag:\n",
        "            ans.append(dic[tmp])\n",
        "    return ans"
      ],
      "execution_count": null,
      "outputs": []
    },
    {
      "cell_type": "markdown",
      "metadata": {
        "id": "ZeAUKrbCaMZT"
      },
      "source": [
        "올바른 괄호"
      ]
    },
    {
      "cell_type": "code",
      "metadata": {
        "id": "TBVvA529aL2v"
      },
      "source": [
        "def solution(s):\n",
        "    l,r=0,0\n",
        "    for tmp in s:\n",
        "        if tmp == \")\":\n",
        "            r+=1\n",
        "        else:\n",
        "            l+=1\n",
        "        if r>l:\n",
        "            return False\n",
        "    else:\n",
        "        if r == l:\n",
        "            return True\n",
        "        else: \n",
        "            return False"
      ],
      "execution_count": null,
      "outputs": []
    },
    {
      "cell_type": "markdown",
      "metadata": {
        "id": "OVzUZ2aUZy1e"
      },
      "source": [
        "파일명 정렬"
      ]
    },
    {
      "cell_type": "code",
      "metadata": {
        "id": "dDffeP2lZ6-K"
      },
      "source": [
        "def ftn(s):\n",
        "    re = []\n",
        "    tmp = list(s)\n",
        "    head = \"\"\n",
        "    while len(tmp) >0 and tmp[0].isnumeric() == False:\n",
        "        head += tmp.pop(0)\n",
        "    number = \"\"\n",
        "    while len(tmp) >0 and tmp[0].isnumeric():\n",
        "        number += tmp.pop(0)\n",
        "    return [head,number,''.join(tmp)]\n",
        "def solution(files):\n",
        "    tmp = [ftn(x) for x in files]\n",
        "    tmp = sorted(tmp, key = lambda x:(x[0].lower(),int(x[1])))\n",
        "    tmp = [\"\".join(x) for x in tmp]\n",
        "    return tmp"
      ],
      "execution_count": null,
      "outputs": []
    },
    {
      "cell_type": "markdown",
      "metadata": {
        "id": "0AQKcZPXZtYW"
      },
      "source": [
        "N 진수 게임"
      ]
    },
    {
      "cell_type": "code",
      "metadata": {
        "id": "Frk_Wd72ZvIG"
      },
      "source": [
        "from collections import deque\n",
        "def solution(n, t, m, p):\n",
        "    std = list(\"0123456789ABCDEF\"[:n])\n",
        "    tot = \"0123456789ABCDEF\"[:n]\n",
        "    now = std[:]\n",
        "    while len(tot)<=(t+1)*m:\n",
        "        post = [x+y for x in now for y in std]\n",
        "        tot += \"\".join([x for x in post if x[0] != \"0\"])\n",
        "        now = post\n",
        "    return tot[p-1::m][:t]"
      ],
      "execution_count": null,
      "outputs": []
    },
    {
      "cell_type": "markdown",
      "metadata": {
        "id": "kVnKAgwOZz3y"
      },
      "source": [
        "다음 큰 숫자"
      ]
    },
    {
      "cell_type": "code",
      "metadata": {
        "id": "LUFlsp0qZ1JH"
      },
      "source": [
        "def solution(n):\n",
        "    return int(\"1\"+\"0\"+\"\".join(sorted(bin(n)[2:][1:])),2) if bin(n)[2:].rfind(\"01\") == -1 else int(bin(n)[2:][:bin(n)[2:].rfind(\"01\")] + \"10\" +\"\".join(sorted(bin(n)[2:][bin(n)[2:].rfind(\"01\")+2:])),2)"
      ],
      "execution_count": null,
      "outputs": []
    },
    {
      "cell_type": "markdown",
      "metadata": {
        "id": "tUwWy3Vxaf4H"
      },
      "source": [
        "조이스틱"
      ]
    },
    {
      "cell_type": "code",
      "metadata": {
        "id": "07Skl2tBafUf"
      },
      "source": [
        "from itertools import permutations\n",
        "def solution(name):\n",
        "    dic = {chr(i+65):i if i < abs(i-26) else abs(i-26)  for i in range(26)}\n",
        "    ans = sum(dic[x] for x in name)\n",
        "    tot = [idx for idx,x in enumerate(name) if x != \"A\"]\n",
        "    poss = list(permutations(tot,len(tot)))\n",
        "    t_ans = float(\"INF\")\n",
        "    for po in poss:\n",
        "        start = 0;end = len(name)\n",
        "        tmp = 0\n",
        "        for x in po:\n",
        "            if start < x:\n",
        "                right = x-start\n",
        "                left = start + end - x\n",
        "            else:\n",
        "                left = start -  x \n",
        "                right = end - start + x\n",
        "            if right < left:\n",
        "                tmp += right\n",
        "            else:\n",
        "                tmp += left\n",
        "            start = x\n",
        "            if tmp > t_ans:\n",
        "                break\n",
        "        else:\n",
        "            if tmp < t_ans:\n",
        "                t_ans = tmp\n",
        "    return ans + t_ans"
      ],
      "execution_count": null,
      "outputs": []
    }
  ]
}