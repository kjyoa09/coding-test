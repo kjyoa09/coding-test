{
 "cells": [
  {
   "cell_type": "code",
   "execution_count": 17,
   "source": [
    "# 0 : 아래\r\n",
    "# 1 : 위\r\n",
    "# 2 : 우\r\n",
    "# 3 : 좌\r\n",
    "class ftn:\r\n",
    "    def __init__(self,grid):\r\n",
    "        self.maps = [list(x) for x in grid]\r\n",
    "        self.C,self.R = len(self.maps[0]), len(self.maps)     \r\n",
    "        self.pos = [(x,y,d) for x in range(self.R) for y in range(self.C) for d in range(4)]\r\n",
    "        self.dic = {x:True for x in self.pos} \r\n",
    "    \r\n",
    "    def ss(self,coord):\r\n",
    "        r,c,d = coord\r\n",
    "        if d == 0:\r\n",
    "            r = r+1 if r+1 < self.R else 0\r\n",
    "        elif d == 1:\r\n",
    "            r = r-1 if r-1 >= 0 else self.R-1\r\n",
    "        elif d == 2:\r\n",
    "            c = r+1 if r+1 < self.C else 0\r\n",
    "        else:\r\n",
    "            c = r-1 if r-1 >= 0 else self.C-1        \r\n",
    "        return (r,c,d)\r\n",
    "    \r\n",
    "    def ll(self,coord):\r\n",
    "        r,c,d = coord\r\n",
    "        if d == 0:\r\n",
    "            c = c+1 if c+1 < self.C else 0\r\n",
    "            r = r+1 if r+1 < self.R else 0\r\n",
    "            d = 3\r\n",
    "        elif d == 1:\r\n",
    "            c = c-1 if c-1 >= 0 else self.C-1\r\n",
    "            d = 2\r\n",
    "        elif d == 2:\r\n",
    "            r = r-1 if r-1 >=0 else self.R-1\r\n",
    "            d = 1\r\n",
    "        else:\r\n",
    "            r = r+1 if r+1 < self.R else 0\r\n",
    "            d = 0        \r\n",
    "        return (r,c,d)\r\n",
    "    \r\n",
    "    def rr(self,coord): \r\n",
    "        r,c,d = coord\r\n",
    "        if d == 0:\r\n",
    "            c = c-1 if c-1 >= 0 else self.C-1\r\n",
    "            d = 2\r\n",
    "        elif d == 1:\r\n",
    "            c = c+1 if c+1 < self.C else 0\r\n",
    "            d = 3\r\n",
    "        elif d == 2:\r\n",
    "            r = r-1 if r-1 >=0 else self.R-1\r\n",
    "            d = 0\r\n",
    "        else:\r\n",
    "            r = r+1 if r+1 < self.R else 0\r\n",
    "            d = 1\r\n",
    "        return (r,c,d)    \r\n",
    "    \r\n",
    "def solution(grid):\r\n",
    "    sol = ftn(grid)\r\n",
    "    \r\n",
    "    coord = (1,1,0)\r\n",
    "\r\n",
    "    while 1:\r\n",
    "        print(coord)\r\n",
    "        if sol.maps[coord[0]][coord[1]] == 'S':\r\n",
    "            tmp = sol.ss(coord)\r\n",
    "\r\n",
    "        elif sol.maps[coord[0]][coord[1]] == 'L':\r\n",
    "            tmp = sol.ll(coord)\r\n",
    "\r\n",
    "        else:\r\n",
    "            tmp = sol.rr(coord)\r\n",
    "        \r\n",
    "        if sol.dic[tmp]:\r\n",
    "            sol.dic[tmp] = False\r\n",
    "            coord = tmp\r\n",
    "        else:\r\n",
    "            break\r\n",
    "    print(coord)"
   ],
   "outputs": [],
   "metadata": {}
  },
  {
   "cell_type": "code",
   "execution_count": 18,
   "source": [
    "solution([\"SL\", \"LR\"])"
   ],
   "outputs": [
    {
     "output_type": "stream",
     "name": "stdout",
     "text": [
      "(1, 1, 0)\n",
      "(1, 0, 2)\n",
      "(0, 0, 1)\n",
      "(1, 0, 1)\n",
      "(1, 1, 2)\n",
      "(0, 1, 0)\n",
      "(1, 0, 3)\n",
      "(0, 0, 0)\n",
      "(1, 0, 0)\n",
      "(0, 1, 3)\n",
      "(1, 1, 0)\n",
      "(1, 1, 0)\n"
     ]
    }
   ],
   "metadata": {}
  }
 ],
 "metadata": {
  "orig_nbformat": 4,
  "language_info": {
   "name": "python",
   "version": "3.8.5",
   "mimetype": "text/x-python",
   "codemirror_mode": {
    "name": "ipython",
    "version": 3
   },
   "pygments_lexer": "ipython3",
   "nbconvert_exporter": "python",
   "file_extension": ".py"
  },
  "kernelspec": {
   "name": "python3",
   "display_name": "Python 3.8.5 64-bit ('DH': conda)"
  },
  "interpreter": {
   "hash": "34039bfad4eb1e505f8576daa339440c181ec0abde8f20d178c0c32cf0e3d5ae"
  }
 },
 "nbformat": 4,
 "nbformat_minor": 2
}