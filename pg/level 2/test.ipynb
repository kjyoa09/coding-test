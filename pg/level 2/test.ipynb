{
 "cells": [
  {
   "cell_type": "code",
   "execution_count": 17,
   "metadata": {},
   "outputs": [],
   "source": [
    "# 0 : 아래\n",
    "# 1 : 위\n",
    "# 2 : 우\n",
    "# 3 : 좌\n",
    "class ftn:\n",
    "    def __init__(self,grid):\n",
    "        self.maps = [list(x) for x in grid]\n",
    "        self.C,self.R = len(self.maps[0]), len(self.maps)     \n",
    "        self.pos = [(x,y,d) for x in range(self.R) for y in range(self.C) for d in range(4)]\n",
    "        self.dic = {x:True for x in self.pos} \n",
    "    \n",
    "    def ss(self,coord):\n",
    "        r,c,d = coord\n",
    "        if d == 0:\n",
    "            r = r+1 if r+1 < self.R else 0\n",
    "        elif d == 1:\n",
    "            r = r-1 if r-1 >= 0 else self.R-1\n",
    "        elif d == 2:\n",
    "            c = r+1 if r+1 < self.C else 0\n",
    "        else:\n",
    "            c = r-1 if r-1 >= 0 else self.C-1        \n",
    "        return (r,c,d)\n",
    "    \n",
    "    def ll(self,coord):\n",
    "        r,c,d = coord\n",
    "        if d == 0:\n",
    "            c = c+1 if c+1 < self.C else 0\n",
    "            r = r+1 if r+1 < self.R else 0\n",
    "            d = 3\n",
    "        elif d == 1:\n",
    "            c = c-1 if c-1 >= 0 else self.C-1\n",
    "            d = 2\n",
    "        elif d == 2:\n",
    "            r = r-1 if r-1 >=0 else self.R-1\n",
    "            d = 1\n",
    "        else:\n",
    "            r = r+1 if r+1 < self.R else 0\n",
    "            d = 0        \n",
    "        return (r,c,d)\n",
    "    \n",
    "    def rr(self,coord): \n",
    "        r,c,d = coord\n",
    "        if d == 0:\n",
    "            c = c-1 if c-1 >= 0 else self.C-1\n",
    "            d = 2\n",
    "        elif d == 1:\n",
    "            c = c+1 if c+1 < self.C else 0\n",
    "            d = 3\n",
    "        elif d == 2:\n",
    "            r = r-1 if r-1 >=0 else self.R-1\n",
    "            d = 0\n",
    "        else:\n",
    "            r = r+1 if r+1 < self.R else 0\n",
    "            d = 1\n",
    "        return (r,c,d)    \n",
    "    \n",
    "def solution(grid):\n",
    "    sol = ftn(grid)\n",
    "    \n",
    "    coord = (1,1,0)\n",
    "\n",
    "    while 1:\n",
    "        print(coord)\n",
    "        if sol.maps[coord[0]][coord[1]] == 'S':\n",
    "            tmp = sol.ss(coord)\n",
    "\n",
    "        elif sol.maps[coord[0]][coord[1]] == 'L':\n",
    "            tmp = sol.ll(coord)\n",
    "\n",
    "        else:\n",
    "            tmp = sol.rr(coord)\n",
    "        \n",
    "        if sol.dic[tmp]:\n",
    "            sol.dic[tmp] = False\n",
    "            coord = tmp\n",
    "        else:\n",
    "            break\n",
    "    print(coord)"
   ]
  },
  {
   "cell_type": "code",
   "execution_count": 8,
   "metadata": {},
   "outputs": [
    {
     "name": "stdout",
     "output_type": "stream",
     "text": [
      "(-0.0, 4.0)\n",
      "False\n",
      "(-4.0, -4.0)\n",
      "False\n",
      "False\n",
      "False\n",
      "(4.0, -4.0)\n",
      "(4.0, 1.0)\n",
      "(-4.0, 1.0)\n",
      "False\n"
     ]
    }
   ],
   "source": [
    "solution([[2, -1, 4], [-2, -1, 4], [0, -1, 1], [5, -8, -12], [5, 8, 12]])"
   ]
  },
  {
   "cell_type": "code",
   "execution_count": 7,
   "metadata": {},
   "outputs": [
    {
     "name": "stdout",
     "output_type": "stream",
     "text": [
      "(1.0, 1.0)\n",
      "(-1.0, 1.0)\n",
      "False\n"
     ]
    }
   ],
   "source": [
    "solution([[0, 1, -1], [1, 0, -1], [1, 0, 1]])"
   ]
  },
  {
   "cell_type": "code",
   "execution_count": 10,
   "metadata": {},
   "outputs": [
    {
     "name": "stdout",
     "output_type": "stream",
     "text": [
      "(-0.0, -0.0)\n",
      "(-0.0, -0.0)\n",
      "(-0.0, -0.0)\n"
     ]
    }
   ],
   "source": [
    "solution([[1, -1, 0], [2, -1, 0], [4, -1, 0]])"
   ]
  },
  {
   "cell_type": "code",
   "execution_count": 11,
   "metadata": {},
   "outputs": [
    {
     "name": "stdout",
     "output_type": "stream",
     "text": [
      "(-0.0, -0.0)\n"
     ]
    }
   ],
   "source": [
    "solution([[1, -1, 0], [2, -1, 0]])"
   ]
  },
  {
   "cell_type": "code",
   "execution_count": 6,
   "metadata": {},
   "outputs": [],
   "source": [
    "def ftn(coord1,coord2):\n",
    "    A,B,C = coord1\n",
    "    D,E,F = coord2\n",
    "    \n",
    "    if B == 0:\n",
    "        if E == 0:\n",
    "            return False\n",
    "        x = -C/A\n",
    "        y = (-D*C/A-F)/E\n",
    "    else:\n",
    "        x = (C*E/B-F)/(D-A*E/B)\n",
    "        y = (-A*x-C)/B\n",
    "    if x == int(x) and y == int(y):\n",
    "        return x,y\n",
    "    else:\n",
    "        return False\n",
    "        \n",
    "def solution(line):\n",
    "    \n",
    "    for idx,coord1 in enumerate(line):\n",
    "        for coord2 in line[idx+1:]:\n",
    "            print(ftn(coord1,coord2))"
   ]
  },
  {
   "cell_type": "code",
   "execution_count": null,
   "metadata": {},
   "outputs": [],
   "source": [
    "def binary_search(Gold,Sil,G,S,W,T):\n",
    "    lt,rt,re,re_TF = 0,10**15,(float('inf'),[]),[True] * len(G)\n",
    "    \n",
    "    while lt <= rt:\n",
    "        mid,TF,tot,remain = (lt + rt)//2,[],0,[]\n",
    "        for g,s,w,t in zip(G,S,W,T):        \n",
    "            times = (mid//t)\n",
    "\n",
    "            if times % 2 == 1: # 편도\n",
    "                tmp = w * (times//2+1)\n",
    "                TF.append(False)\n",
    "                \n",
    "            else: # 왕복\n",
    "                tmp =  w * times//2\n",
    "                TF.append(True)\n",
    "            \n",
    "            if tmp <= Gold and tmp <= g:\n",
    "                tot += tmp\n",
    "                remain.append(0)\n",
    "                \n",
    "            elif tmp <= Gold and tmp > g:\n",
    "                tot += g\n",
    "                if tmp - g <= s:\n",
    "                    remain.append(tmp - g) \n",
    "                else :\n",
    "                    remain.append(s)\n",
    "            \n",
    "            elif tmp >= Gold and tmp <= g:\n",
    "                tot += Gold\n",
    "                if tmp - Gold <= s:\n",
    "                    remain.append(tmp - Gold)\n",
    "                else:\n",
    "                    remain.append(s)\n",
    "            \n",
    "            else: # tmp >= target and tmp > g\n",
    "                if Gold >= g:\n",
    "                    tot += g\n",
    "                    if tmp - g <= s:\n",
    "                        remain.append(tmp - g)\n",
    "                    else:\n",
    "                        remain.append(s)\n",
    "                else:\n",
    "                    tot += Gold\n",
    "                    if tmp - Gold <= s:\n",
    "                        remain.append(tmp - Gold)\n",
    "                    else:\n",
    "                        remain.append(s)\n",
    "        \n",
    "        if tot >= Gold:\n",
    "            rt = mid - 1\n",
    "            if re[0] > mid:\n",
    "                re = (mid,remain)\n",
    "                re_TF = TF\n",
    "        else:\n",
    "            lt = mid + 1\n",
    "    print(re[0])    \n",
    "    if sum(re[1]) >= Sil:\n",
    "        return re[0]\n",
    "    ans = re[0]\n",
    "\n",
    "    Sil -= sum(re[1])\n",
    "    S = [x-r for x,r in zip(S,remain)]\n",
    "    lt,rt,re = 0,2*(10**15),float('inf')\n",
    "\n",
    "    while lt<=rt:\n",
    "        mid,tot = (lt+rt)//2,0\n",
    "        \n",
    "        for s,w,t,tf in zip(S,W,T,re_TF):\n",
    "            \n",
    "            times = mid//t if tf else mid//t-1\n",
    "                    \n",
    "            tmp = w * (times//2+1) if times % 2 else w * times//2\n",
    "\n",
    "            if tmp <= s:\n",
    "                tot += tmp\n",
    "            else:\n",
    "                tot += s\n",
    "                \n",
    "        if tot >= Sil:\n",
    "            rt = mid - 1\n",
    "            if mid < re:\n",
    "                re = mid\n",
    "        else:\n",
    "            lt = mid + 1\n",
    "    return ans + re\n",
    "\n",
    "def solution(a, b, G, S, W, T):\n",
    "    \n",
    "    return min(binary_search(a,b,G,S,W,T),binary_search(b,a,S,G,W,T))\n",
    "    "
   ]
  },
  {
   "cell_type": "code",
   "execution_count": null,
   "metadata": {},
   "outputs": [],
   "source": []
  },
  {
   "cell_type": "code",
   "execution_count": 18,
   "metadata": {},
   "outputs": [
    {
     "name": "stdout",
     "output_type": "stream",
     "text": [
      "(1, 1, 0)\n",
      "(1, 0, 2)\n",
      "(0, 0, 1)\n",
      "(1, 0, 1)\n",
      "(1, 1, 2)\n",
      "(0, 1, 0)\n",
      "(1, 0, 3)\n",
      "(0, 0, 0)\n",
      "(1, 0, 0)\n",
      "(0, 1, 3)\n",
      "(1, 1, 0)\n",
      "(1, 1, 0)\n"
     ]
    }
   ],
   "source": [
    "solution([\"SL\", \"LR\"])"
   ]
  }
 ],
 "metadata": {
  "interpreter": {
   "hash": "34039bfad4eb1e505f8576daa339440c181ec0abde8f20d178c0c32cf0e3d5ae"
  },
  "kernelspec": {
   "display_name": "Python 3.8.5 64-bit ('DH': conda)",
   "name": "python3"
  },
  "language_info": {
   "codemirror_mode": {
    "name": "ipython",
    "version": 3
   },
   "file_extension": ".py",
   "mimetype": "text/x-python",
   "name": "python",
   "nbconvert_exporter": "python",
   "pygments_lexer": "ipython3",
   "version": "3.8.5"
  },
  "orig_nbformat": 4
 },
 "nbformat": 4,
 "nbformat_minor": 2
}
